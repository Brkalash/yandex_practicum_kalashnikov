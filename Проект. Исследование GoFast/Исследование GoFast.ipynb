{
 "cells": [
  {
   "cell_type": "markdown",
   "id": "5b013f8b",
   "metadata": {},
   "source": [
    "# Проект: Статистический анализ данных"
   ]
  },
  {
   "cell_type": "markdown",
   "id": "bdced281",
   "metadata": {},
   "source": [
    "## Описание проекта"
   ]
  },
  {
   "cell_type": "markdown",
   "id": "6fedc8be",
   "metadata": {},
   "source": [
    "Вы аналитик популярного сервиса аренды самокатов GoFast. Вам передали данные о некоторых пользователях из нескольких городов, а также об их поездках. Проанализируйте данные и проверьте некоторые гипотезы, которые могут помочь бизнесу вырасти.\n",
    "\n",
    "Чтобы совершать поездки по городу, пользователи сервиса GoFast пользуются мобильным приложением. Сервисом можно пользоваться:\n",
    "\n",
    "* без подписки\n",
    "  * абонентская плата отсутствует;\n",
    "  * стоимость одной минуты поездки — 8 рублей;\n",
    "  * стоимость старта (начала поездки) — 50 рублей;\n",
    "* с подпиской Ultra\n",
    "  * абонентская плата — 199 рублей в месяц;\n",
    "  * стоимость одной минуты поездки — 6 рублей;\n",
    "  * стоимость старта — бесплатно."
   ]
  },
  {
   "cell_type": "markdown",
   "id": "6c098e5d",
   "metadata": {},
   "source": [
    "## Описание данных"
   ]
  },
  {
   "cell_type": "markdown",
   "id": "ff6c34d1",
   "metadata": {},
   "source": [
    "1. Пользователи — users_go.csv:\n",
    "  * user_id — уникальный идентификатор пользователя\n",
    "  * name — имя пользователя\n",
    "  * age — возраст\n",
    "  * city — город\n",
    "  * subscription_type — тип подписки (free, ultra)\n",
    "  \n",
    "  \n",
    "2. Поездки — rides_go.csv\n",
    "   * user_id — уникальный идентификатор пользователя\n",
    "   * distance — расстояние, которое пользователь проехал в текущей сессии (в метрах)\n",
    "   * duration — продолжительность сессии (в минутах) — время с того момента, как пользователь нажал кнопку «Начать поездку» до момента, как он нажал кнопку «Завершить поездку»\n",
    "   * date — дата совершения поездки\n",
    "   \n",
    "   \n",
    "3. Подписки — subscriptions_go.csv\n",
    "   * subscription_type — тип подписки\n",
    "   * minute_price — стоимость одной минуты поездки по данной подписке\n",
    "   * start_ride_price — стоимость начала поездки\n",
    "   * subscription_fee — стоимость ежемесячного платежа"
   ]
  },
  {
   "cell_type": "markdown",
   "id": "cc88c622",
   "metadata": {},
   "source": [
    "## Импортируем данные"
   ]
  },
  {
   "cell_type": "markdown",
   "id": "e0bcacfa",
   "metadata": {},
   "source": [
    "### Импорт библиотек"
   ]
  },
  {
   "cell_type": "code",
   "execution_count": 1,
   "id": "72576667",
   "metadata": {},
   "outputs": [],
   "source": [
    "import pandas as pd\n",
    "import warnings\n",
    "warnings.filterwarnings('ignore')\n",
    "import numpy as np\n",
    "import re\n",
    "import matplotlib.pyplot as plt\n",
    "from scipy import stats as st\n",
    "from math import factorial\n",
    "from scipy.stats import binom, norm\n",
    "from math import sqrt"
   ]
  },
  {
   "cell_type": "markdown",
   "id": "304065a3",
   "metadata": {},
   "source": [
    "### Загрузка данных"
   ]
  },
  {
   "cell_type": "code",
   "execution_count": 122,
   "id": "37270ec1",
   "metadata": {},
   "outputs": [],
   "source": [
    "# создаем датафрей для файла'Пользователи'\n",
    "try: \n",
    "    data_users = pd.read_csv('/datasets/users_go.csv')\n",
    "except:\n",
    "    data_users = pd.read_csv('https://code.s3.yandex.net/datasets/users_go.csv')\n",
    "# создаем датафрей для файла'Поездки'\n",
    "try:\n",
    "    data_rides = pd.read_csv('/datasets/rides_go.csv')\n",
    "except:\n",
    "    data_rides = pd.read_csv('https://code.s3.yandex.net/datasets/rides_go.csv')\n",
    "# создаем датафрей для файла'подписки'\n",
    "try:\n",
    "    data_subscriptions = pd.read_csv('/datasets/subscriptions_go.csv')\n",
    "except:\n",
    "    data_subscriptions = pd.read_csv('https://code.s3.yandex.net//datasets/subscriptions_go.csv')"
   ]
  },
  {
   "cell_type": "markdown",
   "id": "c42cbe00",
   "metadata": {},
   "source": [
    "### Ознакомление с данными"
   ]
  },
  {
   "cell_type": "code",
   "execution_count": 124,
   "id": "eff9f206",
   "metadata": {},
   "outputs": [
    {
     "data": {
      "text/html": [
       "<div>\n",
       "<style scoped>\n",
       "    .dataframe tbody tr th:only-of-type {\n",
       "        vertical-align: middle;\n",
       "    }\n",
       "\n",
       "    .dataframe tbody tr th {\n",
       "        vertical-align: top;\n",
       "    }\n",
       "\n",
       "    .dataframe thead th {\n",
       "        text-align: right;\n",
       "    }\n",
       "</style>\n",
       "<table border=\"1\" class=\"dataframe\">\n",
       "  <thead>\n",
       "    <tr style=\"text-align: right;\">\n",
       "      <th></th>\n",
       "      <th>user_id</th>\n",
       "      <th>name</th>\n",
       "      <th>age</th>\n",
       "      <th>city</th>\n",
       "      <th>subscription_type</th>\n",
       "    </tr>\n",
       "  </thead>\n",
       "  <tbody>\n",
       "    <tr>\n",
       "      <th>0</th>\n",
       "      <td>1</td>\n",
       "      <td>Кира</td>\n",
       "      <td>22</td>\n",
       "      <td>Тюмень</td>\n",
       "      <td>ultra</td>\n",
       "    </tr>\n",
       "    <tr>\n",
       "      <th>1</th>\n",
       "      <td>2</td>\n",
       "      <td>Станислав</td>\n",
       "      <td>31</td>\n",
       "      <td>Омск</td>\n",
       "      <td>ultra</td>\n",
       "    </tr>\n",
       "    <tr>\n",
       "      <th>2</th>\n",
       "      <td>3</td>\n",
       "      <td>Алексей</td>\n",
       "      <td>20</td>\n",
       "      <td>Москва</td>\n",
       "      <td>ultra</td>\n",
       "    </tr>\n",
       "    <tr>\n",
       "      <th>3</th>\n",
       "      <td>4</td>\n",
       "      <td>Константин</td>\n",
       "      <td>26</td>\n",
       "      <td>Ростов-на-Дону</td>\n",
       "      <td>ultra</td>\n",
       "    </tr>\n",
       "    <tr>\n",
       "      <th>4</th>\n",
       "      <td>5</td>\n",
       "      <td>Адель</td>\n",
       "      <td>28</td>\n",
       "      <td>Омск</td>\n",
       "      <td>ultra</td>\n",
       "    </tr>\n",
       "  </tbody>\n",
       "</table>\n",
       "</div>"
      ],
      "text/plain": [
       "   user_id        name  age            city subscription_type\n",
       "0        1        Кира   22          Тюмень             ultra\n",
       "1        2   Станислав   31            Омск             ultra\n",
       "2        3     Алексей   20          Москва             ultra\n",
       "3        4  Константин   26  Ростов-на-Дону             ultra\n",
       "4        5       Адель   28            Омск             ultra"
      ]
     },
     "metadata": {},
     "output_type": "display_data"
    },
    {
     "name": "stdout",
     "output_type": "stream",
     "text": [
      "<class 'pandas.core.frame.DataFrame'>\n",
      "RangeIndex: 1565 entries, 0 to 1564\n",
      "Data columns (total 5 columns):\n",
      " #   Column             Non-Null Count  Dtype \n",
      "---  ------             --------------  ----- \n",
      " 0   user_id            1565 non-null   int64 \n",
      " 1   name               1565 non-null   object\n",
      " 2   age                1565 non-null   int64 \n",
      " 3   city               1565 non-null   object\n",
      " 4   subscription_type  1565 non-null   object\n",
      "dtypes: int64(2), object(3)\n",
      "memory usage: 61.3+ KB\n"
     ]
    }
   ],
   "source": [
    "#данные по пользователям \n",
    "display(data_users.head())\n",
    "data_users.info()"
   ]
  },
  {
   "cell_type": "markdown",
   "id": "ef3cc493",
   "metadata": {},
   "source": [
    "* Название и типы столбцов: user_id - Int64, name - object, age - int64, city - object,\tsubscription_type - object\n",
    "* Пропущенных значений не обнаружено\n",
    "* Всего строк: 1565, объем памяти: 61.3+ KB"
   ]
  },
  {
   "cell_type": "code",
   "execution_count": 128,
   "id": "f168d3be",
   "metadata": {},
   "outputs": [
    {
     "data": {
      "text/html": [
       "<div>\n",
       "<style scoped>\n",
       "    .dataframe tbody tr th:only-of-type {\n",
       "        vertical-align: middle;\n",
       "    }\n",
       "\n",
       "    .dataframe tbody tr th {\n",
       "        vertical-align: top;\n",
       "    }\n",
       "\n",
       "    .dataframe thead th {\n",
       "        text-align: right;\n",
       "    }\n",
       "</style>\n",
       "<table border=\"1\" class=\"dataframe\">\n",
       "  <thead>\n",
       "    <tr style=\"text-align: right;\">\n",
       "      <th></th>\n",
       "      <th>user_id</th>\n",
       "      <th>distance</th>\n",
       "      <th>duration</th>\n",
       "      <th>date</th>\n",
       "    </tr>\n",
       "  </thead>\n",
       "  <tbody>\n",
       "    <tr>\n",
       "      <th>0</th>\n",
       "      <td>1</td>\n",
       "      <td>4409.919140</td>\n",
       "      <td>25.599769</td>\n",
       "      <td>2021-01-01</td>\n",
       "    </tr>\n",
       "    <tr>\n",
       "      <th>1</th>\n",
       "      <td>1</td>\n",
       "      <td>2617.592153</td>\n",
       "      <td>15.816871</td>\n",
       "      <td>2021-01-18</td>\n",
       "    </tr>\n",
       "    <tr>\n",
       "      <th>2</th>\n",
       "      <td>1</td>\n",
       "      <td>754.159807</td>\n",
       "      <td>6.232113</td>\n",
       "      <td>2021-04-20</td>\n",
       "    </tr>\n",
       "    <tr>\n",
       "      <th>3</th>\n",
       "      <td>1</td>\n",
       "      <td>2694.783254</td>\n",
       "      <td>18.511000</td>\n",
       "      <td>2021-08-11</td>\n",
       "    </tr>\n",
       "    <tr>\n",
       "      <th>4</th>\n",
       "      <td>1</td>\n",
       "      <td>4028.687306</td>\n",
       "      <td>26.265803</td>\n",
       "      <td>2021-08-28</td>\n",
       "    </tr>\n",
       "  </tbody>\n",
       "</table>\n",
       "</div>"
      ],
      "text/plain": [
       "   user_id     distance   duration        date\n",
       "0        1  4409.919140  25.599769  2021-01-01\n",
       "1        1  2617.592153  15.816871  2021-01-18\n",
       "2        1   754.159807   6.232113  2021-04-20\n",
       "3        1  2694.783254  18.511000  2021-08-11\n",
       "4        1  4028.687306  26.265803  2021-08-28"
      ]
     },
     "metadata": {},
     "output_type": "display_data"
    },
    {
     "name": "stdout",
     "output_type": "stream",
     "text": [
      "<class 'pandas.core.frame.DataFrame'>\n",
      "RangeIndex: 18068 entries, 0 to 18067\n",
      "Data columns (total 4 columns):\n",
      " #   Column    Non-Null Count  Dtype  \n",
      "---  ------    --------------  -----  \n",
      " 0   user_id   18068 non-null  int64  \n",
      " 1   distance  18068 non-null  float64\n",
      " 2   duration  18068 non-null  float64\n",
      " 3   date      18068 non-null  object \n",
      "dtypes: float64(2), int64(1), object(1)\n",
      "memory usage: 564.8+ KB\n"
     ]
    }
   ],
   "source": [
    "#данные по поездкам\n",
    "display(data_rides.head())\n",
    "data_rides.info()"
   ]
  },
  {
   "cell_type": "markdown",
   "id": "7a9aa1ab",
   "metadata": {},
   "source": [
    "* Название столбцов: user_id - int64, distance - float64, duration - float64,\tdate - object \n",
    "* Столбец date - содержит дату, а имеет тип object, необходимо изменить тип данных на datetime64[ns]\n",
    "* Пропущенных значений не обнаружено\n",
    "* Всего строк: 18068, объем памяти: 564.8+ KB"
   ]
  },
  {
   "cell_type": "code",
   "execution_count": 131,
   "id": "71603275",
   "metadata": {},
   "outputs": [
    {
     "data": {
      "text/html": [
       "<div>\n",
       "<style scoped>\n",
       "    .dataframe tbody tr th:only-of-type {\n",
       "        vertical-align: middle;\n",
       "    }\n",
       "\n",
       "    .dataframe tbody tr th {\n",
       "        vertical-align: top;\n",
       "    }\n",
       "\n",
       "    .dataframe thead th {\n",
       "        text-align: right;\n",
       "    }\n",
       "</style>\n",
       "<table border=\"1\" class=\"dataframe\">\n",
       "  <thead>\n",
       "    <tr style=\"text-align: right;\">\n",
       "      <th></th>\n",
       "      <th>subscription_type</th>\n",
       "      <th>minute_price</th>\n",
       "      <th>start_ride_price</th>\n",
       "      <th>subscription_fee</th>\n",
       "    </tr>\n",
       "  </thead>\n",
       "  <tbody>\n",
       "    <tr>\n",
       "      <th>0</th>\n",
       "      <td>free</td>\n",
       "      <td>8</td>\n",
       "      <td>50</td>\n",
       "      <td>0</td>\n",
       "    </tr>\n",
       "    <tr>\n",
       "      <th>1</th>\n",
       "      <td>ultra</td>\n",
       "      <td>6</td>\n",
       "      <td>0</td>\n",
       "      <td>199</td>\n",
       "    </tr>\n",
       "  </tbody>\n",
       "</table>\n",
       "</div>"
      ],
      "text/plain": [
       "  subscription_type  minute_price  start_ride_price  subscription_fee\n",
       "0              free             8                50                 0\n",
       "1             ultra             6                 0               199"
      ]
     },
     "metadata": {},
     "output_type": "display_data"
    },
    {
     "name": "stdout",
     "output_type": "stream",
     "text": [
      "<class 'pandas.core.frame.DataFrame'>\n",
      "RangeIndex: 2 entries, 0 to 1\n",
      "Data columns (total 4 columns):\n",
      " #   Column             Non-Null Count  Dtype \n",
      "---  ------             --------------  ----- \n",
      " 0   subscription_type  2 non-null      object\n",
      " 1   minute_price       2 non-null      int64 \n",
      " 2   start_ride_price   2 non-null      int64 \n",
      " 3   subscription_fee   2 non-null      int64 \n",
      "dtypes: int64(3), object(1)\n",
      "memory usage: 196.0+ bytes\n"
     ]
    }
   ],
   "source": [
    "#данные по подпискам\n",
    "display(data_subscriptions.head())\n",
    "data_subscriptions.info()"
   ]
  },
  {
   "cell_type": "markdown",
   "id": "c529633d",
   "metadata": {},
   "source": [
    "* Название столбцов: subscription_type - object, minute_price - int64, start_ride_price - int64, subscription_fee - int64\n",
    "* Пропущенных значений не обнаружено\n",
    "* Всего строк: 2, объем памяти: 192.0+ bytes"
   ]
  },
  {
   "cell_type": "markdown",
   "id": "e95ebca7",
   "metadata": {},
   "source": [
    "## Предобработка данных"
   ]
  },
  {
   "cell_type": "markdown",
   "id": "9abcc269",
   "metadata": {},
   "source": [
    "### Обработка типов данных"
   ]
  },
  {
   "cell_type": "code",
   "execution_count": 136,
   "id": "12d777b7",
   "metadata": {},
   "outputs": [],
   "source": [
    "# приведем столбец date к типу datetime64[ns]\n",
    "data_rides['date'] = data_rides['date'].astype('datetime64[ns]')"
   ]
  },
  {
   "cell_type": "markdown",
   "id": "944d3d31",
   "metadata": {},
   "source": [
    "### Создаем новый столбец "
   ]
  },
  {
   "cell_type": "code",
   "execution_count": 139,
   "id": "e6a7099e",
   "metadata": {},
   "outputs": [],
   "source": [
    "# Задаем периодичность данных по годам\n",
    "data_rides['period'] = data_rides['date'].dt.year"
   ]
  },
  {
   "cell_type": "code",
   "execution_count": 141,
   "id": "8939eee9",
   "metadata": {},
   "outputs": [
    {
     "data": {
      "text/plain": [
       "array([2021])"
      ]
     },
     "execution_count": 141,
     "metadata": {},
     "output_type": "execute_result"
    }
   ],
   "source": [
    "# Проверяем за какой период по годам данные\n",
    "data_rides['period'].unique()"
   ]
  },
  {
   "cell_type": "markdown",
   "id": "bdd4c4c7",
   "metadata": {},
   "source": [
    "*Данные за 2021 год*"
   ]
  },
  {
   "cell_type": "code",
   "execution_count": 144,
   "id": "74185bb4",
   "metadata": {},
   "outputs": [],
   "source": [
    "#создаем столбец с месяцами\n",
    "data_rides['month'] = data_rides['date'].dt.month"
   ]
  },
  {
   "cell_type": "code",
   "execution_count": 146,
   "id": "f3f758e5",
   "metadata": {},
   "outputs": [
    {
     "data": {
      "text/html": [
       "<div>\n",
       "<style scoped>\n",
       "    .dataframe tbody tr th:only-of-type {\n",
       "        vertical-align: middle;\n",
       "    }\n",
       "\n",
       "    .dataframe tbody tr th {\n",
       "        vertical-align: top;\n",
       "    }\n",
       "\n",
       "    .dataframe thead th {\n",
       "        text-align: right;\n",
       "    }\n",
       "</style>\n",
       "<table border=\"1\" class=\"dataframe\">\n",
       "  <thead>\n",
       "    <tr style=\"text-align: right;\">\n",
       "      <th></th>\n",
       "      <th>user_id</th>\n",
       "      <th>distance</th>\n",
       "      <th>duration</th>\n",
       "      <th>date</th>\n",
       "      <th>period</th>\n",
       "      <th>month</th>\n",
       "    </tr>\n",
       "  </thead>\n",
       "  <tbody>\n",
       "    <tr>\n",
       "      <th>0</th>\n",
       "      <td>1</td>\n",
       "      <td>4409.919140</td>\n",
       "      <td>25.599769</td>\n",
       "      <td>2021-01-01</td>\n",
       "      <td>2021</td>\n",
       "      <td>1</td>\n",
       "    </tr>\n",
       "    <tr>\n",
       "      <th>1</th>\n",
       "      <td>1</td>\n",
       "      <td>2617.592153</td>\n",
       "      <td>15.816871</td>\n",
       "      <td>2021-01-18</td>\n",
       "      <td>2021</td>\n",
       "      <td>1</td>\n",
       "    </tr>\n",
       "    <tr>\n",
       "      <th>2</th>\n",
       "      <td>1</td>\n",
       "      <td>754.159807</td>\n",
       "      <td>6.232113</td>\n",
       "      <td>2021-04-20</td>\n",
       "      <td>2021</td>\n",
       "      <td>4</td>\n",
       "    </tr>\n",
       "    <tr>\n",
       "      <th>3</th>\n",
       "      <td>1</td>\n",
       "      <td>2694.783254</td>\n",
       "      <td>18.511000</td>\n",
       "      <td>2021-08-11</td>\n",
       "      <td>2021</td>\n",
       "      <td>8</td>\n",
       "    </tr>\n",
       "    <tr>\n",
       "      <th>4</th>\n",
       "      <td>1</td>\n",
       "      <td>4028.687306</td>\n",
       "      <td>26.265803</td>\n",
       "      <td>2021-08-28</td>\n",
       "      <td>2021</td>\n",
       "      <td>8</td>\n",
       "    </tr>\n",
       "  </tbody>\n",
       "</table>\n",
       "</div>"
      ],
      "text/plain": [
       "   user_id     distance   duration       date  period  month\n",
       "0        1  4409.919140  25.599769 2021-01-01    2021      1\n",
       "1        1  2617.592153  15.816871 2021-01-18    2021      1\n",
       "2        1   754.159807   6.232113 2021-04-20    2021      4\n",
       "3        1  2694.783254  18.511000 2021-08-11    2021      8\n",
       "4        1  4028.687306  26.265803 2021-08-28    2021      8"
      ]
     },
     "execution_count": 146,
     "metadata": {},
     "output_type": "execute_result"
    }
   ],
   "source": [
    "#проверяем результат\n",
    "data_rides.head()"
   ]
  },
  {
   "cell_type": "markdown",
   "id": "476a8161",
   "metadata": {},
   "source": [
    "### Проверяем пропуски и дубликаты"
   ]
  },
  {
   "cell_type": "code",
   "execution_count": 149,
   "id": "1ca08b3b",
   "metadata": {},
   "outputs": [
    {
     "data": {
      "text/plain": [
       "31"
      ]
     },
     "execution_count": 149,
     "metadata": {},
     "output_type": "execute_result"
    }
   ],
   "source": [
    "# Проверяем датафрейм пользователи на явные дубликаты\n",
    "data_users.duplicated().sum()"
   ]
  },
  {
   "cell_type": "code",
   "execution_count": 150,
   "id": "fd975b34",
   "metadata": {},
   "outputs": [],
   "source": [
    "#удаляем дубликаты\n",
    "data_users = data_users.drop_duplicates()"
   ]
  },
  {
   "cell_type": "code",
   "execution_count": 151,
   "id": "b873cf21",
   "metadata": {},
   "outputs": [
    {
     "data": {
      "text/plain": [
       "0"
      ]
     },
     "execution_count": 151,
     "metadata": {},
     "output_type": "execute_result"
    }
   ],
   "source": [
    "# Проверяем столбец пользователи на явные дубликаты\n",
    "data_users.duplicated().sum()"
   ]
  },
  {
   "cell_type": "markdown",
   "id": "5f8e47c8",
   "metadata": {},
   "source": [
    "Дубликаты из data_users удалены"
   ]
  },
  {
   "cell_type": "code",
   "execution_count": 154,
   "id": "65f868a1",
   "metadata": {},
   "outputs": [
    {
     "data": {
      "text/plain": [
       "0"
      ]
     },
     "execution_count": 154,
     "metadata": {},
     "output_type": "execute_result"
    }
   ],
   "source": [
    "# Проверяем датафрейм поездки на явные дубликаты\n",
    "data_rides.duplicated().sum()"
   ]
  },
  {
   "cell_type": "markdown",
   "id": "234a2d18",
   "metadata": {},
   "source": [
    "В датафрейме дубликаты не обнаружены"
   ]
  },
  {
   "cell_type": "markdown",
   "id": "812e8714",
   "metadata": {},
   "source": [
    "* В датафрейме data_subscriptions, всего 2 строки, мы видим, что они не повторяются \n",
    "* Пропусков в данных нет, это видно при обзоре данных"
   ]
  },
  {
   "cell_type": "markdown",
   "id": "212593c7",
   "metadata": {},
   "source": [
    "## Исследовательский анализ данных"
   ]
  },
  {
   "cell_type": "markdown",
   "id": "e51a7173",
   "metadata": {},
   "source": [
    "### Частота встречаемости городов"
   ]
  },
  {
   "cell_type": "code",
   "execution_count": 159,
   "id": "7ce67a22",
   "metadata": {},
   "outputs": [
    {
     "data": {
      "image/png": "[encoded data removed]",
      "text/plain": [
       "<Figure size 700x700 with 1 Axes>"
      ]
     },
     "metadata": {},
     "output_type": "display_data"
    }
   ],
   "source": [
    "city_counts = data_users['city'].value_counts()\n",
    "city_counts.plot(kind='barh', figsize=(7, 7), grid=True)\n",
    "for index, value in enumerate(city_counts):\n",
    "    plt.text(value, index, str(value))\n",
    "plt.xlim(150, 230)\n",
    "plt.title(\"Количество пользователей\")\n",
    "plt.xlabel(\"Город\")\n",
    "plt.ylabel(\"Частота встречаемости городов\")\n",
    "plt.legend()\n",
    "plt.show()"
   ]
  },
  {
   "cell_type": "markdown",
   "id": "4bb9790c",
   "metadata": {},
   "source": [
    "*Мы наблюдаем, что самое большое количество пользователей в Пятигорске, почти 220, меньше всего пользователей в Москве, почти 170*"
   ]
  },
  {
   "cell_type": "markdown",
   "id": "adeee24d",
   "metadata": {},
   "source": [
    "### Cоотношение пользователей с подпиской и без подписки"
   ]
  },
  {
   "cell_type": "code",
   "execution_count": 164,
   "id": "f347296d",
   "metadata": {},
   "outputs": [
    {
     "data": {
      "image/png": "[encoded data removed]",
      "text/plain": [
       "<Figure size 600x600 with 1 Axes>"
      ]
     },
     "metadata": {},
     "output_type": "display_data"
    }
   ],
   "source": [
    "data_users['subscription_type'].value_counts().plot(y='user_id', kind='pie', autopct='%1.1f%%', figsize=(6, 6), grid=True)\n",
    "plt.title(\"Отношение типов подписок\")\n",
    "plt.show()"
   ]
  },
  {
   "cell_type": "markdown",
   "id": "8d935179",
   "metadata": {},
   "source": [
    "*Мы видим, что количество пользователей без подписки, больше, чем количество пользователей с подпиской, на 8.8%*"
   ]
  },
  {
   "cell_type": "markdown",
   "id": "8a323b51",
   "metadata": {},
   "source": [
    "### Возраст пользователей"
   ]
  },
  {
   "cell_type": "markdown",
   "id": "7e2fcadd",
   "metadata": {},
   "source": [
    "**Так как мы имее большоее количество уникальных возрастов, разделим их на категории**"
   ]
  },
  {
   "cell_type": "code",
   "execution_count": 168,
   "id": "d2fe5fb5",
   "metadata": {},
   "outputs": [
    {
     "data": {
      "image/png": "[encoded data removed]",
      "text/plain": [
       "<Figure size 640x480 with 1 Axes>"
      ]
     },
     "metadata": {},
     "output_type": "display_data"
    }
   ],
   "source": [
    "data_users['age'].hist()\n",
    "plt.title(\"Возраст пользователей\")\n",
    "plt.xlabel(\"Категория возраста\")\n",
    "plt.ylabel(\"Количество пользователей\")\n",
    "plt.show()"
   ]
  },
  {
   "cell_type": "markdown",
   "id": "bca011e5",
   "metadata": {},
   "source": [
    "**Больше всего пользователей в возрасте около 25 лет**"
   ]
  },
  {
   "cell_type": "code",
   "execution_count": 170,
   "id": "3c4369c3",
   "metadata": {},
   "outputs": [
    {
     "data": {
      "text/plain": [
       "count    1534.000000\n",
       "mean       24.903520\n",
       "std         4.572367\n",
       "min        12.000000\n",
       "25%        22.000000\n",
       "50%        25.000000\n",
       "75%        28.000000\n",
       "max        43.000000\n",
       "Name: age, dtype: float64"
      ]
     },
     "execution_count": 170,
     "metadata": {},
     "output_type": "execute_result"
    }
   ],
   "source": [
    "data_users['age'].describe()"
   ]
  },
  {
   "cell_type": "markdown",
   "id": "d65af565",
   "metadata": {},
   "source": [
    "* Среднее значение по всем пользователям, чуть менее 25 лет\n",
    "* Лишь 25% пользователей младше 22 лет\n",
    "* 50% пользователей проезжают около 25 лет\n",
    "* 25% старше 28 лет\n",
    "* Самый молодой пользователь - 12 лет, самый взрослый пользователь - 43 года"
   ]
  },
  {
   "cell_type": "markdown",
   "id": "d7ff5ce1",
   "metadata": {},
   "source": [
    "### Расстояние, которое пользователь преодолел за одну поездку"
   ]
  },
  {
   "cell_type": "code",
   "execution_count": 173,
   "id": "d086309f",
   "metadata": {},
   "outputs": [
    {
     "data": {
      "image/png": "[encoded data removed]",
      "text/plain": [
       "<Figure size 600x600 with 1 Axes>"
      ]
     },
     "metadata": {},
     "output_type": "display_data"
    }
   ],
   "source": [
    "#Построим ящик с усами для определения выбросов\n",
    "data_rides.boxplot(column='distance', figsize=(6, 6), grid=True);\n",
    "plt.title('Диграмма размаха: Расстояние за поездку')\n",
    "plt.ylabel(\"Расстояние в метрах\")\n",
    "plt.show()"
   ]
  },
  {
   "cell_type": "markdown",
   "id": "1e03b2cb",
   "metadata": {},
   "source": [
    "**Выбросами можно считать значения более 1200 метров и 6600 метров**"
   ]
  },
  {
   "cell_type": "markdown",
   "id": "1804ade0",
   "metadata": {},
   "source": [
    "*Изучим гистограмму расстояний пользователей*"
   ]
  },
  {
   "cell_type": "code",
   "execution_count": 177,
   "id": "e8eee5e5",
   "metadata": {},
   "outputs": [
    {
     "data": {
      "image/png": "[encoded data removed]",
      "text/plain": [
       "<Figure size 600x600 with 1 Axes>"
      ]
     },
     "metadata": {},
     "output_type": "display_data"
    }
   ],
   "source": [
    "data_rides['distance'].hist(bins=100, figsize=(6, 6), grid=True);\n",
    "plt.title(\"Расстояние, которое преодолел пользователь\")\n",
    "plt.xlabel(\"Расстояние\")\n",
    "plt.ylabel(\"Количество пользователей\")\n",
    "plt.show()"
   ]
  },
  {
   "cell_type": "markdown",
   "id": "47eebd8a",
   "metadata": {},
   "source": [
    "*Видим, что в среднем пользователи проезжают чуть больше 3000 метров. Также видим всплеск слева в районе 0 - 1000 км. Это может быть связано с несколькими факторами: \"Разрядился самокат\", \"Пользователь не справился с транспортом\", \"Пользователь попал в ДТП\".*"
   ]
  },
  {
   "cell_type": "code",
   "execution_count": 179,
   "id": "497b5cd5",
   "metadata": {},
   "outputs": [
    {
     "data": {
      "text/plain": [
       "count    18068.000000\n",
       "mean      3070.659976\n",
       "std       1116.831209\n",
       "min          0.855683\n",
       "25%       2543.226360\n",
       "50%       3133.609994\n",
       "75%       3776.222735\n",
       "max       7211.007745\n",
       "Name: distance, dtype: float64"
      ]
     },
     "execution_count": 179,
     "metadata": {},
     "output_type": "execute_result"
    }
   ],
   "source": [
    "data_rides['distance'].describe()"
   ]
  },
  {
   "cell_type": "markdown",
   "id": "bb7504d2",
   "metadata": {},
   "source": [
    "* Среднее значение по всем пользователям, примерно, 3070 метров\n",
    "* Лишь 25% пользователей проезжают менее 2543 метров\n",
    "* 50% пользователей проезжают около 3133 метров\n",
    "* 25% пользователей проезжают менее 3776 метров\n",
    "* Наименьшее расстояние поездки, примерно 0.85 метра, самая длинная поездка 7211 метров"
   ]
  },
  {
   "cell_type": "markdown",
   "id": "6706d0b7",
   "metadata": {},
   "source": [
    "### Продолжительность поездок"
   ]
  },
  {
   "cell_type": "code",
   "execution_count": 182,
   "id": "75bedc38",
   "metadata": {},
   "outputs": [
    {
     "data": {
      "image/png": "[encoded data removed]",
      "text/plain": [
       "<Figure size 600x600 with 1 Axes>"
      ]
     },
     "metadata": {},
     "output_type": "display_data"
    }
   ],
   "source": [
    "#Построим ящик с усами для определения выбросов\n",
    "data_rides.boxplot(column='duration', figsize=(6, 6), grid=True)\n",
    "plt.title('Диграмма размаха: Время поездки')\n",
    "plt.ylabel(\"Время в минутах\")\n",
    "plt.show()"
   ]
  },
  {
   "cell_type": "markdown",
   "id": "26a49ad5",
   "metadata": {},
   "source": [
    "**Выбросами считать время менее 3 минут и более 38 минут**"
   ]
  },
  {
   "cell_type": "code",
   "execution_count": 184,
   "id": "50923989",
   "metadata": {},
   "outputs": [
    {
     "data": {
      "image/png": "[encoded data removed]",
      "text/plain": [
       "<Figure size 600x600 with 1 Axes>"
      ]
     },
     "metadata": {},
     "output_type": "display_data"
    }
   ],
   "source": [
    "data_rides['duration'].hist(bins=100, figsize=(6, 6), grid=True);\n",
    "plt.title(\"Продолжительность поездки\")\n",
    "plt.xlabel(\"Время\")\n",
    "plt.ylabel(\"Количество пользователей\")\n",
    "plt.show()"
   ]
  },
  {
   "cell_type": "markdown",
   "id": "26b831d4",
   "metadata": {},
   "source": [
    "**Как правило поездка длится в районе 15 - 20 минут**"
   ]
  },
  {
   "cell_type": "code",
   "execution_count": 187,
   "id": "b7fc4b81",
   "metadata": {},
   "outputs": [
    {
     "data": {
      "text/plain": [
       "count    18068.000000\n",
       "mean        17.805011\n",
       "std          6.091051\n",
       "min          0.500000\n",
       "25%         13.597563\n",
       "50%         17.678395\n",
       "75%         21.724800\n",
       "max         40.823963\n",
       "Name: duration, dtype: float64"
      ]
     },
     "execution_count": 187,
     "metadata": {},
     "output_type": "execute_result"
    }
   ],
   "source": [
    "data_rides['duration'].describe()"
   ]
  },
  {
   "cell_type": "markdown",
   "id": "99d8faa4",
   "metadata": {},
   "source": [
    "* Поездки длятся в среднем чуть менее 18 минут\n",
    "* Лишь 25% пользователей проезжают менее 13,5 минут\n",
    "* 50% пользователей проезжают около 17.5 минут\n",
    "* 25% пользователей проезжают чуть менее 22 минуты\n",
    "* Наименьшее время поездки, примерно 0,5 минуты, самая длительная поездка 40 минут"
   ]
  },
  {
   "cell_type": "code",
   "execution_count": 189,
   "id": "cd42edb7",
   "metadata": {},
   "outputs": [
    {
     "data": {
      "image/png": "[encoded data removed]",
      "text/plain": [
       "<Figure size 600x600 with 1 Axes>"
      ]
     },
     "metadata": {},
     "output_type": "display_data"
    }
   ],
   "source": [
    "data_rides['duration'].hist(bins=100, range=(0, 1), figsize=(6, 6), grid=True);\n",
    "plt.title(\"Продолжительность поездки\")\n",
    "plt.xlabel(\"Время\")\n",
    "plt.ylabel(\"Количество пользователей\")\n",
    "plt.show()"
   ]
  },
  {
   "cell_type": "markdown",
   "id": "46cc9f62",
   "metadata": {},
   "source": [
    "**Видим большой всплеск в размере 86 поездок продолжительностью полминуты**"
   ]
  },
  {
   "cell_type": "markdown",
   "id": "3f62a70f",
   "metadata": {},
   "source": [
    "*Проверим среднюю дистанцию пройденную за это время*"
   ]
  },
  {
   "cell_type": "code",
   "execution_count": 192,
   "id": "3b37672d",
   "metadata": {
    "scrolled": true
   },
   "outputs": [
    {
     "data": {
      "text/plain": [
       "user_id  distance     duration  date        period  month\n",
       "701      4196.445201  0.5       2021-08-31  2021    8        1\n",
       "1224     4430.510768  0.5       2021-01-15  2021    1        1\n",
       "1293     4704.878192  0.5       2021-02-13  2021    2        1\n",
       "1287     5944.789947  0.5       2021-12-09  2021    12       1\n",
       "1285     6316.574814  0.5       2021-09-25  2021    9        1\n",
       "                                                            ..\n",
       "937      4169.066800  0.5       2021-12-12  2021    12       1\n",
       "931      6002.236438  0.5       2021-11-10  2021    11       1\n",
       "928      4857.412920  0.5       2021-06-06  2021    6        1\n",
       "922      4620.899239  0.5       2021-01-05  2021    1        1\n",
       "1524     4103.998874  0.5       2021-06-18  2021    6        1\n",
       "Name: count, Length: 95, dtype: int64"
      ]
     },
     "execution_count": 192,
     "metadata": {},
     "output_type": "execute_result"
    }
   ],
   "source": [
    "data_rides[data_rides['duration'] ==0.5].value_counts()"
   ]
  },
  {
   "cell_type": "markdown",
   "id": "df11b9bc",
   "metadata": {},
   "source": [
    "Мы наблюдаем, что данное время содержит в себе достаточно длинные отрезки дистанции, предположительно более, 4000 метров, проверим эту догадку"
   ]
  },
  {
   "cell_type": "code",
   "execution_count": 195,
   "id": "a8ac867b",
   "metadata": {},
   "outputs": [],
   "source": [
    "#Сортируем таблицу\n",
    "filtered_data = data_rides[(data_rides['duration'] == 0.5) & (data_rides['distance'] >= 4000)]"
   ]
  },
  {
   "cell_type": "code",
   "execution_count": 196,
   "id": "a89a98eb",
   "metadata": {},
   "outputs": [
    {
     "name": "stdout",
     "output_type": "stream",
     "text": [
      "<class 'pandas.core.frame.DataFrame'>\n",
      "Index: 95 entries, 6531 to 17909\n",
      "Data columns (total 6 columns):\n",
      " #   Column    Non-Null Count  Dtype         \n",
      "---  ------    --------------  -----         \n",
      " 0   user_id   95 non-null     int64         \n",
      " 1   distance  95 non-null     float64       \n",
      " 2   duration  95 non-null     float64       \n",
      " 3   date      95 non-null     datetime64[ns]\n",
      " 4   period    95 non-null     int32         \n",
      " 5   month     95 non-null     int32         \n",
      "dtypes: datetime64[ns](1), float64(2), int32(2), int64(1)\n",
      "memory usage: 4.5 KB\n"
     ]
    }
   ],
   "source": [
    "#Смотрим информацию\n",
    "filtered_data.info()"
   ]
  },
  {
   "cell_type": "markdown",
   "id": "0f32fcbb",
   "metadata": {},
   "source": [
    "**Отфильтровав таблицу, мы видим, что количество строк совпадает, соотвественно можно предположить, что периодически при привышении расстоянии более 4000 метров, таймер ломается и показывает полминуты общего пройденого времени**"
   ]
  },
  {
   "cell_type": "markdown",
   "id": "4ef51331",
   "metadata": {},
   "source": [
    "## Объединение данных"
   ]
  },
  {
   "cell_type": "markdown",
   "id": "a8606e01",
   "metadata": {},
   "source": [
    "### Создаем единый датафрейм"
   ]
  },
  {
   "cell_type": "code",
   "execution_count": 200,
   "id": "6bf288b5",
   "metadata": {},
   "outputs": [],
   "source": [
    "#объединяем data_users и data_rides\n",
    "data = data_users.merge(data_rides, on='user_id', how='left')"
   ]
  },
  {
   "cell_type": "code",
   "execution_count": 201,
   "id": "ff6766e9",
   "metadata": {},
   "outputs": [],
   "source": [
    "#объединяем получившийся датафрейм с data_subscriptions\n",
    "data = data.merge(data_subscriptions, on='subscription_type', how='left')"
   ]
  },
  {
   "cell_type": "code",
   "execution_count": 202,
   "id": "59a9f312",
   "metadata": {},
   "outputs": [
    {
     "data": {
      "text/html": [
       "<div>\n",
       "<style scoped>\n",
       "    .dataframe tbody tr th:only-of-type {\n",
       "        vertical-align: middle;\n",
       "    }\n",
       "\n",
       "    .dataframe tbody tr th {\n",
       "        vertical-align: top;\n",
       "    }\n",
       "\n",
       "    .dataframe thead th {\n",
       "        text-align: right;\n",
       "    }\n",
       "</style>\n",
       "<table border=\"1\" class=\"dataframe\">\n",
       "  <thead>\n",
       "    <tr style=\"text-align: right;\">\n",
       "      <th></th>\n",
       "      <th>user_id</th>\n",
       "      <th>name</th>\n",
       "      <th>age</th>\n",
       "      <th>city</th>\n",
       "      <th>subscription_type</th>\n",
       "      <th>distance</th>\n",
       "      <th>duration</th>\n",
       "      <th>date</th>\n",
       "      <th>period</th>\n",
       "      <th>month</th>\n",
       "      <th>minute_price</th>\n",
       "      <th>start_ride_price</th>\n",
       "      <th>subscription_fee</th>\n",
       "    </tr>\n",
       "  </thead>\n",
       "  <tbody>\n",
       "    <tr>\n",
       "      <th>0</th>\n",
       "      <td>1</td>\n",
       "      <td>Кира</td>\n",
       "      <td>22</td>\n",
       "      <td>Тюмень</td>\n",
       "      <td>ultra</td>\n",
       "      <td>4409.919140</td>\n",
       "      <td>25.599769</td>\n",
       "      <td>2021-01-01</td>\n",
       "      <td>2021</td>\n",
       "      <td>1</td>\n",
       "      <td>6</td>\n",
       "      <td>0</td>\n",
       "      <td>199</td>\n",
       "    </tr>\n",
       "    <tr>\n",
       "      <th>1</th>\n",
       "      <td>1</td>\n",
       "      <td>Кира</td>\n",
       "      <td>22</td>\n",
       "      <td>Тюмень</td>\n",
       "      <td>ultra</td>\n",
       "      <td>2617.592153</td>\n",
       "      <td>15.816871</td>\n",
       "      <td>2021-01-18</td>\n",
       "      <td>2021</td>\n",
       "      <td>1</td>\n",
       "      <td>6</td>\n",
       "      <td>0</td>\n",
       "      <td>199</td>\n",
       "    </tr>\n",
       "    <tr>\n",
       "      <th>2</th>\n",
       "      <td>1</td>\n",
       "      <td>Кира</td>\n",
       "      <td>22</td>\n",
       "      <td>Тюмень</td>\n",
       "      <td>ultra</td>\n",
       "      <td>754.159807</td>\n",
       "      <td>6.232113</td>\n",
       "      <td>2021-04-20</td>\n",
       "      <td>2021</td>\n",
       "      <td>4</td>\n",
       "      <td>6</td>\n",
       "      <td>0</td>\n",
       "      <td>199</td>\n",
       "    </tr>\n",
       "    <tr>\n",
       "      <th>3</th>\n",
       "      <td>1</td>\n",
       "      <td>Кира</td>\n",
       "      <td>22</td>\n",
       "      <td>Тюмень</td>\n",
       "      <td>ultra</td>\n",
       "      <td>2694.783254</td>\n",
       "      <td>18.511000</td>\n",
       "      <td>2021-08-11</td>\n",
       "      <td>2021</td>\n",
       "      <td>8</td>\n",
       "      <td>6</td>\n",
       "      <td>0</td>\n",
       "      <td>199</td>\n",
       "    </tr>\n",
       "    <tr>\n",
       "      <th>4</th>\n",
       "      <td>1</td>\n",
       "      <td>Кира</td>\n",
       "      <td>22</td>\n",
       "      <td>Тюмень</td>\n",
       "      <td>ultra</td>\n",
       "      <td>4028.687306</td>\n",
       "      <td>26.265803</td>\n",
       "      <td>2021-08-28</td>\n",
       "      <td>2021</td>\n",
       "      <td>8</td>\n",
       "      <td>6</td>\n",
       "      <td>0</td>\n",
       "      <td>199</td>\n",
       "    </tr>\n",
       "  </tbody>\n",
       "</table>\n",
       "</div>"
      ],
      "text/plain": [
       "   user_id  name  age    city subscription_type     distance   duration  \\\n",
       "0        1  Кира   22  Тюмень             ultra  4409.919140  25.599769   \n",
       "1        1  Кира   22  Тюмень             ultra  2617.592153  15.816871   \n",
       "2        1  Кира   22  Тюмень             ultra   754.159807   6.232113   \n",
       "3        1  Кира   22  Тюмень             ultra  2694.783254  18.511000   \n",
       "4        1  Кира   22  Тюмень             ultra  4028.687306  26.265803   \n",
       "\n",
       "        date  period  month  minute_price  start_ride_price  subscription_fee  \n",
       "0 2021-01-01    2021      1             6                 0               199  \n",
       "1 2021-01-18    2021      1             6                 0               199  \n",
       "2 2021-04-20    2021      4             6                 0               199  \n",
       "3 2021-08-11    2021      8             6                 0               199  \n",
       "4 2021-08-28    2021      8             6                 0               199  "
      ]
     },
     "execution_count": 202,
     "metadata": {},
     "output_type": "execute_result"
    }
   ],
   "source": [
    "#выведем первые пять строк объединенного датафрейма\n",
    "data.head()"
   ]
  },
  {
   "cell_type": "code",
   "execution_count": 204,
   "id": "0672ebde",
   "metadata": {},
   "outputs": [
    {
     "name": "stdout",
     "output_type": "stream",
     "text": [
      "<class 'pandas.core.frame.DataFrame'>\n",
      "RangeIndex: 18068 entries, 0 to 18067\n",
      "Data columns (total 13 columns):\n",
      " #   Column             Non-Null Count  Dtype         \n",
      "---  ------             --------------  -----         \n",
      " 0   user_id            18068 non-null  int64         \n",
      " 1   name               18068 non-null  object        \n",
      " 2   age                18068 non-null  int64         \n",
      " 3   city               18068 non-null  object        \n",
      " 4   subscription_type  18068 non-null  object        \n",
      " 5   distance           18068 non-null  float64       \n",
      " 6   duration           18068 non-null  float64       \n",
      " 7   date               18068 non-null  datetime64[ns]\n",
      " 8   period             18068 non-null  int32         \n",
      " 9   month              18068 non-null  int32         \n",
      " 10  minute_price       18068 non-null  int64         \n",
      " 11  start_ride_price   18068 non-null  int64         \n",
      " 12  subscription_fee   18068 non-null  int64         \n",
      "dtypes: datetime64[ns](1), float64(2), int32(2), int64(5), object(3)\n",
      "memory usage: 1.7+ MB\n"
     ]
    }
   ],
   "source": [
    "data.info()"
   ]
  },
  {
   "cell_type": "markdown",
   "id": "88f2cf21",
   "metadata": {},
   "source": [
    "Данные перенесены корректно, пропусков и лишних записей не обнаружено, количество строк совпадает с количеством строк таблицы data_rides"
   ]
  },
  {
   "cell_type": "markdown",
   "id": "aa15de7d",
   "metadata": {},
   "source": [
    "**Мы получили объединенный датафрейм** "
   ]
  },
  {
   "cell_type": "markdown",
   "id": "b99bf1cf",
   "metadata": {},
   "source": [
    "### Создаем два датафрейма относительно категории"
   ]
  },
  {
   "cell_type": "code",
   "execution_count": 208,
   "id": "4d1f52b5",
   "metadata": {},
   "outputs": [],
   "source": [
    "# Создаем датафрейм с подпиской ultra\n",
    "data_ultra = data[data['subscription_type'] == 'ultra']"
   ]
  },
  {
   "cell_type": "code",
   "execution_count": 209,
   "id": "0bebb396",
   "metadata": {},
   "outputs": [
    {
     "data": {
      "text/html": [
       "<div>\n",
       "<style scoped>\n",
       "    .dataframe tbody tr th:only-of-type {\n",
       "        vertical-align: middle;\n",
       "    }\n",
       "\n",
       "    .dataframe tbody tr th {\n",
       "        vertical-align: top;\n",
       "    }\n",
       "\n",
       "    .dataframe thead th {\n",
       "        text-align: right;\n",
       "    }\n",
       "</style>\n",
       "<table border=\"1\" class=\"dataframe\">\n",
       "  <thead>\n",
       "    <tr style=\"text-align: right;\">\n",
       "      <th></th>\n",
       "      <th>user_id</th>\n",
       "      <th>name</th>\n",
       "      <th>age</th>\n",
       "      <th>city</th>\n",
       "      <th>subscription_type</th>\n",
       "      <th>distance</th>\n",
       "      <th>duration</th>\n",
       "      <th>date</th>\n",
       "      <th>period</th>\n",
       "      <th>month</th>\n",
       "      <th>minute_price</th>\n",
       "      <th>start_ride_price</th>\n",
       "      <th>subscription_fee</th>\n",
       "    </tr>\n",
       "  </thead>\n",
       "  <tbody>\n",
       "    <tr>\n",
       "      <th>0</th>\n",
       "      <td>1</td>\n",
       "      <td>Кира</td>\n",
       "      <td>22</td>\n",
       "      <td>Тюмень</td>\n",
       "      <td>ultra</td>\n",
       "      <td>4409.919140</td>\n",
       "      <td>25.599769</td>\n",
       "      <td>2021-01-01</td>\n",
       "      <td>2021</td>\n",
       "      <td>1</td>\n",
       "      <td>6</td>\n",
       "      <td>0</td>\n",
       "      <td>199</td>\n",
       "    </tr>\n",
       "    <tr>\n",
       "      <th>1</th>\n",
       "      <td>1</td>\n",
       "      <td>Кира</td>\n",
       "      <td>22</td>\n",
       "      <td>Тюмень</td>\n",
       "      <td>ultra</td>\n",
       "      <td>2617.592153</td>\n",
       "      <td>15.816871</td>\n",
       "      <td>2021-01-18</td>\n",
       "      <td>2021</td>\n",
       "      <td>1</td>\n",
       "      <td>6</td>\n",
       "      <td>0</td>\n",
       "      <td>199</td>\n",
       "    </tr>\n",
       "    <tr>\n",
       "      <th>2</th>\n",
       "      <td>1</td>\n",
       "      <td>Кира</td>\n",
       "      <td>22</td>\n",
       "      <td>Тюмень</td>\n",
       "      <td>ultra</td>\n",
       "      <td>754.159807</td>\n",
       "      <td>6.232113</td>\n",
       "      <td>2021-04-20</td>\n",
       "      <td>2021</td>\n",
       "      <td>4</td>\n",
       "      <td>6</td>\n",
       "      <td>0</td>\n",
       "      <td>199</td>\n",
       "    </tr>\n",
       "    <tr>\n",
       "      <th>3</th>\n",
       "      <td>1</td>\n",
       "      <td>Кира</td>\n",
       "      <td>22</td>\n",
       "      <td>Тюмень</td>\n",
       "      <td>ultra</td>\n",
       "      <td>2694.783254</td>\n",
       "      <td>18.511000</td>\n",
       "      <td>2021-08-11</td>\n",
       "      <td>2021</td>\n",
       "      <td>8</td>\n",
       "      <td>6</td>\n",
       "      <td>0</td>\n",
       "      <td>199</td>\n",
       "    </tr>\n",
       "    <tr>\n",
       "      <th>4</th>\n",
       "      <td>1</td>\n",
       "      <td>Кира</td>\n",
       "      <td>22</td>\n",
       "      <td>Тюмень</td>\n",
       "      <td>ultra</td>\n",
       "      <td>4028.687306</td>\n",
       "      <td>26.265803</td>\n",
       "      <td>2021-08-28</td>\n",
       "      <td>2021</td>\n",
       "      <td>8</td>\n",
       "      <td>6</td>\n",
       "      <td>0</td>\n",
       "      <td>199</td>\n",
       "    </tr>\n",
       "  </tbody>\n",
       "</table>\n",
       "</div>"
      ],
      "text/plain": [
       "   user_id  name  age    city subscription_type     distance   duration  \\\n",
       "0        1  Кира   22  Тюмень             ultra  4409.919140  25.599769   \n",
       "1        1  Кира   22  Тюмень             ultra  2617.592153  15.816871   \n",
       "2        1  Кира   22  Тюмень             ultra   754.159807   6.232113   \n",
       "3        1  Кира   22  Тюмень             ultra  2694.783254  18.511000   \n",
       "4        1  Кира   22  Тюмень             ultra  4028.687306  26.265803   \n",
       "\n",
       "        date  period  month  minute_price  start_ride_price  subscription_fee  \n",
       "0 2021-01-01    2021      1             6                 0               199  \n",
       "1 2021-01-18    2021      1             6                 0               199  \n",
       "2 2021-04-20    2021      4             6                 0               199  \n",
       "3 2021-08-11    2021      8             6                 0               199  \n",
       "4 2021-08-28    2021      8             6                 0               199  "
      ]
     },
     "execution_count": 209,
     "metadata": {},
     "output_type": "execute_result"
    }
   ],
   "source": [
    "#Смотрим результат\n",
    "data_ultra.head()"
   ]
  },
  {
   "cell_type": "code",
   "execution_count": 211,
   "id": "ecd9cfdb",
   "metadata": {},
   "outputs": [
    {
     "name": "stdout",
     "output_type": "stream",
     "text": [
      "<class 'pandas.core.frame.DataFrame'>\n",
      "Index: 6500 entries, 0 to 6499\n",
      "Data columns (total 13 columns):\n",
      " #   Column             Non-Null Count  Dtype         \n",
      "---  ------             --------------  -----         \n",
      " 0   user_id            6500 non-null   int64         \n",
      " 1   name               6500 non-null   object        \n",
      " 2   age                6500 non-null   int64         \n",
      " 3   city               6500 non-null   object        \n",
      " 4   subscription_type  6500 non-null   object        \n",
      " 5   distance           6500 non-null   float64       \n",
      " 6   duration           6500 non-null   float64       \n",
      " 7   date               6500 non-null   datetime64[ns]\n",
      " 8   period             6500 non-null   int32         \n",
      " 9   month              6500 non-null   int32         \n",
      " 10  minute_price       6500 non-null   int64         \n",
      " 11  start_ride_price   6500 non-null   int64         \n",
      " 12  subscription_fee   6500 non-null   int64         \n",
      "dtypes: datetime64[ns](1), float64(2), int32(2), int64(5), object(3)\n",
      "memory usage: 660.2+ KB\n"
     ]
    }
   ],
   "source": [
    "data_ultra.info()"
   ]
  },
  {
   "cell_type": "markdown",
   "id": "bb48826f",
   "metadata": {},
   "source": [
    "**Датафрейм ultra готов**"
   ]
  },
  {
   "cell_type": "code",
   "execution_count": 213,
   "id": "a07b68da",
   "metadata": {},
   "outputs": [],
   "source": [
    "# Создаем датафрейм без подписки\n",
    "data_free = data[data['subscription_type'] == 'free'].reset_index(drop=True)"
   ]
  },
  {
   "cell_type": "code",
   "execution_count": 214,
   "id": "3d22482f",
   "metadata": {
    "scrolled": true
   },
   "outputs": [
    {
     "data": {
      "text/html": [
       "<div>\n",
       "<style scoped>\n",
       "    .dataframe tbody tr th:only-of-type {\n",
       "        vertical-align: middle;\n",
       "    }\n",
       "\n",
       "    .dataframe tbody tr th {\n",
       "        vertical-align: top;\n",
       "    }\n",
       "\n",
       "    .dataframe thead th {\n",
       "        text-align: right;\n",
       "    }\n",
       "</style>\n",
       "<table border=\"1\" class=\"dataframe\">\n",
       "  <thead>\n",
       "    <tr style=\"text-align: right;\">\n",
       "      <th></th>\n",
       "      <th>user_id</th>\n",
       "      <th>name</th>\n",
       "      <th>age</th>\n",
       "      <th>city</th>\n",
       "      <th>subscription_type</th>\n",
       "      <th>distance</th>\n",
       "      <th>duration</th>\n",
       "      <th>date</th>\n",
       "      <th>period</th>\n",
       "      <th>month</th>\n",
       "      <th>minute_price</th>\n",
       "      <th>start_ride_price</th>\n",
       "      <th>subscription_fee</th>\n",
       "    </tr>\n",
       "  </thead>\n",
       "  <tbody>\n",
       "    <tr>\n",
       "      <th>0</th>\n",
       "      <td>700</td>\n",
       "      <td>Айдар</td>\n",
       "      <td>22</td>\n",
       "      <td>Омск</td>\n",
       "      <td>free</td>\n",
       "      <td>2515.690719</td>\n",
       "      <td>14.944286</td>\n",
       "      <td>2021-01-02</td>\n",
       "      <td>2021</td>\n",
       "      <td>1</td>\n",
       "      <td>8</td>\n",
       "      <td>50</td>\n",
       "      <td>0</td>\n",
       "    </tr>\n",
       "    <tr>\n",
       "      <th>1</th>\n",
       "      <td>700</td>\n",
       "      <td>Айдар</td>\n",
       "      <td>22</td>\n",
       "      <td>Омск</td>\n",
       "      <td>free</td>\n",
       "      <td>846.932642</td>\n",
       "      <td>16.234663</td>\n",
       "      <td>2021-02-01</td>\n",
       "      <td>2021</td>\n",
       "      <td>2</td>\n",
       "      <td>8</td>\n",
       "      <td>50</td>\n",
       "      <td>0</td>\n",
       "    </tr>\n",
       "    <tr>\n",
       "      <th>2</th>\n",
       "      <td>700</td>\n",
       "      <td>Айдар</td>\n",
       "      <td>22</td>\n",
       "      <td>Омск</td>\n",
       "      <td>free</td>\n",
       "      <td>4004.434142</td>\n",
       "      <td>20.016628</td>\n",
       "      <td>2021-02-04</td>\n",
       "      <td>2021</td>\n",
       "      <td>2</td>\n",
       "      <td>8</td>\n",
       "      <td>50</td>\n",
       "      <td>0</td>\n",
       "    </tr>\n",
       "    <tr>\n",
       "      <th>3</th>\n",
       "      <td>700</td>\n",
       "      <td>Айдар</td>\n",
       "      <td>22</td>\n",
       "      <td>Омск</td>\n",
       "      <td>free</td>\n",
       "      <td>1205.911290</td>\n",
       "      <td>9.782872</td>\n",
       "      <td>2021-02-10</td>\n",
       "      <td>2021</td>\n",
       "      <td>2</td>\n",
       "      <td>8</td>\n",
       "      <td>50</td>\n",
       "      <td>0</td>\n",
       "    </tr>\n",
       "    <tr>\n",
       "      <th>4</th>\n",
       "      <td>700</td>\n",
       "      <td>Айдар</td>\n",
       "      <td>22</td>\n",
       "      <td>Омск</td>\n",
       "      <td>free</td>\n",
       "      <td>3047.379435</td>\n",
       "      <td>17.427673</td>\n",
       "      <td>2021-02-14</td>\n",
       "      <td>2021</td>\n",
       "      <td>2</td>\n",
       "      <td>8</td>\n",
       "      <td>50</td>\n",
       "      <td>0</td>\n",
       "    </tr>\n",
       "  </tbody>\n",
       "</table>\n",
       "</div>"
      ],
      "text/plain": [
       "   user_id   name  age  city subscription_type     distance   duration  \\\n",
       "0      700  Айдар   22  Омск              free  2515.690719  14.944286   \n",
       "1      700  Айдар   22  Омск              free   846.932642  16.234663   \n",
       "2      700  Айдар   22  Омск              free  4004.434142  20.016628   \n",
       "3      700  Айдар   22  Омск              free  1205.911290   9.782872   \n",
       "4      700  Айдар   22  Омск              free  3047.379435  17.427673   \n",
       "\n",
       "        date  period  month  minute_price  start_ride_price  subscription_fee  \n",
       "0 2021-01-02    2021      1             8                50                 0  \n",
       "1 2021-02-01    2021      2             8                50                 0  \n",
       "2 2021-02-04    2021      2             8                50                 0  \n",
       "3 2021-02-10    2021      2             8                50                 0  \n",
       "4 2021-02-14    2021      2             8                50                 0  "
      ]
     },
     "execution_count": 214,
     "metadata": {},
     "output_type": "execute_result"
    }
   ],
   "source": [
    "#Смотрим результат\n",
    "data_free.head()"
   ]
  },
  {
   "cell_type": "code",
   "execution_count": 215,
   "id": "7a8c461c",
   "metadata": {
    "scrolled": true
   },
   "outputs": [
    {
     "name": "stdout",
     "output_type": "stream",
     "text": [
      "<class 'pandas.core.frame.DataFrame'>\n",
      "RangeIndex: 11568 entries, 0 to 11567\n",
      "Data columns (total 13 columns):\n",
      " #   Column             Non-Null Count  Dtype         \n",
      "---  ------             --------------  -----         \n",
      " 0   user_id            11568 non-null  int64         \n",
      " 1   name               11568 non-null  object        \n",
      " 2   age                11568 non-null  int64         \n",
      " 3   city               11568 non-null  object        \n",
      " 4   subscription_type  11568 non-null  object        \n",
      " 5   distance           11568 non-null  float64       \n",
      " 6   duration           11568 non-null  float64       \n",
      " 7   date               11568 non-null  datetime64[ns]\n",
      " 8   period             11568 non-null  int32         \n",
      " 9   month              11568 non-null  int32         \n",
      " 10  minute_price       11568 non-null  int64         \n",
      " 11  start_ride_price   11568 non-null  int64         \n",
      " 12  subscription_fee   11568 non-null  int64         \n",
      "dtypes: datetime64[ns](1), float64(2), int32(2), int64(5), object(3)\n",
      "memory usage: 1.1+ MB\n"
     ]
    }
   ],
   "source": [
    "data_free.info()"
   ]
  },
  {
   "cell_type": "markdown",
   "id": "0ad87bbe",
   "metadata": {},
   "source": [
    "**Количество строк после разъединения не изменилось, пропусков не появилось, разделенеие корректно**"
   ]
  },
  {
   "cell_type": "markdown",
   "id": "1c460b10",
   "metadata": {},
   "source": [
    "### Графики времени поездок и расстоянии для пользователей отдельных категорий"
   ]
  },
  {
   "cell_type": "markdown",
   "id": "9decfd5c",
   "metadata": {},
   "source": [
    "*Гистограмма времени поездок для клиентов*"
   ]
  },
  {
   "cell_type": "code",
   "execution_count": 219,
   "id": "e7ebc4d0",
   "metadata": {},
   "outputs": [
    {
     "data": {
      "image/png": "[encoded data removed]",
      "text/plain": [
       "<Figure size 600x600 with 1 Axes>"
      ]
     },
     "metadata": {},
     "output_type": "display_data"
    },
    {
     "data": {
      "text/plain": [
       "count    11568.000000\n",
       "mean        17.390909\n",
       "std          6.326803\n",
       "min          0.500000\n",
       "25%         12.958437\n",
       "50%         17.326890\n",
       "75%         21.594071\n",
       "max         34.948498\n",
       "Name: duration, dtype: float64"
      ]
     },
     "execution_count": 219,
     "metadata": {},
     "output_type": "execute_result"
    }
   ],
   "source": [
    "data_free['duration'].hist(bins=100, range=(3, 38), color='blue', figsize=(6, 6), grid=True, label='free');\n",
    "data_ultra['duration'].hist(bins=100, range=(3, 38), color='orange', figsize=(6, 6), grid=True, label='ultra');\n",
    "\n",
    "plt.title(\"Сравнение времени\")\n",
    "plt.xlabel(\"Время\")\n",
    "plt.ylabel(\"Частота встречаемости городов\")\n",
    "plt.legend()\n",
    "plt.show()\n",
    "data_free['duration'].describe()"
   ]
  },
  {
   "cell_type": "code",
   "execution_count": 220,
   "id": "c2e84629",
   "metadata": {},
   "outputs": [
    {
     "data": {
      "text/plain": [
       "count    6500.000000\n",
       "mean       18.541985\n",
       "std         5.572048\n",
       "min         3.760353\n",
       "25%        14.524654\n",
       "50%        18.178153\n",
       "75%        21.884129\n",
       "max        40.823963\n",
       "Name: duration, dtype: float64"
      ]
     },
     "execution_count": 220,
     "metadata": {},
     "output_type": "execute_result"
    }
   ],
   "source": [
    "data_ultra['duration'].describe()"
   ]
  },
  {
   "cell_type": "markdown",
   "id": "adc50fd4",
   "metadata": {},
   "source": [
    "* В среднем клиенты без подписки тратят на поездки около 17 минут, а клиенты с подпиской 18.5\n",
    "* 25% пользователей без подписок проезжают чуть меньше 13 мину, а 25% с подписками около 14.5 минут\n",
    "* 50% пользователей без подписок проезжают около 17 минут, 50% с подписками около 18 минут\n",
    "* 25% пользователей без подписок проезжают около 21.5 минуты, 25% пользователей с подписками проезжают чуть менее 22 минут\n",
    "**Так как наименьшее время поездки 0.5 минуты у категории free, то можно утверждать, то ошибка обнаруженная ранее, происходит только с данным типом клиентов**\n",
    "\n",
    "**Короткие поездки чаще встречаются у клиентов без подписки, длительных поездок у них тоже много, но средняя длительность поездки между двумя группами более минуты, в пользу категории ultra**"
   ]
  },
  {
   "cell_type": "markdown",
   "id": "2487e593",
   "metadata": {},
   "source": [
    "*Гистограмма расстояния поездок для клиентов с подпиской*"
   ]
  },
  {
   "cell_type": "markdown",
   "id": "99ff5876",
   "metadata": {},
   "source": [
    "**В среднем клиенты c подпиской тратят на поездки 18 минут**"
   ]
  },
  {
   "cell_type": "code",
   "execution_count": 224,
   "id": "4f045ed9",
   "metadata": {},
   "outputs": [
    {
     "data": {
      "image/png": "[encoded data removed]",
      "text/plain": [
       "<Figure size 600x600 with 1 Axes>"
      ]
     },
     "metadata": {},
     "output_type": "display_data"
    },
    {
     "data": {
      "text/plain": [
       "count    11568.000000\n",
       "mean      3045.495282\n",
       "std       1246.173806\n",
       "min          0.855683\n",
       "25%       2366.562689\n",
       "50%       3114.648465\n",
       "75%       3905.697894\n",
       "max       7211.007745\n",
       "Name: distance, dtype: float64"
      ]
     },
     "execution_count": 224,
     "metadata": {},
     "output_type": "execute_result"
    }
   ],
   "source": [
    "data_free['distance'].hist(bins=100, range=(1200, 6600), color='blue', figsize=(6, 6), grid=True, label='free');\n",
    "data_ultra['distance'].hist(bins=100, range=(1200, 6600), color='orange', figsize=(6, 6), grid=True, label='ultra');\n",
    "\n",
    "plt.title(\"Сравнение расстояния\")\n",
    "plt.xlabel(\"Расстояние\")\n",
    "plt.ylabel(\"Количество клиентов\")\n",
    "plt.legend()\n",
    "plt.show()\n",
    "data_free['distance'].describe()"
   ]
  },
  {
   "cell_type": "code",
   "execution_count": 225,
   "id": "54f0eef8",
   "metadata": {},
   "outputs": [
    {
     "data": {
      "text/plain": [
       "count    6500.000000\n",
       "mean     3115.445388\n",
       "std       836.895330\n",
       "min       244.210438\n",
       "25%      2785.444017\n",
       "50%      3148.637229\n",
       "75%      3560.574425\n",
       "max      5699.769662\n",
       "Name: distance, dtype: float64"
      ]
     },
     "execution_count": 225,
     "metadata": {},
     "output_type": "execute_result"
    }
   ],
   "source": [
    "data_ultra['distance'].describe()"
   ]
  },
  {
   "cell_type": "markdown",
   "id": "e0ffe3ae",
   "metadata": {},
   "source": [
    "* В среднем клиенты без подписки проезжают 3045 метров, а клиенты с подпиской 3115\n",
    "* 25% пользователей без подписок проезжают чуть меньше 2366 метров, а 25% с подписками около 2785\n",
    "* 50% пользователей без подписок проезжают около 3114 метров, 50% с подписками около 3148 \n",
    "* 25% пользователей без подписок проезжают около 3905 метров, 25% пользователей с подписками проезжают чуть 3560\n",
    "\n",
    "\n",
    "**Клиенты с подпиской ultra и free в среднем проезжают примерно одинаковое расстояние, но 25% пользователей с free в срднем проезжают 3905 метров, почти на 400 метров дальше, чем клиенты с подпиской, но при этом 25% пользователей с free проезжают 2366, что на 400 метров меньше, чем проезжают 25% пользователей с подпиской.**"
   ]
  },
  {
   "cell_type": "markdown",
   "id": "402d620f",
   "metadata": {},
   "source": [
    "## Подсчёт выручки"
   ]
  },
  {
   "cell_type": "markdown",
   "id": "a8b6ab8a",
   "metadata": {},
   "source": [
    "### Создаем датафрейм с данными о поездках помесячно"
   ]
  },
  {
   "cell_type": "code",
   "execution_count": 229,
   "id": "ad0fbcd2",
   "metadata": {},
   "outputs": [],
   "source": [
    "#Округляем длительность поездок\n",
    "data['duration'] = np.ceil(data['duration']) "
   ]
  },
  {
   "cell_type": "code",
   "execution_count": 230,
   "id": "def605b4",
   "metadata": {},
   "outputs": [
    {
     "data": {
      "text/html": [
       "<div>\n",
       "<style scoped>\n",
       "    .dataframe tbody tr th:only-of-type {\n",
       "        vertical-align: middle;\n",
       "    }\n",
       "\n",
       "    .dataframe tbody tr th {\n",
       "        vertical-align: top;\n",
       "    }\n",
       "\n",
       "    .dataframe thead th {\n",
       "        text-align: right;\n",
       "    }\n",
       "</style>\n",
       "<table border=\"1\" class=\"dataframe\">\n",
       "  <thead>\n",
       "    <tr style=\"text-align: right;\">\n",
       "      <th></th>\n",
       "      <th>user_id</th>\n",
       "      <th>name</th>\n",
       "      <th>month</th>\n",
       "      <th>subscription_type</th>\n",
       "      <th>number_trips</th>\n",
       "      <th>total_distance</th>\n",
       "      <th>total_duration</th>\n",
       "      <th>minute_price</th>\n",
       "      <th>start_ride_price</th>\n",
       "      <th>subscription_fee</th>\n",
       "    </tr>\n",
       "  </thead>\n",
       "  <tbody>\n",
       "    <tr>\n",
       "      <th>0</th>\n",
       "      <td>1</td>\n",
       "      <td>Кира</td>\n",
       "      <td>1</td>\n",
       "      <td>ultra</td>\n",
       "      <td>2</td>\n",
       "      <td>7027.511294</td>\n",
       "      <td>42.0</td>\n",
       "      <td>6.0</td>\n",
       "      <td>0.0</td>\n",
       "      <td>199.0</td>\n",
       "    </tr>\n",
       "    <tr>\n",
       "      <th>1</th>\n",
       "      <td>1</td>\n",
       "      <td>Кира</td>\n",
       "      <td>4</td>\n",
       "      <td>ultra</td>\n",
       "      <td>1</td>\n",
       "      <td>754.159807</td>\n",
       "      <td>7.0</td>\n",
       "      <td>6.0</td>\n",
       "      <td>0.0</td>\n",
       "      <td>199.0</td>\n",
       "    </tr>\n",
       "    <tr>\n",
       "      <th>2</th>\n",
       "      <td>1</td>\n",
       "      <td>Кира</td>\n",
       "      <td>8</td>\n",
       "      <td>ultra</td>\n",
       "      <td>2</td>\n",
       "      <td>6723.470560</td>\n",
       "      <td>46.0</td>\n",
       "      <td>6.0</td>\n",
       "      <td>0.0</td>\n",
       "      <td>199.0</td>\n",
       "    </tr>\n",
       "    <tr>\n",
       "      <th>3</th>\n",
       "      <td>1</td>\n",
       "      <td>Кира</td>\n",
       "      <td>10</td>\n",
       "      <td>ultra</td>\n",
       "      <td>2</td>\n",
       "      <td>5809.911100</td>\n",
       "      <td>32.0</td>\n",
       "      <td>6.0</td>\n",
       "      <td>0.0</td>\n",
       "      <td>199.0</td>\n",
       "    </tr>\n",
       "    <tr>\n",
       "      <th>4</th>\n",
       "      <td>1</td>\n",
       "      <td>Кира</td>\n",
       "      <td>11</td>\n",
       "      <td>ultra</td>\n",
       "      <td>3</td>\n",
       "      <td>7003.499363</td>\n",
       "      <td>56.0</td>\n",
       "      <td>6.0</td>\n",
       "      <td>0.0</td>\n",
       "      <td>199.0</td>\n",
       "    </tr>\n",
       "  </tbody>\n",
       "</table>\n",
       "</div>"
      ],
      "text/plain": [
       "   user_id  name  month subscription_type  number_trips  total_distance  \\\n",
       "0        1  Кира      1             ultra             2     7027.511294   \n",
       "1        1  Кира      4             ultra             1      754.159807   \n",
       "2        1  Кира      8             ultra             2     6723.470560   \n",
       "3        1  Кира     10             ultra             2     5809.911100   \n",
       "4        1  Кира     11             ultra             3     7003.499363   \n",
       "\n",
       "   total_duration  minute_price  start_ride_price  subscription_fee  \n",
       "0            42.0           6.0               0.0             199.0  \n",
       "1             7.0           6.0               0.0             199.0  \n",
       "2            46.0           6.0               0.0             199.0  \n",
       "3            32.0           6.0               0.0             199.0  \n",
       "4            56.0           6.0               0.0             199.0  "
      ]
     },
     "execution_count": 230,
     "metadata": {},
     "output_type": "execute_result"
    }
   ],
   "source": [
    "data_month = data.pivot_table(index=['user_id', 'name', 'month', 'subscription_type'], \\\n",
    "                      values=['distance', 'duration', 'minute_price', 'start_ride_price', 'subscription_fee'],\\\n",
    "                              aggfunc={'distance':['sum', 'count'], 'duration':'sum',\\\n",
    "                                                    'minute_price':'mean', 'start_ride_price':'mean', 'subscription_fee':'mean'})\n",
    "                                                                \n",
    "data_month.columns = ['number_trips', 'total_distance', 'total_duration', 'minute_price', 'start_ride_price', 'subscription_fee']\n",
    "\n",
    "data_month = data_month.reset_index()\n",
    "\n",
    "# Смотрим результат\n",
    "data_month.head()"
   ]
  },
  {
   "cell_type": "code",
   "execution_count": 231,
   "id": "dca79670",
   "metadata": {},
   "outputs": [
    {
     "name": "stdout",
     "output_type": "stream",
     "text": [
      "<class 'pandas.core.frame.DataFrame'>\n",
      "RangeIndex: 11331 entries, 0 to 11330\n",
      "Data columns (total 10 columns):\n",
      " #   Column             Non-Null Count  Dtype  \n",
      "---  ------             --------------  -----  \n",
      " 0   user_id            11331 non-null  int64  \n",
      " 1   name               11331 non-null  object \n",
      " 2   month              11331 non-null  int32  \n",
      " 3   subscription_type  11331 non-null  object \n",
      " 4   number_trips       11331 non-null  int64  \n",
      " 5   total_distance     11331 non-null  float64\n",
      " 6   total_duration     11331 non-null  float64\n",
      " 7   minute_price       11331 non-null  float64\n",
      " 8   start_ride_price   11331 non-null  float64\n",
      " 9   subscription_fee   11331 non-null  float64\n",
      "dtypes: float64(5), int32(1), int64(2), object(2)\n",
      "memory usage: 841.1+ KB\n"
     ]
    }
   ],
   "source": [
    "data_month.info()"
   ]
  },
  {
   "cell_type": "markdown",
   "id": "ee55b4a9",
   "metadata": {},
   "source": [
    "**В получившимся датафрейме 11331 строка, пропусков нет**"
   ]
  },
  {
   "cell_type": "markdown",
   "id": "dbaf4b41",
   "metadata": {},
   "source": [
    "### Добавляем столбецы с помесячной выручкой"
   ]
  },
  {
   "cell_type": "markdown",
   "id": "8b3bb5a7",
   "metadata": {},
   "source": [
    "*Создаем стобец с помесячной выручкой для клиентов без подписки*"
   ]
  },
  {
   "cell_type": "code",
   "execution_count": 235,
   "id": "e637175f",
   "metadata": {},
   "outputs": [],
   "source": [
    "# Расчитываем помесячную формулу выручки без подписки\n",
    "data_month['revenue'] = data_month['minute_price']*data_month['total_duration']+data_month['start_ride_price']*data_month['number_trips']+data_month['subscription_fee']"
   ]
  },
  {
   "cell_type": "code",
   "execution_count": 236,
   "id": "3f284d19",
   "metadata": {
    "scrolled": true
   },
   "outputs": [
    {
     "data": {
      "text/html": [
       "<div>\n",
       "<style scoped>\n",
       "    .dataframe tbody tr th:only-of-type {\n",
       "        vertical-align: middle;\n",
       "    }\n",
       "\n",
       "    .dataframe tbody tr th {\n",
       "        vertical-align: top;\n",
       "    }\n",
       "\n",
       "    .dataframe thead th {\n",
       "        text-align: right;\n",
       "    }\n",
       "</style>\n",
       "<table border=\"1\" class=\"dataframe\">\n",
       "  <thead>\n",
       "    <tr style=\"text-align: right;\">\n",
       "      <th></th>\n",
       "      <th>user_id</th>\n",
       "      <th>name</th>\n",
       "      <th>month</th>\n",
       "      <th>subscription_type</th>\n",
       "      <th>number_trips</th>\n",
       "      <th>total_distance</th>\n",
       "      <th>total_duration</th>\n",
       "      <th>minute_price</th>\n",
       "      <th>start_ride_price</th>\n",
       "      <th>subscription_fee</th>\n",
       "      <th>revenue</th>\n",
       "    </tr>\n",
       "  </thead>\n",
       "  <tbody>\n",
       "    <tr>\n",
       "      <th>0</th>\n",
       "      <td>1</td>\n",
       "      <td>Кира</td>\n",
       "      <td>1</td>\n",
       "      <td>ultra</td>\n",
       "      <td>2</td>\n",
       "      <td>7027.511294</td>\n",
       "      <td>42.0</td>\n",
       "      <td>6.0</td>\n",
       "      <td>0.0</td>\n",
       "      <td>199.0</td>\n",
       "      <td>451.0</td>\n",
       "    </tr>\n",
       "    <tr>\n",
       "      <th>1</th>\n",
       "      <td>1</td>\n",
       "      <td>Кира</td>\n",
       "      <td>4</td>\n",
       "      <td>ultra</td>\n",
       "      <td>1</td>\n",
       "      <td>754.159807</td>\n",
       "      <td>7.0</td>\n",
       "      <td>6.0</td>\n",
       "      <td>0.0</td>\n",
       "      <td>199.0</td>\n",
       "      <td>241.0</td>\n",
       "    </tr>\n",
       "    <tr>\n",
       "      <th>2</th>\n",
       "      <td>1</td>\n",
       "      <td>Кира</td>\n",
       "      <td>8</td>\n",
       "      <td>ultra</td>\n",
       "      <td>2</td>\n",
       "      <td>6723.470560</td>\n",
       "      <td>46.0</td>\n",
       "      <td>6.0</td>\n",
       "      <td>0.0</td>\n",
       "      <td>199.0</td>\n",
       "      <td>475.0</td>\n",
       "    </tr>\n",
       "    <tr>\n",
       "      <th>3</th>\n",
       "      <td>1</td>\n",
       "      <td>Кира</td>\n",
       "      <td>10</td>\n",
       "      <td>ultra</td>\n",
       "      <td>2</td>\n",
       "      <td>5809.911100</td>\n",
       "      <td>32.0</td>\n",
       "      <td>6.0</td>\n",
       "      <td>0.0</td>\n",
       "      <td>199.0</td>\n",
       "      <td>391.0</td>\n",
       "    </tr>\n",
       "    <tr>\n",
       "      <th>4</th>\n",
       "      <td>1</td>\n",
       "      <td>Кира</td>\n",
       "      <td>11</td>\n",
       "      <td>ultra</td>\n",
       "      <td>3</td>\n",
       "      <td>7003.499363</td>\n",
       "      <td>56.0</td>\n",
       "      <td>6.0</td>\n",
       "      <td>0.0</td>\n",
       "      <td>199.0</td>\n",
       "      <td>535.0</td>\n",
       "    </tr>\n",
       "  </tbody>\n",
       "</table>\n",
       "</div>"
      ],
      "text/plain": [
       "   user_id  name  month subscription_type  number_trips  total_distance  \\\n",
       "0        1  Кира      1             ultra             2     7027.511294   \n",
       "1        1  Кира      4             ultra             1      754.159807   \n",
       "2        1  Кира      8             ultra             2     6723.470560   \n",
       "3        1  Кира     10             ultra             2     5809.911100   \n",
       "4        1  Кира     11             ultra             3     7003.499363   \n",
       "\n",
       "   total_duration  minute_price  start_ride_price  subscription_fee  revenue  \n",
       "0            42.0           6.0               0.0             199.0    451.0  \n",
       "1             7.0           6.0               0.0             199.0    241.0  \n",
       "2            46.0           6.0               0.0             199.0    475.0  \n",
       "3            32.0           6.0               0.0             199.0    391.0  \n",
       "4            56.0           6.0               0.0             199.0    535.0  "
      ]
     },
     "execution_count": 236,
     "metadata": {},
     "output_type": "execute_result"
    }
   ],
   "source": [
    "#Смотрим результат\n",
    "data_month.head()"
   ]
  },
  {
   "cell_type": "code",
   "execution_count": 237,
   "id": "47255c42",
   "metadata": {},
   "outputs": [
    {
     "name": "stdout",
     "output_type": "stream",
     "text": [
      "<class 'pandas.core.frame.DataFrame'>\n",
      "RangeIndex: 11331 entries, 0 to 11330\n",
      "Data columns (total 11 columns):\n",
      " #   Column             Non-Null Count  Dtype  \n",
      "---  ------             --------------  -----  \n",
      " 0   user_id            11331 non-null  int64  \n",
      " 1   name               11331 non-null  object \n",
      " 2   month              11331 non-null  int32  \n",
      " 3   subscription_type  11331 non-null  object \n",
      " 4   number_trips       11331 non-null  int64  \n",
      " 5   total_distance     11331 non-null  float64\n",
      " 6   total_duration     11331 non-null  float64\n",
      " 7   minute_price       11331 non-null  float64\n",
      " 8   start_ride_price   11331 non-null  float64\n",
      " 9   subscription_fee   11331 non-null  float64\n",
      " 10  revenue            11331 non-null  float64\n",
      "dtypes: float64(6), int32(1), int64(2), object(2)\n",
      "memory usage: 929.6+ KB\n"
     ]
    }
   ],
   "source": [
    "data_month.info()"
   ]
  },
  {
   "cell_type": "markdown",
   "id": "5815689a",
   "metadata": {},
   "source": [
    "**Столбец добавлен**"
   ]
  },
  {
   "cell_type": "markdown",
   "id": "41545ac0",
   "metadata": {},
   "source": [
    "## Проверка гипотез"
   ]
  },
  {
   "cell_type": "markdown",
   "id": "f8d4e5e6",
   "metadata": {},
   "source": [
    "### Гипотеза 1"
   ]
  },
  {
   "cell_type": "markdown",
   "id": "bb7204d7",
   "metadata": {},
   "source": [
    "*Важно понять, тратят ли пользователи с подпиской больше времени на поездки? Если да, то пользователи с подпиской могут быть «выгоднее» для компании. Проверьте гипотезу. Используйте исходные данные о продолжительности каждой сессии — отдельно для подписчиков и тех, у кого нет подписки.*\n",
    "\n",
    "**Н0: Пользователи с подпиской тратят столько же времени сколько пользователи без подписки**\n",
    "\n",
    "\n",
    "**Н1: Пользователи с подпиской тратят больше времени на поездки, чем пользователи без подписки**\n",
    "\n",
    "* Проверяем альтернативную гипотезу, как одностороннюю гипотезу для средних двух генеральных совокупностей"
   ]
  },
  {
   "cell_type": "code",
   "execution_count": 243,
   "id": "23ea867b",
   "metadata": {
    "scrolled": true
   },
   "outputs": [
    {
     "name": "stdout",
     "output_type": "stream",
     "text": [
      "p-value: 5.6757813771289775e-37\n",
      "Отвергаем нулевую гипотезу\n"
     ]
    }
   ],
   "source": [
    "alpha = 0.05\n",
    "\n",
    "results = st.ttest_ind(data_ultra['duration'], data_free['duration'], alternative='greater', equal_var=False)\n",
    "\n",
    "print(f'p-value: {results.pvalue}')\n",
    "\n",
    "# проверяем p-value\n",
    "if results.pvalue < alpha:\n",
    "    print('Отвергаем нулевую гипотезу')\n",
    "else:\n",
    "    print('Нет оснований отвергнуть нулевую гипотезу')"
   ]
  },
  {
   "cell_type": "markdown",
   "id": "a7ad79e7",
   "metadata": {},
   "source": [
    "**При p-value = 1.28 мы отвергаем нулевую гипотезу. При текущих данных можно утверждать, что пользователи с подпиской тратят больше времени на поездки. Пользователи с подпиской более выгодны для компании.**"
   ]
  },
  {
   "cell_type": "markdown",
   "id": "8c40fb16",
   "metadata": {},
   "source": [
    "### Гипотеза 2"
   ]
  },
  {
   "cell_type": "markdown",
   "id": "77f53a95",
   "metadata": {},
   "source": [
    "*Расстояние одной поездки в 3130 метров — оптимальное с точки зрения износа самоката. Можно ли сказать, что расстояние, которое проезжают пользователи с подпиской за одну поездку, не превышает 3130 метров? Проверьте гипотезу и сделайте выводы.*\n",
    "\n",
    "**Н0: Пользователи с подпиской проезжают 3130**\n",
    "\n",
    "\n",
    "**Н1: Пользователи с подпиской проезжают более 3130**\n",
    "* Проверяем альтернативную гипотезу, как одностороннюю гипотезу"
   ]
  },
  {
   "cell_type": "code",
   "execution_count": 247,
   "id": "23362670",
   "metadata": {},
   "outputs": [
    {
     "name": "stdout",
     "output_type": "stream",
     "text": [
      "p-value: 0.9195368847849785\n",
      "Не отвергаем нулевую гипотезу\n"
     ]
    }
   ],
   "source": [
    "alpha = 0.05\n",
    "\n",
    "max_distance = 3130\n",
    "\n",
    "results = st.ttest_1samp(\n",
    "    data_ultra['distance'], \n",
    "    max_distance,\n",
    "      alternative='greater')\n",
    "\n",
    "print('p-value:', results.pvalue)\n",
    "\n",
    "if (results.pvalue < alpha):\n",
    "    print('Отвергаем нулевую гипотезу')\n",
    "else:\n",
    "    print('Не отвергаем нулевую гипотезу') "
   ]
  },
  {
   "cell_type": "markdown",
   "id": "2b3026e6",
   "metadata": {},
   "source": [
    "**При p-value = 0.9195368847849785 у нас нет оснований отвергать нулевую гипотезу. Из чего следует, что клиенты не проезжают более 3130 метров. Пользователи с подпиской в среднем не превышают оптимальное расстояние с точки зрения износостойкости.**"
   ]
  },
  {
   "cell_type": "markdown",
   "id": "5a673f64",
   "metadata": {},
   "source": [
    "### Гипотеза 3"
   ]
  },
  {
   "cell_type": "markdown",
   "id": "593035a2",
   "metadata": {},
   "source": [
    "*Проверьте гипотезу о том, будет ли помесячная выручка от пользователей с подпиской по месяцам выше, чем выручка от пользователей без подписки. Сделайте вывод.*\n",
    "\n",
    "**Н0: Ежемесячная выручка от пользователей с подпиской такая же как от пользователей без подписки**\n",
    "\n",
    "\n",
    "**Н1: Пользователи с подпиской приносят ежемесячно больше денег, чем пользователи без подписки**\n",
    "\n",
    "* Проверяем альтернативную гипотезу, как одностороннюю гипотезу для средних двух генеральных совокупностей"
   ]
  },
  {
   "cell_type": "code",
   "execution_count": 252,
   "id": "effc555c",
   "metadata": {},
   "outputs": [
    {
     "name": "stdout",
     "output_type": "stream",
     "text": [
      "p-value: 8.874140893976874e-40\n",
      "Отвергаем нулевую гипотезу\n"
     ]
    }
   ],
   "source": [
    "alpha = 0.05\n",
    "\n",
    "results = st.ttest_ind(data_month[data_month['subscription_type'] == 'ultra']['revenue'], data_month[data_month['subscription_type'] == 'free']['revenue'], alternative='greater', equal_var=False)\n",
    "\n",
    "print(f'p-value: {results.pvalue}')\n",
    "\n",
    "# проверяем p-value\n",
    "if results.pvalue < alpha:\n",
    "    print('Отвергаем нулевую гипотезу')\n",
    "else:\n",
    "    print('Нет оснований отвергнуть нулевую гипотезу')"
   ]
  },
  {
   "cell_type": "markdown",
   "id": "003f6198",
   "metadata": {},
   "source": [
    "**При p-value = 1.188 мы отвергаем нулевую гипотезу. Имея текущие данные мы можем утверждать, что пользователи с подпиской приносят больше денег, чем пользователи без подписки**"
   ]
  },
  {
   "cell_type": "markdown",
   "id": "5817de56",
   "metadata": {},
   "source": [
    "### Гипотеза 4"
   ]
  },
  {
   "cell_type": "markdown",
   "id": "823984ea",
   "metadata": {},
   "source": [
    "*Представьте такую ситуацию: техническая команда сервиса обновила сервера, с которыми взаимодействует мобильное приложение. Она надеется, что из-за этого количество обращений в техподдержку значимо снизилось. Некоторый файл содержит для каждого пользователя данные о количестве обращений до обновления и после него. Какой тест вам понадобился бы для проверки этой гипотезы?*\n",
    "\n",
    "**Н0: Количество запросов в поддержку до обновления такое же, как и количество обращений после обновления сервера**\n",
    "\n",
    "\n",
    "**Н1: Количество запросов в поддержку после обновления уменьшилось, относительно количества обращений до обновления**\n",
    "\n",
    "* Для ответа на эту гипотезу мы бы использовали: 'Гипотезу о равенстве средних для зависимых (парных) выборок', потому что проверяем одну и ту же генеральную совокупность до изменения и после, у нас была выборка с исходным количеством обращений в поддержку, затем техническая команда обновила сервер и унас появилась выборка с количеством обращений после изменения"
   ]
  },
  {
   "cell_type": "markdown",
   "id": "61213c5e",
   "metadata": {},
   "source": [
    "## Распределения"
   ]
  },
  {
   "cell_type": "markdown",
   "id": "9ffd111d",
   "metadata": {},
   "source": [
    "### Задание 1"
   ]
  },
  {
   "cell_type": "markdown",
   "id": "3ec31fcb",
   "metadata": {},
   "source": [
    " *Отделу маркетинга GoFast поставили задачу: нужно провести акцию с раздачей промокодов на один бесплатный месяц подписки, в рамках которой как минимум 100 существующих клиентов должны продлить эту подписку. То есть по завершении периода действия подписки пользователь может либо отказаться от неё, либо продлить, совершив соответствующий платёж. \n",
    "Эта акция уже проводилась ранее и по итогу выяснилось, что после бесплатного пробного периода подписку продлевают 10 % пользователей. Выясните, какое минимальное количество промокодов нужно разослать, чтобы вероятность не выполнить план была примерно 5 %. Подберите параметры распределения, описывающего эту ситуацию, постройте график распределения и сформулируйте ответ на вопрос о количестве промокодов.*\n",
    "\n",
    "\n",
    "* Предположим, что для выполнения плана нам необходимо разослать минимум 1157 кодов, соответсвенно n = 1157\n",
    "* При коневерссии в 10% p = 0.1\n",
    "* Для невыполнения плана нам необходимо 99 промокодов, x = 99"
   ]
  },
  {
   "cell_type": "code",
   "execution_count": 260,
   "id": "17bc4cec",
   "metadata": {},
   "outputs": [
    {
     "name": "stdout",
     "output_type": "stream",
     "text": [
      "Результат применения кумулятивной функции: 0.0509\n"
     ]
    }
   ],
   "source": [
    "n = 1157\n",
    "p = 0.1\n",
    "\n",
    "mu = n*p\n",
    "sigma = sqrt(n * p * (1 - p))\n",
    "\n",
    "distr = st.norm(mu, sigma)\n",
    "\n",
    "x = 99\n",
    "\n",
    "result = distr.cdf(x)\n",
    "\n",
    "print(f'Результат применения кумулятивной функции: {result:.4f}')"
   ]
  },
  {
   "cell_type": "markdown",
   "id": "af0b33d6",
   "metadata": {},
   "source": [
    "**Из чего следует, что для выполнения плана на 95% нам необходимо разослать минимум 855 писем**"
   ]
  },
  {
   "cell_type": "code",
   "execution_count": 262,
   "id": "17855aa5",
   "metadata": {},
   "outputs": [
    {
     "data": {
      "image/png": "[encoded data removed]",
      "text/plain": [
       "<Figure size 640x480 with 1 Axes>"
      ]
     },
     "metadata": {},
     "output_type": "display_data"
    }
   ],
   "source": [
    "n = 1157\n",
    "p = 0.1\n",
    "\n",
    "distr = []\n",
    "\n",
    "for k in range(0, n + 1):\n",
    "    current_value = binom.pmf(k, n, p)\n",
    "    distr.append(current_value)\n",
    "    \n",
    "plt.bar(range(0, n+1), distr)\n",
    "plt.title(\"Переход промокодов в подписки\")\n",
    "plt.xlabel(\"Количество подписок\")\n",
    "plt.ylabel(\"Вероятность\")\n",
    "plt.xlim(70, 160)\n",
    "plt.ylim(0, 0.05)\n",
    "plt.show()"
   ]
  },
  {
   "cell_type": "markdown",
   "id": "f56b6ea0",
   "metadata": {},
   "source": [
    "**Построенный график имеет нормальное распределение, его математическое ожидание = 115, наиболее вероятное значение тоже находится в районе 115 подписок**  "
   ]
  },
  {
   "cell_type": "markdown",
   "id": "9be3fbf0",
   "metadata": {},
   "source": [
    "### Задание 2"
   ]
  },
  {
   "cell_type": "markdown",
   "id": "034d1482",
   "metadata": {},
   "source": [
    "*Отдел маркетинга рассылает клиентам push-уведомления в мобильном приложении. Клиенты могут открыть его или не открывать. Известно, что уведомления открывают около 40 % получивших клиентов. Отдел планирует разослать 1 млн уведомлений. С помощью аппроксимации постройте примерный график распределения и оцените вероятность того, что уведомление откроют не более 399,5 тыс. пользователей.*\n",
    "\n",
    "* Количество сообщений, которые нужно разослать - 1 000 000, соответсвенно n = 1 000 000\n",
    "* Мы знаем, что уведомления открывают примерно - 40% получивших сообщения клиентов, соотвественно p = 0.4\n",
    "* Нам необходимо узнать вероятность того, что уведомленомения откроют не более 399500 пользователей"
   ]
  },
  {
   "cell_type": "code",
   "execution_count": 268,
   "id": "87073c28",
   "metadata": {},
   "outputs": [
    {
     "name": "stdout",
     "output_type": "stream",
     "text": [
      "Вероятность того, что уведомление откроют не более 399500 пользователей: 0.1537\n"
     ]
    }
   ],
   "source": [
    "# Задаем параметры биноминального распределения\n",
    "n = 1000000\n",
    "p = 0.4\n",
    "\n",
    "# Расчитываем параметры нормально распределения\n",
    "mu = n*p\n",
    "sigma = sqrt(n * p * (1 - p))\n",
    "\n",
    "distr = st.norm(mu, sigma) # Задаем нормальное распределение \n",
    "\n",
    "x = 399500 # Задаем количество уведомлений\n",
    "\n",
    "result = distr.cdf(x) # Считаем вероятность исхода\n",
    "\n",
    "# Выводим результат \n",
    "print(f\"Вероятность того, что уведомление откроют не более {x} пользователей: {result:.4f}\")"
   ]
  },
  {
   "cell_type": "markdown",
   "id": "cc2b7a7f",
   "metadata": {},
   "source": [
    "*Построим апроксимацию биноминального распределения нормальным*"
   ]
  },
  {
   "cell_type": "code",
   "execution_count": 270,
   "id": "f67265ef",
   "metadata": {},
   "outputs": [
    {
     "data": {
      "image/png": "[encoded data removed]",
      "text/plain": [
       "<Figure size 640x480 with 1 Axes>"
      ]
     },
     "metadata": {},
     "output_type": "display_data"
    },
    {
     "name": "stdout",
     "output_type": "stream",
     "text": [
      "Заданное условие выполняется\n"
     ]
    }
   ],
   "source": [
    "# зададим функцию, которая выдаёт <num> чисел,\n",
    "# равномерно распределённых от <start> до <stop>\n",
    "# (понадобится для визуализации нормального распределения)\n",
    "def linspace(start, stop, num):\n",
    "    step = (stop - start) / (num - 1)\n",
    "    result = []\n",
    "    for i in range(num):\n",
    "        result.append(start + step * i)\n",
    "    return result\n",
    " \n",
    "# задаём параметры биномиального распределения\n",
    "n = 1000000\n",
    "p = 0.4\n",
    "\n",
    "# границы промежутка, в котором будем строить аппроксимацию -\n",
    "# от n*p минус 4 ст.отклонения бином.распределения\n",
    "# до n*p плюс 4 ст.отклонения бином.распределения\n",
    "# (там, где вероятности значений почти не равны нулю)\n",
    "left = int(n * p - 4 * sqrt(n * p * (1 - p)))\n",
    "right = int(n * p + 4 * sqrt(n * p * (1 - p)))\n",
    " \n",
    "# зададим набор значений биномиальной величины на выбранном промежутке:\n",
    "# все неотрицательные целые числа от left до right\n",
    "x = list(range(max(0, left), right))\n",
    "# рисуем график биномиального распределения\n",
    "ax = plt.subplot()\n",
    "# используем синие о-образные маркеры и размер маркера 5, расставляем маркеры в интервале 250 \n",
    "ax.plot(x[::250], binom.pmf(np.array(x)[::250], n, p), 'bo', ms=5, label='вероятности биномиального распределения')\n",
    "\n",
    "# зададим мат.ожидание и ст.отклонение нормального распределения равными\n",
    "# мат.ожиданию и ст.отклонению биномиального распределения\n",
    "mu = n * p\n",
    "sigma = sqrt(n * p * (1 - p))\n",
    " \n",
    "# рисуем график нормального распределения:\n",
    "# получим список из 100 чисел от left до right\n",
    "x = linspace(left, right, 1000)\n",
    "# используем красную линию ширины 3 и прозрачности 0.3\n",
    "ax.plot(x, norm.pdf(x, mu, sigma), 'r-', lw=3, alpha=0.3, label='плотность вероятности нормального распределения')\n",
    " \n",
    "# зададим подписи по оси x в пределах ± 3 ст.отклонений от мат.ожидания\n",
    "# (последний аргумент в методе range - интервал между подписями)\n",
    "x_ticks = list(range(int(mu - 3 * sigma), int(mu + 3 * sigma), int(sigma)))\n",
    "ax.set_xticks(x_ticks)\n",
    "\n",
    "# настраиваем оптимальное расположение легенды и выводим график\n",
    "ax.legend(loc='best')\n",
    "plt.title(\"Апроксимация биноминального распределения нормальным\")\n",
    "plt.xlabel(\"Количество писем\")\n",
    "plt.ylabel(\"Вероятность\")\n",
    "plt.show()\n",
    "\n",
    "# выводим, выполняется ли наше условие аппроксимации:\n",
    "# лежит ли mu ± 3 sigma в промежутке от 0 до n:\n",
    "if (mu - (3 * sigma) >= 0) and ((mu + (3 * sigma) <= n)):\n",
    "    print('Заданное условие выполняется')\n",
    "else:\n",
    "    print('Заданное условие не выполняется')"
   ]
  },
  {
   "cell_type": "markdown",
   "id": "adc8ee28",
   "metadata": {},
   "source": [
    "**Вероятность того, что сообщение откроют не более 399500 пользователей -- 15%, построив график апроксимации с шагом 250, мы можем заключить, что нормальное распределение совпадает с биноминальным**"
   ]
  },
  {
   "cell_type": "markdown",
   "id": "b23e427a",
   "metadata": {},
   "source": [
    "## Вывод"
   ]
  },
  {
   "cell_type": "markdown",
   "id": "6226c176",
   "metadata": {},
   "source": [
    "*Мы получили данные и задачу на проверку гипотез, которые помогут сервису GoFast увеличить бизнес показатели.*\n",
    "\n",
    "* **Полученный набор данных:**\n",
    "\n",
    "1. Пользователи — users_go.csv:\n",
    "  * user_id — уникальный идентификатор пользователя\n",
    "  * name — имя пользователя\n",
    "  * age — возраст\n",
    "  * city — город\n",
    "  * subscription_type — тип подписки (free, ultra)\n",
    "  \n",
    "  \n",
    "2. Поездки — rides_go.csv\n",
    "   * user_id — уникальный идентификатор пользователя\n",
    "   * distance — расстояние, которое пользователь проехал в текущей сессии (в метрах)\n",
    "   * duration — продолжительность сессии (в минутах) — время с того момента, как пользователь нажал кнопку «Начать поездку» до момента, как он нажал кнопку «Завершить поездку»\n",
    "   * date — дата совершения поездки\n",
    "   \n",
    "   \n",
    "3. Подписки — subscriptions_go.csv\n",
    "   * subscription_type — тип подписки\n",
    "   * minute_price — стоимость одной минуты поездки по данной подписке\n",
    "   * start_ride_price — стоимость начала поездки\n",
    "   * subscription_fee — стоимость ежемесячного платежа\n",
    "\n",
    "\n",
    "* **Первым делом мы провели предобработку данных**  \n",
    "\n",
    "\n",
    "* **Далее мы провели исследовательский анализа данных и пришли к выводам:**\n",
    "1. Основные клиенты 25 лет, в среднем проезжают около 3070 метров, поездка длится чуть менее 18 минут\n",
    "2. Клиенты без подписки тратят на поездки около 17 минут, проезжают около 3000 метров\n",
    "3. Клиенты с подпиской едут около 18 минут, проезжают в среднем в районе 3100 метров\n",
    "\n",
    "\n",
    "* **Также мы проверили гипотезы, которые нам предложили продакт менеджеры, их выводы:**\n",
    "1. При текущих данных можно утверждать, что пользователи с подпиской тратят больше времени на поездки. Пользователи с подпиской более выгодны для компании\n",
    "2. Пользователи с подпиской в среднем не превышают оптимальное расстояние с точки зрения износостойкости\n",
    "3. Имея текущие данные мы можем утверждать, что пользователи с подпиской приносят больше денег, чем пользователи без подписки\n",
    "\n",
    "\n",
    "* **Рекомендации:**\n",
    "1. Стоит сделать упор на увеличение количества пользователей с подпиской, это можно сделать, например, предложив пакетные решения с увеличением скидки, относительно количества единовеременно оплаченых месяцев: \"Подписка на 3 месяца\", \"Подписка на 6 месяцев\", \"Подписка на год\". В разные месяцы клиенты тратят разное время на поездки, оплаченные месяцы, вероятно будут стимулировать клиентов ездить больше.\n",
    "2. Для увеличения общего количества пользователей GoFast, можно сделать рассылку с промокодами на скидки для пользователей других продуктов от Яндекс.\n",
    "3. Пользователей в Москве совсем мало, вероятнее всего это связано с развитым метро и большими расстояниями, которые приходится преодалевать среднему потенциальному клиенту, возможно для Москвичей стоит разработать отдельные условия и тарифы, либо отключить плату за старт совсем и посмотреть, какой результат прироста пользователей это даст и на основании него делать выводы о том, как удержать возросшую базу клиентов, если это сработает. \n"
   ]
  }
 ],
 "metadata": {
  "ExecuteTimeLog": [
   {
    "duration": 3,
    "start_time": "2024-08-23T06:24:57.477Z"
   },
   {
    "duration": 1288,
    "start_time": "2024-08-23T06:25:05.570Z"
   },
   {
    "duration": 4,
    "start_time": "2024-08-23T06:25:54.247Z"
   },
   {
    "duration": 2,
    "start_time": "2024-08-23T06:26:24.731Z"
   },
   {
    "duration": 2,
    "start_time": "2024-08-23T06:27:24.737Z"
   },
   {
    "duration": 113,
    "start_time": "2024-08-23T06:28:23.866Z"
   },
   {
    "duration": 32,
    "start_time": "2024-08-23T06:28:46.996Z"
   },
   {
    "duration": 305,
    "start_time": "2024-08-23T06:30:55.802Z"
   },
   {
    "duration": 12,
    "start_time": "2024-08-23T06:31:19.494Z"
   },
   {
    "duration": 7,
    "start_time": "2024-08-23T06:31:46.602Z"
   },
   {
    "duration": 73,
    "start_time": "2024-08-23T06:32:23.254Z"
   },
   {
    "duration": 8,
    "start_time": "2024-08-23T06:32:24.765Z"
   },
   {
    "duration": 8,
    "start_time": "2024-08-23T06:32:25.470Z"
   },
   {
    "duration": 6,
    "start_time": "2024-08-23T06:32:36.063Z"
   },
   {
    "duration": 12,
    "start_time": "2024-08-23T06:33:16.276Z"
   },
   {
    "duration": 10,
    "start_time": "2024-08-23T06:33:23.573Z"
   },
   {
    "duration": 15,
    "start_time": "2024-08-23T06:34:25.499Z"
   },
   {
    "duration": 15,
    "start_time": "2024-08-23T06:35:08.617Z"
   },
   {
    "duration": 17,
    "start_time": "2024-08-23T06:35:15.362Z"
   },
   {
    "duration": 74,
    "start_time": "2024-08-23T06:35:21.586Z"
   },
   {
    "duration": 52,
    "start_time": "2024-08-23T06:35:28.707Z"
   },
   {
    "duration": 20,
    "start_time": "2024-08-23T06:35:34.236Z"
   },
   {
    "duration": 7,
    "start_time": "2024-08-23T06:40:18.728Z"
   },
   {
    "duration": 15,
    "start_time": "2024-08-23T06:40:32.195Z"
   },
   {
    "duration": 12,
    "start_time": "2024-08-23T06:43:35.592Z"
   },
   {
    "duration": 12,
    "start_time": "2024-08-23T06:45:06.123Z"
   },
   {
    "duration": 14,
    "start_time": "2024-08-23T06:45:10.762Z"
   },
   {
    "duration": 11,
    "start_time": "2024-08-23T06:50:34.490Z"
   },
   {
    "duration": 4,
    "start_time": "2024-08-23T06:50:56.092Z"
   },
   {
    "duration": 2,
    "start_time": "2024-08-23T06:51:21.391Z"
   },
   {
    "duration": 88,
    "start_time": "2024-08-23T06:52:12.773Z"
   },
   {
    "duration": 4,
    "start_time": "2024-08-23T06:52:23.830Z"
   },
   {
    "duration": 8,
    "start_time": "2024-08-23T06:52:37.816Z"
   },
   {
    "duration": 75,
    "start_time": "2024-08-23T06:53:35.399Z"
   },
   {
    "duration": 8,
    "start_time": "2024-08-23T06:53:40.094Z"
   },
   {
    "duration": 4,
    "start_time": "2024-08-23T06:53:40.823Z"
   },
   {
    "duration": 8,
    "start_time": "2024-08-23T06:53:41.190Z"
   },
   {
    "duration": 8,
    "start_time": "2024-08-23T06:53:53.089Z"
   },
   {
    "duration": 6,
    "start_time": "2024-08-23T06:54:52.479Z"
   },
   {
    "duration": 5,
    "start_time": "2024-08-23T06:55:17.154Z"
   },
   {
    "duration": 11,
    "start_time": "2024-08-23T06:55:51.862Z"
   },
   {
    "duration": 10,
    "start_time": "2024-08-23T06:55:54.566Z"
   },
   {
    "duration": 10,
    "start_time": "2024-08-23T06:55:57.712Z"
   },
   {
    "duration": 6,
    "start_time": "2024-08-23T06:56:02.167Z"
   },
   {
    "duration": 9,
    "start_time": "2024-08-23T06:58:08.166Z"
   },
   {
    "duration": 1301,
    "start_time": "2024-08-23T06:58:56.972Z"
   },
   {
    "duration": 5,
    "start_time": "2024-08-23T06:59:35.296Z"
   },
   {
    "duration": 8,
    "start_time": "2024-08-23T07:00:06.084Z"
   },
   {
    "duration": 13,
    "start_time": "2024-08-23T07:00:08.619Z"
   },
   {
    "duration": 5,
    "start_time": "2024-08-23T07:00:27.668Z"
   },
   {
    "duration": 6,
    "start_time": "2024-08-23T07:00:35.050Z"
   },
   {
    "duration": 9,
    "start_time": "2024-08-23T07:01:35.910Z"
   },
   {
    "duration": 6,
    "start_time": "2024-08-23T07:02:05.042Z"
   },
   {
    "duration": 7,
    "start_time": "2024-08-23T07:03:15.906Z"
   },
   {
    "duration": 6,
    "start_time": "2024-08-23T07:03:23.835Z"
   },
   {
    "duration": 7,
    "start_time": "2024-08-23T07:03:24.642Z"
   },
   {
    "duration": 6,
    "start_time": "2024-08-23T07:03:31.940Z"
   },
   {
    "duration": 3,
    "start_time": "2024-08-23T07:03:36.004Z"
   },
   {
    "duration": 75,
    "start_time": "2024-08-23T07:03:36.364Z"
   },
   {
    "duration": 16,
    "start_time": "2024-08-23T07:03:36.708Z"
   },
   {
    "duration": 25,
    "start_time": "2024-08-23T07:03:37.069Z"
   },
   {
    "duration": 22,
    "start_time": "2024-08-23T07:03:37.445Z"
   },
   {
    "duration": 12,
    "start_time": "2024-08-23T07:03:38.237Z"
   },
   {
    "duration": 7,
    "start_time": "2024-08-23T07:03:38.629Z"
   },
   {
    "duration": 15,
    "start_time": "2024-08-23T07:03:38.813Z"
   },
   {
    "duration": 6,
    "start_time": "2024-08-23T07:03:39.204Z"
   },
   {
    "duration": 4,
    "start_time": "2024-08-23T07:03:39.405Z"
   },
   {
    "duration": 5,
    "start_time": "2024-08-23T07:03:39.600Z"
   },
   {
    "duration": 7,
    "start_time": "2024-08-23T07:03:39.997Z"
   },
   {
    "duration": 9,
    "start_time": "2024-08-23T07:05:10.751Z"
   },
   {
    "duration": 218,
    "start_time": "2024-08-23T07:09:24.725Z"
   },
   {
    "duration": 115,
    "start_time": "2024-08-23T07:09:35.422Z"
   },
   {
    "duration": 13,
    "start_time": "2024-08-23T07:10:09.979Z"
   },
   {
    "duration": 107,
    "start_time": "2024-08-23T07:10:39.262Z"
   },
   {
    "duration": 102,
    "start_time": "2024-08-23T07:10:47.305Z"
   },
   {
    "duration": 102,
    "start_time": "2024-08-23T07:11:04.689Z"
   },
   {
    "duration": 103,
    "start_time": "2024-08-23T07:11:43.926Z"
   },
   {
    "duration": 103,
    "start_time": "2024-08-23T07:11:56.304Z"
   },
   {
    "duration": 294,
    "start_time": "2024-08-23T07:12:56.871Z"
   },
   {
    "duration": 198,
    "start_time": "2024-08-23T07:13:00.440Z"
   },
   {
    "duration": 8,
    "start_time": "2024-08-23T07:13:14.745Z"
   },
   {
    "duration": 5,
    "start_time": "2024-08-23T07:15:58.468Z"
   },
   {
    "duration": 9,
    "start_time": "2024-08-23T07:16:09.469Z"
   },
   {
    "duration": 4,
    "start_time": "2024-08-23T07:17:28.518Z"
   },
   {
    "duration": 16,
    "start_time": "2024-08-23T07:17:31.539Z"
   },
   {
    "duration": 24,
    "start_time": "2024-08-23T07:18:02.379Z"
   },
   {
    "duration": 913,
    "start_time": "2024-08-23T07:18:18.132Z"
   },
   {
    "duration": 12,
    "start_time": "2024-08-23T07:18:32.695Z"
   },
   {
    "duration": 14,
    "start_time": "2024-08-23T07:18:43.038Z"
   },
   {
    "duration": 12,
    "start_time": "2024-08-23T07:18:46.536Z"
   },
   {
    "duration": 166,
    "start_time": "2024-08-23T07:19:24.140Z"
   },
   {
    "duration": 159,
    "start_time": "2024-08-23T07:20:34.356Z"
   },
   {
    "duration": 159,
    "start_time": "2024-08-23T07:20:40.821Z"
   },
   {
    "duration": 168,
    "start_time": "2024-08-23T07:20:43.637Z"
   },
   {
    "duration": 193,
    "start_time": "2024-08-23T07:21:39.492Z"
   },
   {
    "duration": 166,
    "start_time": "2024-08-23T07:21:46.125Z"
   },
   {
    "duration": 168,
    "start_time": "2024-08-23T07:21:57.694Z"
   },
   {
    "duration": 172,
    "start_time": "2024-08-23T07:22:01.246Z"
   },
   {
    "duration": 264,
    "start_time": "2024-08-23T07:22:20.353Z"
   },
   {
    "duration": 168,
    "start_time": "2024-08-23T07:22:29.274Z"
   },
   {
    "duration": 165,
    "start_time": "2024-08-23T07:22:34.218Z"
   },
   {
    "duration": 173,
    "start_time": "2024-08-23T07:22:37.995Z"
   },
   {
    "duration": 177,
    "start_time": "2024-08-23T07:22:44.699Z"
   },
   {
    "duration": 158,
    "start_time": "2024-08-23T07:22:51.444Z"
   },
   {
    "duration": 167,
    "start_time": "2024-08-23T07:23:38.345Z"
   },
   {
    "duration": 178,
    "start_time": "2024-08-23T07:27:10.363Z"
   },
   {
    "duration": 187,
    "start_time": "2024-08-23T07:27:23.228Z"
   },
   {
    "duration": 184,
    "start_time": "2024-08-23T07:27:29.860Z"
   },
   {
    "duration": 9,
    "start_time": "2024-08-23T07:31:33.594Z"
   },
   {
    "duration": 12,
    "start_time": "2024-08-23T07:32:07.861Z"
   },
   {
    "duration": 162,
    "start_time": "2024-08-23T07:32:13.958Z"
   },
   {
    "duration": 5,
    "start_time": "2024-08-23T07:33:26.135Z"
   },
   {
    "duration": 9,
    "start_time": "2024-08-23T07:33:57.954Z"
   },
   {
    "duration": 6,
    "start_time": "2024-08-23T07:34:03.667Z"
   },
   {
    "duration": 124,
    "start_time": "2024-08-23T07:34:45.679Z"
   },
   {
    "duration": 214,
    "start_time": "2024-08-23T07:35:48.744Z"
   },
   {
    "duration": 6,
    "start_time": "2024-08-23T07:36:18.716Z"
   },
   {
    "duration": 108,
    "start_time": "2024-08-23T07:36:30.524Z"
   },
   {
    "duration": 121,
    "start_time": "2024-08-23T07:36:51.878Z"
   },
   {
    "duration": 15,
    "start_time": "2024-08-23T07:37:23.770Z"
   },
   {
    "duration": 136,
    "start_time": "2024-08-23T07:37:47.389Z"
   },
   {
    "duration": 148,
    "start_time": "2024-08-23T07:37:59.895Z"
   },
   {
    "duration": 5,
    "start_time": "2024-08-23T07:38:05.431Z"
   },
   {
    "duration": 134,
    "start_time": "2024-08-23T07:38:35.269Z"
   },
   {
    "duration": 165,
    "start_time": "2024-08-23T07:38:43.195Z"
   },
   {
    "duration": 159,
    "start_time": "2024-08-23T07:39:38.771Z"
   },
   {
    "duration": 6,
    "start_time": "2024-08-23T07:40:02.237Z"
   },
   {
    "duration": 5,
    "start_time": "2024-08-23T07:40:14.070Z"
   },
   {
    "duration": 6,
    "start_time": "2024-08-23T07:40:28.984Z"
   },
   {
    "duration": 7,
    "start_time": "2024-08-23T07:41:13.326Z"
   },
   {
    "duration": 18,
    "start_time": "2024-08-23T07:41:20.198Z"
   },
   {
    "duration": 13,
    "start_time": "2024-08-23T07:41:29.029Z"
   },
   {
    "duration": 14,
    "start_time": "2024-08-23T07:41:36.848Z"
   },
   {
    "duration": 10,
    "start_time": "2024-08-23T07:41:41.793Z"
   },
   {
    "duration": 146,
    "start_time": "2024-08-23T07:41:49.626Z"
   },
   {
    "duration": 158,
    "start_time": "2024-08-23T07:42:30.670Z"
   },
   {
    "duration": 234,
    "start_time": "2024-08-23T07:45:03.665Z"
   },
   {
    "duration": 327,
    "start_time": "2024-08-23T07:46:18.178Z"
   },
   {
    "duration": 99,
    "start_time": "2024-08-23T07:46:51.957Z"
   },
   {
    "duration": 89,
    "start_time": "2024-08-23T07:46:54.829Z"
   },
   {
    "duration": 87,
    "start_time": "2024-08-23T07:49:07.733Z"
   },
   {
    "duration": 207,
    "start_time": "2024-08-23T07:50:01.291Z"
   },
   {
    "duration": 227,
    "start_time": "2024-08-23T07:50:44.520Z"
   },
   {
    "duration": 250,
    "start_time": "2024-08-23T07:50:57.250Z"
   },
   {
    "duration": 250,
    "start_time": "2024-08-23T07:51:12.356Z"
   },
   {
    "duration": 338,
    "start_time": "2024-08-23T07:51:20.693Z"
   },
   {
    "duration": 243,
    "start_time": "2024-08-23T07:51:33.550Z"
   },
   {
    "duration": 245,
    "start_time": "2024-08-23T07:51:51.960Z"
   },
   {
    "duration": 245,
    "start_time": "2024-08-23T07:51:58.561Z"
   },
   {
    "duration": 248,
    "start_time": "2024-08-23T07:52:03.490Z"
   },
   {
    "duration": 17311,
    "start_time": "2024-08-23T07:52:32.541Z"
   },
   {
    "duration": 241,
    "start_time": "2024-08-23T07:52:53.744Z"
   },
   {
    "duration": 241,
    "start_time": "2024-08-23T07:53:22.823Z"
   },
   {
    "duration": 483,
    "start_time": "2024-08-23T07:53:29.516Z"
   },
   {
    "duration": 238,
    "start_time": "2024-08-23T07:53:39.712Z"
   },
   {
    "duration": 250,
    "start_time": "2024-08-23T07:54:02.399Z"
   },
   {
    "duration": 243,
    "start_time": "2024-08-23T07:54:09.642Z"
   },
   {
    "duration": 9,
    "start_time": "2024-08-23T07:54:21.666Z"
   },
   {
    "duration": 242,
    "start_time": "2024-08-23T07:54:28.067Z"
   },
   {
    "duration": 9,
    "start_time": "2024-08-23T07:54:36.460Z"
   },
   {
    "duration": 255,
    "start_time": "2024-08-23T07:54:41.676Z"
   },
   {
    "duration": 202,
    "start_time": "2024-08-23T07:54:46.845Z"
   },
   {
    "duration": 5,
    "start_time": "2024-08-23T07:54:54.590Z"
   },
   {
    "duration": 241,
    "start_time": "2024-08-23T07:55:29.626Z"
   },
   {
    "duration": 240,
    "start_time": "2024-08-23T07:55:44.275Z"
   },
   {
    "duration": 243,
    "start_time": "2024-08-23T07:55:53.933Z"
   },
   {
    "duration": 269,
    "start_time": "2024-08-23T07:56:00.229Z"
   },
   {
    "duration": 244,
    "start_time": "2024-08-23T07:56:08.254Z"
   },
   {
    "duration": 302,
    "start_time": "2024-08-23T07:56:34.522Z"
   },
   {
    "duration": 242,
    "start_time": "2024-08-23T07:56:52.147Z"
   },
   {
    "duration": 189,
    "start_time": "2024-08-23T07:56:59.236Z"
   },
   {
    "duration": 116,
    "start_time": "2024-08-23T07:57:45.442Z"
   },
   {
    "duration": 194,
    "start_time": "2024-08-23T07:57:49.524Z"
   },
   {
    "duration": 191,
    "start_time": "2024-08-23T07:57:56.723Z"
   },
   {
    "duration": 246,
    "start_time": "2024-08-23T07:58:08.606Z"
   },
   {
    "duration": 3,
    "start_time": "2024-08-23T08:07:08.205Z"
   },
   {
    "duration": 4,
    "start_time": "2024-08-23T08:07:49.714Z"
   },
   {
    "duration": 9,
    "start_time": "2024-08-23T08:07:58.906Z"
   },
   {
    "duration": 131,
    "start_time": "2024-08-23T08:08:22.789Z"
   },
   {
    "duration": 4,
    "start_time": "2024-08-23T08:09:50.778Z"
   },
   {
    "duration": 150,
    "start_time": "2024-08-23T08:11:33.415Z"
   },
   {
    "duration": 4,
    "start_time": "2024-08-23T08:12:42.704Z"
   },
   {
    "duration": 3,
    "start_time": "2024-08-23T08:12:43.047Z"
   },
   {
    "duration": 237,
    "start_time": "2024-08-23T08:12:43.727Z"
   },
   {
    "duration": 0,
    "start_time": "2024-08-23T08:20:47.799Z"
   },
   {
    "duration": 0,
    "start_time": "2024-08-23T08:20:47.801Z"
   },
   {
    "duration": 0,
    "start_time": "2024-08-23T08:20:47.802Z"
   },
   {
    "duration": 0,
    "start_time": "2024-08-23T08:20:47.803Z"
   },
   {
    "duration": 0,
    "start_time": "2024-08-23T08:20:47.805Z"
   },
   {
    "duration": 0,
    "start_time": "2024-08-23T08:20:47.806Z"
   },
   {
    "duration": 0,
    "start_time": "2024-08-23T08:20:47.808Z"
   },
   {
    "duration": 0,
    "start_time": "2024-08-23T08:20:47.809Z"
   },
   {
    "duration": 0,
    "start_time": "2024-08-23T08:20:47.811Z"
   },
   {
    "duration": 0,
    "start_time": "2024-08-23T08:20:47.812Z"
   },
   {
    "duration": 0,
    "start_time": "2024-08-23T08:20:47.813Z"
   },
   {
    "duration": 0,
    "start_time": "2024-08-23T08:20:47.815Z"
   },
   {
    "duration": 0,
    "start_time": "2024-08-23T08:20:47.816Z"
   },
   {
    "duration": 0,
    "start_time": "2024-08-23T08:20:47.817Z"
   },
   {
    "duration": 0,
    "start_time": "2024-08-23T08:20:47.818Z"
   },
   {
    "duration": 5,
    "start_time": "2024-08-23T08:20:49.026Z"
   },
   {
    "duration": 129,
    "start_time": "2024-08-23T08:20:50.923Z"
   },
   {
    "duration": 3,
    "start_time": "2024-08-23T08:21:03.293Z"
   },
   {
    "duration": 3,
    "start_time": "2024-08-23T08:21:07.085Z"
   },
   {
    "duration": 77,
    "start_time": "2024-08-23T08:21:07.781Z"
   },
   {
    "duration": 15,
    "start_time": "2024-08-23T08:21:08.197Z"
   },
   {
    "duration": 15,
    "start_time": "2024-08-23T08:21:08.621Z"
   },
   {
    "duration": 14,
    "start_time": "2024-08-23T08:21:09.021Z"
   },
   {
    "duration": 8,
    "start_time": "2024-08-23T08:21:09.917Z"
   },
   {
    "duration": 5,
    "start_time": "2024-08-23T08:21:10.349Z"
   },
   {
    "duration": 10,
    "start_time": "2024-08-23T08:21:10.589Z"
   },
   {
    "duration": 9,
    "start_time": "2024-08-23T08:21:11.094Z"
   },
   {
    "duration": 5,
    "start_time": "2024-08-23T08:21:11.622Z"
   },
   {
    "duration": 6,
    "start_time": "2024-08-23T08:21:11.886Z"
   },
   {
    "duration": 9,
    "start_time": "2024-08-23T08:21:12.398Z"
   },
   {
    "duration": 162,
    "start_time": "2024-08-23T08:21:13.622Z"
   },
   {
    "duration": 122,
    "start_time": "2024-08-23T08:21:14.718Z"
   },
   {
    "duration": 4,
    "start_time": "2024-08-23T08:21:17.470Z"
   },
   {
    "duration": 4,
    "start_time": "2024-08-23T08:21:17.872Z"
   },
   {
    "duration": 138,
    "start_time": "2024-08-23T08:21:18.175Z"
   },
   {
    "duration": 4,
    "start_time": "2024-08-23T08:21:20.582Z"
   },
   {
    "duration": 5,
    "start_time": "2024-08-23T08:21:44.193Z"
   },
   {
    "duration": 9,
    "start_time": "2024-08-23T08:22:01.948Z"
   },
   {
    "duration": 9,
    "start_time": "2024-08-23T08:22:58.803Z"
   },
   {
    "duration": 18,
    "start_time": "2024-08-23T08:23:05.283Z"
   },
   {
    "duration": 14,
    "start_time": "2024-08-23T08:23:30.701Z"
   },
   {
    "duration": 157,
    "start_time": "2024-08-23T08:23:45.000Z"
   },
   {
    "duration": 8,
    "start_time": "2024-08-23T08:24:38.470Z"
   },
   {
    "duration": 12,
    "start_time": "2024-08-23T08:24:46.872Z"
   },
   {
    "duration": 11,
    "start_time": "2024-08-23T08:24:51.352Z"
   },
   {
    "duration": 11,
    "start_time": "2024-08-23T08:25:19.075Z"
   },
   {
    "duration": 11,
    "start_time": "2024-08-23T08:25:24.779Z"
   },
   {
    "duration": 11,
    "start_time": "2024-08-23T08:25:31.300Z"
   },
   {
    "duration": 9,
    "start_time": "2024-08-23T08:26:13.041Z"
   },
   {
    "duration": 8,
    "start_time": "2024-08-23T08:26:34.948Z"
   },
   {
    "duration": 13,
    "start_time": "2024-08-23T08:26:46.205Z"
   },
   {
    "duration": 7,
    "start_time": "2024-08-23T08:26:49.621Z"
   },
   {
    "duration": 17,
    "start_time": "2024-08-23T08:27:52.405Z"
   },
   {
    "duration": 10,
    "start_time": "2024-08-23T08:28:23.471Z"
   },
   {
    "duration": 17,
    "start_time": "2024-08-23T08:28:47.763Z"
   },
   {
    "duration": 4,
    "start_time": "2024-08-23T08:28:52.387Z"
   },
   {
    "duration": 5,
    "start_time": "2024-08-23T08:28:52.811Z"
   },
   {
    "duration": 9,
    "start_time": "2024-08-23T08:28:53.011Z"
   },
   {
    "duration": 6,
    "start_time": "2024-08-23T08:28:53.403Z"
   },
   {
    "duration": 6,
    "start_time": "2024-08-23T08:28:55.372Z"
   },
   {
    "duration": 6,
    "start_time": "2024-08-23T08:28:55.619Z"
   },
   {
    "duration": 9,
    "start_time": "2024-08-23T08:28:56.100Z"
   },
   {
    "duration": 160,
    "start_time": "2024-08-23T08:28:57.668Z"
   },
   {
    "duration": 131,
    "start_time": "2024-08-23T08:28:59.980Z"
   },
   {
    "duration": 4,
    "start_time": "2024-08-23T08:29:02.397Z"
   },
   {
    "duration": 4,
    "start_time": "2024-08-23T08:29:02.557Z"
   },
   {
    "duration": 139,
    "start_time": "2024-08-23T08:29:02.805Z"
   },
   {
    "duration": 150,
    "start_time": "2024-08-23T08:29:05.413Z"
   },
   {
    "duration": 8,
    "start_time": "2024-08-23T08:29:08.149Z"
   },
   {
    "duration": 16,
    "start_time": "2024-08-23T08:29:08.718Z"
   },
   {
    "duration": 11,
    "start_time": "2024-08-23T08:29:18.599Z"
   },
   {
    "duration": 3,
    "start_time": "2024-08-23T08:29:30.905Z"
   },
   {
    "duration": 75,
    "start_time": "2024-08-23T08:29:31.264Z"
   },
   {
    "duration": 15,
    "start_time": "2024-08-23T08:29:31.617Z"
   },
   {
    "duration": 16,
    "start_time": "2024-08-23T08:29:31.976Z"
   },
   {
    "duration": 15,
    "start_time": "2024-08-23T08:29:32.352Z"
   },
   {
    "duration": 7,
    "start_time": "2024-08-23T08:29:33.104Z"
   },
   {
    "duration": 4,
    "start_time": "2024-08-23T08:29:33.481Z"
   },
   {
    "duration": 9,
    "start_time": "2024-08-23T08:29:33.657Z"
   },
   {
    "duration": 6,
    "start_time": "2024-08-23T08:29:34.040Z"
   },
   {
    "duration": 5,
    "start_time": "2024-08-23T08:29:34.232Z"
   },
   {
    "duration": 6,
    "start_time": "2024-08-23T08:29:34.416Z"
   },
   {
    "duration": 8,
    "start_time": "2024-08-23T08:29:34.817Z"
   },
   {
    "duration": 163,
    "start_time": "2024-08-23T08:29:36.521Z"
   },
   {
    "duration": 137,
    "start_time": "2024-08-23T08:29:37.168Z"
   },
   {
    "duration": 3,
    "start_time": "2024-08-23T08:29:38.057Z"
   },
   {
    "duration": 4,
    "start_time": "2024-08-23T08:29:38.257Z"
   },
   {
    "duration": 133,
    "start_time": "2024-08-23T08:29:38.465Z"
   },
   {
    "duration": 152,
    "start_time": "2024-08-23T08:29:38.921Z"
   },
   {
    "duration": 7,
    "start_time": "2024-08-23T08:29:39.169Z"
   },
   {
    "duration": 10,
    "start_time": "2024-08-23T08:29:39.961Z"
   },
   {
    "duration": 16,
    "start_time": "2024-08-23T08:29:41.626Z"
   },
   {
    "duration": 931,
    "start_time": "2024-08-23T08:30:20.702Z"
   },
   {
    "duration": 17777,
    "start_time": "2024-08-23T08:30:31.016Z"
   },
   {
    "duration": 900,
    "start_time": "2024-08-23T08:32:45.359Z"
   },
   {
    "duration": 19020,
    "start_time": "2024-08-23T08:32:57.801Z"
   },
   {
    "duration": 61,
    "start_time": "2024-08-23T08:33:43.182Z"
   },
   {
    "duration": 8,
    "start_time": "2024-08-23T08:33:56.759Z"
   },
   {
    "duration": 4,
    "start_time": "2024-08-23T08:34:03.961Z"
   },
   {
    "duration": 9,
    "start_time": "2024-08-23T08:35:05.928Z"
   },
   {
    "duration": 10,
    "start_time": "2024-08-23T08:35:14.425Z"
   },
   {
    "duration": 9,
    "start_time": "2024-08-23T08:35:17.320Z"
   },
   {
    "duration": 131,
    "start_time": "2024-08-23T08:36:05.895Z"
   },
   {
    "duration": 114,
    "start_time": "2024-08-23T08:37:07.670Z"
   },
   {
    "duration": 221,
    "start_time": "2024-08-23T08:39:35.703Z"
   },
   {
    "duration": 217,
    "start_time": "2024-08-23T08:43:26.082Z"
   },
   {
    "duration": 211,
    "start_time": "2024-08-23T08:43:32.243Z"
   },
   {
    "duration": 225,
    "start_time": "2024-08-23T08:43:37.979Z"
   },
   {
    "duration": 133,
    "start_time": "2024-08-23T08:51:03.809Z"
   },
   {
    "duration": 109,
    "start_time": "2024-08-23T08:51:08.624Z"
   },
   {
    "duration": 229,
    "start_time": "2024-08-23T08:51:10.009Z"
   },
   {
    "duration": 7,
    "start_time": "2024-08-23T08:51:11.217Z"
   },
   {
    "duration": 237,
    "start_time": "2024-08-23T08:51:37.340Z"
   },
   {
    "duration": 236,
    "start_time": "2024-08-23T08:52:02.470Z"
   },
   {
    "duration": 225,
    "start_time": "2024-08-23T08:52:09.880Z"
   },
   {
    "duration": 238,
    "start_time": "2024-08-23T08:52:44.780Z"
   },
   {
    "duration": 119,
    "start_time": "2024-08-23T08:53:50.243Z"
   },
   {
    "duration": 233,
    "start_time": "2024-08-23T08:55:49.842Z"
   },
   {
    "duration": 231,
    "start_time": "2024-08-23T08:55:59.851Z"
   },
   {
    "duration": 236,
    "start_time": "2024-08-23T08:56:04.043Z"
   },
   {
    "duration": 239,
    "start_time": "2024-08-23T08:56:13.524Z"
   },
   {
    "duration": 228,
    "start_time": "2024-08-23T08:57:31.238Z"
   },
   {
    "duration": 8,
    "start_time": "2024-08-23T08:58:30.677Z"
   },
   {
    "duration": 10,
    "start_time": "2024-08-23T09:04:50.442Z"
   },
   {
    "duration": 12,
    "start_time": "2024-08-23T09:04:57.282Z"
   },
   {
    "duration": 3,
    "start_time": "2024-08-23T09:05:13.876Z"
   },
   {
    "duration": 76,
    "start_time": "2024-08-23T09:05:14.235Z"
   },
   {
    "duration": 16,
    "start_time": "2024-08-23T09:05:14.595Z"
   },
   {
    "duration": 16,
    "start_time": "2024-08-23T09:05:14.940Z"
   },
   {
    "duration": 13,
    "start_time": "2024-08-23T09:05:15.260Z"
   },
   {
    "duration": 7,
    "start_time": "2024-08-23T09:05:15.940Z"
   },
   {
    "duration": 5,
    "start_time": "2024-08-23T09:05:16.616Z"
   },
   {
    "duration": 9,
    "start_time": "2024-08-23T09:05:16.663Z"
   },
   {
    "duration": 5,
    "start_time": "2024-08-23T09:05:16.732Z"
   },
   {
    "duration": 5,
    "start_time": "2024-08-23T09:05:16.757Z"
   },
   {
    "duration": 6,
    "start_time": "2024-08-23T09:05:16.788Z"
   },
   {
    "duration": 8,
    "start_time": "2024-08-23T09:05:16.851Z"
   },
   {
    "duration": 156,
    "start_time": "2024-08-23T09:05:17.023Z"
   },
   {
    "duration": 140,
    "start_time": "2024-08-23T09:05:17.181Z"
   },
   {
    "duration": 4,
    "start_time": "2024-08-23T09:05:17.322Z"
   },
   {
    "duration": 17,
    "start_time": "2024-08-23T09:05:17.328Z"
   },
   {
    "duration": 135,
    "start_time": "2024-08-23T09:05:17.347Z"
   },
   {
    "duration": 119,
    "start_time": "2024-08-23T09:05:17.484Z"
   },
   {
    "duration": 247,
    "start_time": "2024-08-23T09:05:17.604Z"
   },
   {
    "duration": 9,
    "start_time": "2024-08-23T09:05:17.852Z"
   },
   {
    "duration": 135,
    "start_time": "2024-08-23T09:05:17.862Z"
   },
   {
    "duration": 246,
    "start_time": "2024-08-23T09:05:17.999Z"
   },
   {
    "duration": 8,
    "start_time": "2024-08-23T09:05:18.247Z"
   },
   {
    "duration": 9,
    "start_time": "2024-08-23T09:05:18.257Z"
   },
   {
    "duration": 27,
    "start_time": "2024-08-23T09:05:18.268Z"
   },
   {
    "duration": 10,
    "start_time": "2024-08-23T09:06:41.727Z"
   },
   {
    "duration": 13,
    "start_time": "2024-08-23T09:06:50.351Z"
   },
   {
    "duration": 12,
    "start_time": "2024-08-23T09:10:04.831Z"
   },
   {
    "duration": 9,
    "start_time": "2024-08-23T09:12:42.000Z"
   },
   {
    "duration": 18,
    "start_time": "2024-08-23T09:12:58.979Z"
   },
   {
    "duration": 12,
    "start_time": "2024-08-23T09:13:11.020Z"
   },
   {
    "duration": 7,
    "start_time": "2024-08-23T09:13:31.446Z"
   },
   {
    "duration": 11,
    "start_time": "2024-08-23T09:13:40.920Z"
   },
   {
    "duration": 15,
    "start_time": "2024-08-23T09:13:54.817Z"
   },
   {
    "duration": 18,
    "start_time": "2024-08-23T09:14:38.382Z"
   },
   {
    "duration": 10,
    "start_time": "2024-08-23T09:15:10.818Z"
   },
   {
    "duration": 13,
    "start_time": "2024-08-23T09:15:14.026Z"
   },
   {
    "duration": 7,
    "start_time": "2024-08-23T09:15:29.788Z"
   },
   {
    "duration": 5,
    "start_time": "2024-08-23T09:15:39.054Z"
   },
   {
    "duration": 12,
    "start_time": "2024-08-23T09:15:43.742Z"
   },
   {
    "duration": 13,
    "start_time": "2024-08-23T09:15:44.238Z"
   },
   {
    "duration": 6,
    "start_time": "2024-08-23T09:17:41.868Z"
   },
   {
    "duration": 11,
    "start_time": "2024-08-23T09:17:43.548Z"
   },
   {
    "duration": 8,
    "start_time": "2024-08-23T09:17:46.725Z"
   },
   {
    "duration": 15,
    "start_time": "2024-08-23T09:17:47.149Z"
   },
   {
    "duration": 7,
    "start_time": "2024-08-23T09:18:20.688Z"
   },
   {
    "duration": 12,
    "start_time": "2024-08-23T09:18:21.072Z"
   },
   {
    "duration": 6,
    "start_time": "2024-08-23T09:19:58.132Z"
   },
   {
    "duration": 12,
    "start_time": "2024-08-23T09:19:58.357Z"
   },
   {
    "duration": 7,
    "start_time": "2024-08-23T09:19:58.901Z"
   },
   {
    "duration": 11,
    "start_time": "2024-08-23T09:19:59.525Z"
   },
   {
    "duration": 8,
    "start_time": "2024-08-23T09:21:37.480Z"
   },
   {
    "duration": 9,
    "start_time": "2024-08-23T09:21:38.424Z"
   },
   {
    "duration": 18,
    "start_time": "2024-08-23T09:21:39.001Z"
   },
   {
    "duration": 14,
    "start_time": "2024-08-23T09:31:04.349Z"
   },
   {
    "duration": 54,
    "start_time": "2024-08-23T09:33:13.759Z"
   },
   {
    "duration": 9,
    "start_time": "2024-08-23T09:33:26.398Z"
   },
   {
    "duration": 13,
    "start_time": "2024-08-23T09:33:33.006Z"
   },
   {
    "duration": 15,
    "start_time": "2024-08-23T09:33:40.328Z"
   },
   {
    "duration": 21,
    "start_time": "2024-08-23T09:34:29.670Z"
   },
   {
    "duration": 61,
    "start_time": "2024-08-23T09:35:16.515Z"
   },
   {
    "duration": 55,
    "start_time": "2024-08-23T09:35:20.307Z"
   },
   {
    "duration": 58,
    "start_time": "2024-08-23T09:35:44.079Z"
   },
   {
    "duration": 21,
    "start_time": "2024-08-23T09:35:53.944Z"
   },
   {
    "duration": 16,
    "start_time": "2024-08-23T09:37:21.787Z"
   },
   {
    "duration": 21,
    "start_time": "2024-08-23T09:37:23.962Z"
   },
   {
    "duration": 58,
    "start_time": "2024-08-23T09:39:50.147Z"
   },
   {
    "duration": 27,
    "start_time": "2024-08-23T09:39:54.412Z"
   },
   {
    "duration": 21,
    "start_time": "2024-08-23T09:40:00.757Z"
   },
   {
    "duration": 55,
    "start_time": "2024-08-23T09:40:28.009Z"
   },
   {
    "duration": 52,
    "start_time": "2024-08-23T09:40:32.097Z"
   },
   {
    "duration": 55,
    "start_time": "2024-08-23T09:40:47.362Z"
   },
   {
    "duration": 22,
    "start_time": "2024-08-23T09:40:51.644Z"
   },
   {
    "duration": 27,
    "start_time": "2024-08-23T09:42:23.958Z"
   },
   {
    "duration": 62,
    "start_time": "2024-08-23T09:44:41.734Z"
   },
   {
    "duration": 19,
    "start_time": "2024-08-23T09:44:50.047Z"
   },
   {
    "duration": 14,
    "start_time": "2024-08-23T09:44:56.703Z"
   },
   {
    "duration": 18,
    "start_time": "2024-08-23T09:45:01.633Z"
   },
   {
    "duration": 24,
    "start_time": "2024-08-23T09:45:14.490Z"
   },
   {
    "duration": 9,
    "start_time": "2024-08-23T09:45:42.133Z"
   },
   {
    "duration": 24,
    "start_time": "2024-08-23T09:45:51.662Z"
   },
   {
    "duration": 30,
    "start_time": "2024-08-23T09:46:18.690Z"
   },
   {
    "duration": 34,
    "start_time": "2024-08-23T09:46:43.364Z"
   },
   {
    "duration": 31,
    "start_time": "2024-08-23T09:47:03.967Z"
   },
   {
    "duration": 27,
    "start_time": "2024-08-23T09:47:43.020Z"
   },
   {
    "duration": 33,
    "start_time": "2024-08-23T09:47:46.491Z"
   },
   {
    "duration": 28,
    "start_time": "2024-08-23T09:47:58.053Z"
   },
   {
    "duration": 21,
    "start_time": "2024-08-23T09:48:04.014Z"
   },
   {
    "duration": 31,
    "start_time": "2024-08-23T09:48:40.115Z"
   },
   {
    "duration": 22,
    "start_time": "2024-08-23T09:49:30.353Z"
   },
   {
    "duration": 34,
    "start_time": "2024-08-23T09:49:34.320Z"
   },
   {
    "duration": 29,
    "start_time": "2024-08-23T09:51:45.177Z"
   },
   {
    "duration": 22,
    "start_time": "2024-08-23T09:52:02.819Z"
   },
   {
    "duration": 29,
    "start_time": "2024-08-23T09:52:08.435Z"
   },
   {
    "duration": 32,
    "start_time": "2024-08-23T09:52:15.756Z"
   },
   {
    "duration": 35,
    "start_time": "2024-08-23T09:53:19.755Z"
   },
   {
    "duration": 29,
    "start_time": "2024-08-23T09:53:29.213Z"
   },
   {
    "duration": 28,
    "start_time": "2024-08-23T09:53:42.294Z"
   },
   {
    "duration": 26,
    "start_time": "2024-08-23T09:54:14.322Z"
   },
   {
    "duration": 26,
    "start_time": "2024-08-23T09:54:41.341Z"
   },
   {
    "duration": 34,
    "start_time": "2024-08-23T09:54:43.181Z"
   },
   {
    "duration": 28,
    "start_time": "2024-08-23T09:56:01.055Z"
   },
   {
    "duration": 26,
    "start_time": "2024-08-23T09:56:09.240Z"
   },
   {
    "duration": 5,
    "start_time": "2024-08-23T10:04:29.394Z"
   },
   {
    "duration": 9,
    "start_time": "2024-08-23T10:04:38.635Z"
   },
   {
    "duration": 4,
    "start_time": "2024-08-23T10:05:30.897Z"
   },
   {
    "duration": 9,
    "start_time": "2024-08-23T10:05:31.313Z"
   },
   {
    "duration": 856,
    "start_time": "2024-08-23T10:06:13.663Z"
   },
   {
    "duration": 6,
    "start_time": "2024-08-23T10:06:38.546Z"
   },
   {
    "duration": 8,
    "start_time": "2024-08-23T10:06:48.011Z"
   },
   {
    "duration": 4,
    "start_time": "2024-08-23T10:09:04.939Z"
   },
   {
    "duration": 10,
    "start_time": "2024-08-23T10:09:05.995Z"
   },
   {
    "duration": 4,
    "start_time": "2024-08-23T10:10:39.574Z"
   },
   {
    "duration": 10,
    "start_time": "2024-08-23T10:10:41.086Z"
   },
   {
    "duration": 8,
    "start_time": "2024-08-23T10:11:20.314Z"
   },
   {
    "duration": 8,
    "start_time": "2024-08-23T10:12:04.239Z"
   },
   {
    "duration": 11,
    "start_time": "2024-08-23T10:12:07.792Z"
   },
   {
    "duration": 13,
    "start_time": "2024-08-23T10:12:17.017Z"
   },
   {
    "duration": 4,
    "start_time": "2024-08-23T10:13:19.041Z"
   },
   {
    "duration": 6,
    "start_time": "2024-08-23T10:13:53.378Z"
   },
   {
    "duration": 5,
    "start_time": "2024-08-23T10:13:53.692Z"
   },
   {
    "duration": 5,
    "start_time": "2024-08-23T10:13:54.837Z"
   },
   {
    "duration": 9,
    "start_time": "2024-08-23T10:13:55.421Z"
   },
   {
    "duration": 5,
    "start_time": "2024-08-23T10:15:00.957Z"
   },
   {
    "duration": 8,
    "start_time": "2024-08-23T10:15:02.261Z"
   },
   {
    "duration": 4,
    "start_time": "2024-08-23T10:16:22.711Z"
   },
   {
    "duration": 9,
    "start_time": "2024-08-23T10:16:23.758Z"
   },
   {
    "duration": 4,
    "start_time": "2024-08-23T10:17:06.011Z"
   },
   {
    "duration": 9,
    "start_time": "2024-08-23T10:17:07.076Z"
   },
   {
    "duration": 4,
    "start_time": "2024-08-23T10:17:17.901Z"
   },
   {
    "duration": 6,
    "start_time": "2024-08-23T10:17:46.224Z"
   },
   {
    "duration": 9,
    "start_time": "2024-08-23T10:17:47.688Z"
   },
   {
    "duration": 5,
    "start_time": "2024-08-23T10:18:26.990Z"
   },
   {
    "duration": 9,
    "start_time": "2024-08-23T10:18:27.406Z"
   },
   {
    "duration": 6,
    "start_time": "2024-08-23T10:19:57.360Z"
   },
   {
    "duration": 9,
    "start_time": "2024-08-23T10:19:57.936Z"
   },
   {
    "duration": 28,
    "start_time": "2024-08-23T10:20:09.561Z"
   },
   {
    "duration": 5,
    "start_time": "2024-08-23T10:20:09.785Z"
   },
   {
    "duration": 9,
    "start_time": "2024-08-23T10:20:10.065Z"
   },
   {
    "duration": 6,
    "start_time": "2024-08-23T10:23:04.502Z"
   },
   {
    "duration": 9,
    "start_time": "2024-08-23T10:23:05.214Z"
   },
   {
    "duration": 5,
    "start_time": "2024-08-23T10:23:05.814Z"
   },
   {
    "duration": 8,
    "start_time": "2024-08-23T10:23:07.727Z"
   },
   {
    "duration": 29,
    "start_time": "2024-08-23T10:23:42.304Z"
   },
   {
    "duration": 69,
    "start_time": "2024-08-23T10:28:06.663Z"
   },
   {
    "duration": 3,
    "start_time": "2024-08-23T10:29:19.047Z"
   },
   {
    "duration": 221,
    "start_time": "2024-08-23T10:29:52.643Z"
   },
   {
    "duration": 233,
    "start_time": "2024-08-23T10:31:41.359Z"
   },
   {
    "duration": 220,
    "start_time": "2024-08-23T10:32:08.235Z"
   },
   {
    "duration": 222,
    "start_time": "2024-08-23T10:33:12.363Z"
   },
   {
    "duration": 206,
    "start_time": "2024-08-23T10:34:26.363Z"
   },
   {
    "duration": 231,
    "start_time": "2024-08-23T10:35:33.171Z"
   },
   {
    "duration": 9,
    "start_time": "2024-08-23T10:36:30.985Z"
   },
   {
    "duration": 8,
    "start_time": "2024-08-23T10:37:51.371Z"
   },
   {
    "duration": 9,
    "start_time": "2024-08-23T10:38:12.885Z"
   },
   {
    "duration": 8,
    "start_time": "2024-08-23T10:38:38.793Z"
   },
   {
    "duration": 6,
    "start_time": "2024-08-23T10:47:46.285Z"
   },
   {
    "duration": 878,
    "start_time": "2024-08-23T10:53:12.835Z"
   },
   {
    "duration": 4,
    "start_time": "2024-08-23T10:53:16.347Z"
   },
   {
    "duration": 905,
    "start_time": "2024-08-23T10:53:23.020Z"
   },
   {
    "duration": 863,
    "start_time": "2024-08-23T10:53:56.561Z"
   },
   {
    "duration": 7,
    "start_time": "2024-08-23T10:54:04.723Z"
   },
   {
    "duration": 9,
    "start_time": "2024-08-23T10:54:05.154Z"
   },
   {
    "duration": 8,
    "start_time": "2024-08-23T10:54:16.018Z"
   },
   {
    "duration": 4,
    "start_time": "2024-08-23T10:54:21.796Z"
   },
   {
    "duration": 4,
    "start_time": "2024-08-23T10:54:35.453Z"
   },
   {
    "duration": 5,
    "start_time": "2024-08-23T10:54:37.261Z"
   },
   {
    "duration": 6,
    "start_time": "2024-08-23T10:55:04.672Z"
   },
   {
    "duration": 5,
    "start_time": "2024-08-23T10:55:18.459Z"
   },
   {
    "duration": 5,
    "start_time": "2024-08-23T10:55:35.867Z"
   },
   {
    "duration": 6,
    "start_time": "2024-08-23T11:06:03.790Z"
   },
   {
    "duration": 5,
    "start_time": "2024-08-23T11:09:57.106Z"
   },
   {
    "duration": 4,
    "start_time": "2024-08-23T11:11:19.356Z"
   },
   {
    "duration": 4,
    "start_time": "2024-08-23T11:11:24.317Z"
   },
   {
    "duration": 5,
    "start_time": "2024-08-23T11:11:49.271Z"
   },
   {
    "duration": 850,
    "start_time": "2024-08-23T11:12:42.006Z"
   },
   {
    "duration": 5,
    "start_time": "2024-08-23T11:12:52.782Z"
   },
   {
    "duration": 5,
    "start_time": "2024-08-23T11:13:16.810Z"
   },
   {
    "duration": 5,
    "start_time": "2024-08-23T11:13:27.258Z"
   },
   {
    "duration": 5,
    "start_time": "2024-08-23T11:13:53.454Z"
   },
   {
    "duration": 5,
    "start_time": "2024-08-23T11:14:40.795Z"
   },
   {
    "duration": 5,
    "start_time": "2024-08-23T11:14:51.493Z"
   },
   {
    "duration": 5,
    "start_time": "2024-08-23T11:15:17.816Z"
   },
   {
    "duration": 6,
    "start_time": "2024-08-23T11:15:31.489Z"
   },
   {
    "duration": 5,
    "start_time": "2024-08-23T11:15:34.882Z"
   },
   {
    "duration": 6,
    "start_time": "2024-08-23T11:15:51.404Z"
   },
   {
    "duration": 5,
    "start_time": "2024-08-23T11:15:56.605Z"
   },
   {
    "duration": 5,
    "start_time": "2024-08-23T11:22:01.623Z"
   },
   {
    "duration": 5,
    "start_time": "2024-08-23T11:22:24.722Z"
   },
   {
    "duration": 4,
    "start_time": "2024-08-23T11:22:32.883Z"
   },
   {
    "duration": 5,
    "start_time": "2024-08-23T11:22:45.844Z"
   },
   {
    "duration": 5,
    "start_time": "2024-08-23T11:23:04.726Z"
   },
   {
    "duration": 5,
    "start_time": "2024-08-23T11:23:07.175Z"
   },
   {
    "duration": 5,
    "start_time": "2024-08-23T11:28:39.590Z"
   },
   {
    "duration": 5,
    "start_time": "2024-08-23T11:28:46.743Z"
   },
   {
    "duration": 6,
    "start_time": "2024-08-23T11:29:39.080Z"
   },
   {
    "duration": 6,
    "start_time": "2024-08-23T11:29:59.754Z"
   },
   {
    "duration": 6,
    "start_time": "2024-08-23T11:30:05.360Z"
   },
   {
    "duration": 5,
    "start_time": "2024-08-23T11:34:50.481Z"
   },
   {
    "duration": 6,
    "start_time": "2024-08-23T12:28:44.218Z"
   },
   {
    "duration": 5,
    "start_time": "2024-08-23T12:28:51.345Z"
   },
   {
    "duration": 5,
    "start_time": "2024-08-23T12:30:31.348Z"
   },
   {
    "duration": 5,
    "start_time": "2024-08-23T12:30:36.389Z"
   },
   {
    "duration": 4,
    "start_time": "2024-08-23T12:31:02.192Z"
   },
   {
    "duration": 4,
    "start_time": "2024-08-23T12:31:04.520Z"
   },
   {
    "duration": 5,
    "start_time": "2024-08-23T12:31:21.042Z"
   },
   {
    "duration": 48,
    "start_time": "2024-08-25T04:13:34.795Z"
   },
   {
    "duration": 1326,
    "start_time": "2024-08-25T04:14:25.745Z"
   },
   {
    "duration": 68,
    "start_time": "2024-08-25T04:14:33.183Z"
   },
   {
    "duration": 3,
    "start_time": "2024-08-25T04:15:11.340Z"
   },
   {
    "duration": 3,
    "start_time": "2024-08-25T04:15:14.989Z"
   },
   {
    "duration": 11,
    "start_time": "2024-08-25T04:15:25.334Z"
   },
   {
    "duration": 3,
    "start_time": "2024-08-25T04:15:38.696Z"
   },
   {
    "duration": 286,
    "start_time": "2024-08-25T04:15:39.271Z"
   },
   {
    "duration": 28,
    "start_time": "2024-08-25T04:15:39.784Z"
   },
   {
    "duration": 22,
    "start_time": "2024-08-25T04:15:40.271Z"
   },
   {
    "duration": 19,
    "start_time": "2024-08-25T04:15:40.712Z"
   },
   {
    "duration": 8,
    "start_time": "2024-08-25T04:15:41.583Z"
   },
   {
    "duration": 5,
    "start_time": "2024-08-25T04:15:41.999Z"
   },
   {
    "duration": 9,
    "start_time": "2024-08-25T04:15:42.192Z"
   },
   {
    "duration": 6,
    "start_time": "2024-08-25T04:15:42.600Z"
   },
   {
    "duration": 5,
    "start_time": "2024-08-25T04:15:42.800Z"
   },
   {
    "duration": 7,
    "start_time": "2024-08-25T04:15:42.992Z"
   },
   {
    "duration": 11,
    "start_time": "2024-08-25T04:15:43.392Z"
   },
   {
    "duration": 191,
    "start_time": "2024-08-25T04:15:44.392Z"
   },
   {
    "duration": 133,
    "start_time": "2024-08-25T04:15:45.008Z"
   },
   {
    "duration": 4,
    "start_time": "2024-08-25T04:15:45.801Z"
   },
   {
    "duration": 4,
    "start_time": "2024-08-25T04:15:45.993Z"
   },
   {
    "duration": 140,
    "start_time": "2024-08-25T04:15:46.192Z"
   },
   {
    "duration": 114,
    "start_time": "2024-08-25T04:15:46.794Z"
   },
   {
    "duration": 257,
    "start_time": "2024-08-25T04:15:47.360Z"
   },
   {
    "duration": 9,
    "start_time": "2024-08-25T04:15:47.753Z"
   },
   {
    "duration": 119,
    "start_time": "2024-08-25T04:15:48.352Z"
   },
   {
    "duration": 243,
    "start_time": "2024-08-25T04:15:48.745Z"
   },
   {
    "duration": 9,
    "start_time": "2024-08-25T04:15:49.137Z"
   },
   {
    "duration": 12,
    "start_time": "2024-08-25T04:15:49.952Z"
   },
   {
    "duration": 12,
    "start_time": "2024-08-25T04:15:50.161Z"
   },
   {
    "duration": 13,
    "start_time": "2024-08-25T04:15:50.360Z"
   },
   {
    "duration": 9,
    "start_time": "2024-08-25T04:15:50.969Z"
   },
   {
    "duration": 18,
    "start_time": "2024-08-25T04:15:51.177Z"
   },
   {
    "duration": 8,
    "start_time": "2024-08-25T04:15:51.584Z"
   },
   {
    "duration": 16,
    "start_time": "2024-08-25T04:15:51.802Z"
   },
   {
    "duration": 336,
    "start_time": "2024-08-25T04:15:52.433Z"
   },
   {
    "duration": 234,
    "start_time": "2024-08-25T04:15:53.241Z"
   },
   {
    "duration": 245,
    "start_time": "2024-08-25T04:15:53.913Z"
   },
   {
    "duration": 232,
    "start_time": "2024-08-25T04:15:54.513Z"
   },
   {
    "duration": 33,
    "start_time": "2024-08-25T04:15:55.602Z"
   },
   {
    "duration": 29,
    "start_time": "2024-08-25T04:15:56.050Z"
   },
   {
    "duration": 9,
    "start_time": "2024-08-25T04:15:56.898Z"
   },
   {
    "duration": 13,
    "start_time": "2024-08-25T04:15:57.106Z"
   },
   {
    "duration": 7,
    "start_time": "2024-08-25T04:15:57.777Z"
   },
   {
    "duration": 11,
    "start_time": "2024-08-25T04:15:57.978Z"
   },
   {
    "duration": 5,
    "start_time": "2024-08-25T04:15:59.098Z"
   },
   {
    "duration": 6,
    "start_time": "2024-08-25T04:15:59.946Z"
   },
   {
    "duration": 6,
    "start_time": "2024-08-25T04:16:00.802Z"
   },
   {
    "duration": 5,
    "start_time": "2024-08-25T04:16:01.026Z"
   },
   {
    "duration": 5,
    "start_time": "2024-08-25T04:16:01.258Z"
   },
   {
    "duration": 12,
    "start_time": "2024-08-25T04:16:03.418Z"
   },
   {
    "duration": 3,
    "start_time": "2024-08-25T04:16:35.055Z"
   },
   {
    "duration": 68,
    "start_time": "2024-08-25T04:16:35.718Z"
   },
   {
    "duration": 16,
    "start_time": "2024-08-25T04:16:36.351Z"
   },
   {
    "duration": 18,
    "start_time": "2024-08-25T04:16:36.869Z"
   },
   {
    "duration": 20,
    "start_time": "2024-08-25T04:16:37.334Z"
   },
   {
    "duration": 8,
    "start_time": "2024-08-25T04:16:38.174Z"
   },
   {
    "duration": 6,
    "start_time": "2024-08-25T04:16:38.590Z"
   },
   {
    "duration": 9,
    "start_time": "2024-08-25T04:16:39.103Z"
   },
   {
    "duration": 7,
    "start_time": "2024-08-25T04:16:39.168Z"
   },
   {
    "duration": 7,
    "start_time": "2024-08-25T04:16:39.204Z"
   },
   {
    "duration": 7,
    "start_time": "2024-08-25T04:16:39.231Z"
   },
   {
    "duration": 8,
    "start_time": "2024-08-25T04:16:39.294Z"
   },
   {
    "duration": 173,
    "start_time": "2024-08-25T04:16:39.469Z"
   },
   {
    "duration": 145,
    "start_time": "2024-08-25T04:16:39.644Z"
   },
   {
    "duration": 3,
    "start_time": "2024-08-25T04:16:39.791Z"
   },
   {
    "duration": 19,
    "start_time": "2024-08-25T04:16:39.796Z"
   },
   {
    "duration": 172,
    "start_time": "2024-08-25T04:16:39.817Z"
   },
   {
    "duration": 216,
    "start_time": "2024-08-25T04:16:39.991Z"
   },
   {
    "duration": 272,
    "start_time": "2024-08-25T04:16:40.209Z"
   },
   {
    "duration": 9,
    "start_time": "2024-08-25T04:16:40.483Z"
   },
   {
    "duration": 133,
    "start_time": "2024-08-25T04:16:40.493Z"
   },
   {
    "duration": 271,
    "start_time": "2024-08-25T04:16:40.628Z"
   },
   {
    "duration": 10,
    "start_time": "2024-08-25T04:16:40.900Z"
   },
   {
    "duration": 13,
    "start_time": "2024-08-25T04:16:41.135Z"
   },
   {
    "duration": 11,
    "start_time": "2024-08-25T04:16:41.350Z"
   },
   {
    "duration": 12,
    "start_time": "2024-08-25T04:16:41.559Z"
   },
   {
    "duration": 8,
    "start_time": "2024-08-25T04:16:42.151Z"
   },
   {
    "duration": 12,
    "start_time": "2024-08-25T04:16:42.327Z"
   },
   {
    "duration": 8,
    "start_time": "2024-08-25T04:16:42.750Z"
   },
   {
    "duration": 14,
    "start_time": "2024-08-25T04:16:42.974Z"
   },
   {
    "duration": 231,
    "start_time": "2024-08-25T04:16:43.687Z"
   },
   {
    "duration": 243,
    "start_time": "2024-08-25T04:16:44.471Z"
   },
   {
    "duration": 331,
    "start_time": "2024-08-25T04:16:45.263Z"
   },
   {
    "duration": 240,
    "start_time": "2024-08-25T04:16:45.927Z"
   },
   {
    "duration": 33,
    "start_time": "2024-08-25T04:16:47.047Z"
   },
   {
    "duration": 28,
    "start_time": "2024-08-25T04:16:47.495Z"
   },
   {
    "duration": 7,
    "start_time": "2024-08-25T04:16:48.327Z"
   },
   {
    "duration": 10,
    "start_time": "2024-08-25T04:16:48.511Z"
   },
   {
    "duration": 7,
    "start_time": "2024-08-25T04:17:40.325Z"
   },
   {
    "duration": 10,
    "start_time": "2024-08-25T04:17:40.982Z"
   },
   {
    "duration": 10,
    "start_time": "2024-08-25T04:17:53.064Z"
   },
   {
    "duration": 6,
    "start_time": "2024-08-25T04:17:54.215Z"
   },
   {
    "duration": 9,
    "start_time": "2024-08-25T04:17:58.576Z"
   },
   {
    "duration": 5,
    "start_time": "2024-08-25T04:18:08.618Z"
   },
   {
    "duration": 9,
    "start_time": "2024-08-25T04:18:08.858Z"
   },
   {
    "duration": 7,
    "start_time": "2024-08-25T04:18:12.906Z"
   },
   {
    "duration": 6,
    "start_time": "2024-08-25T04:18:14.241Z"
   },
   {
    "duration": 5,
    "start_time": "2024-08-25T04:18:15.434Z"
   },
   {
    "duration": 4,
    "start_time": "2024-08-25T04:18:15.722Z"
   },
   {
    "duration": 5,
    "start_time": "2024-08-25T04:18:16.026Z"
   },
   {
    "duration": 9,
    "start_time": "2024-08-25T04:18:18.771Z"
   },
   {
    "duration": 3,
    "start_time": "2024-08-25T04:18:43.085Z"
   },
   {
    "duration": 10,
    "start_time": "2024-08-25T04:18:51.479Z"
   },
   {
    "duration": 3,
    "start_time": "2024-08-25T04:19:41.188Z"
   },
   {
    "duration": 1395,
    "start_time": "2024-08-25T04:19:48.757Z"
   },
   {
    "duration": 1447,
    "start_time": "2024-08-25T04:20:04.271Z"
   },
   {
    "duration": 3020,
    "start_time": "2024-08-25T04:20:38.411Z"
   },
   {
    "duration": 1551,
    "start_time": "2024-08-25T04:20:46.956Z"
   },
   {
    "duration": 1611,
    "start_time": "2024-08-25T04:23:38.800Z"
   },
   {
    "duration": 1418,
    "start_time": "2024-08-25T04:23:59.675Z"
   },
   {
    "duration": 1272,
    "start_time": "2024-08-25T04:24:24.077Z"
   },
   {
    "duration": 1564,
    "start_time": "2024-08-25T04:24:38.831Z"
   },
   {
    "duration": 1840,
    "start_time": "2024-08-25T04:24:56.297Z"
   },
   {
    "duration": 1547,
    "start_time": "2024-08-25T04:25:05.234Z"
   },
   {
    "duration": 1651,
    "start_time": "2024-08-25T04:25:16.804Z"
   },
   {
    "duration": 3032,
    "start_time": "2024-08-25T04:25:41.518Z"
   },
   {
    "duration": 3028,
    "start_time": "2024-08-25T04:26:01.417Z"
   },
   {
    "duration": 1597,
    "start_time": "2024-08-25T04:26:10.362Z"
   },
   {
    "duration": 4,
    "start_time": "2024-08-25T04:29:31.065Z"
   },
   {
    "duration": 10,
    "start_time": "2024-08-25T04:35:08.256Z"
   },
   {
    "duration": 4,
    "start_time": "2024-08-25T04:35:51.110Z"
   },
   {
    "duration": 6,
    "start_time": "2024-08-25T04:35:58.879Z"
   },
   {
    "duration": 5,
    "start_time": "2024-08-25T04:36:07.088Z"
   },
   {
    "duration": 6,
    "start_time": "2024-08-25T04:36:12.728Z"
   },
   {
    "duration": 6,
    "start_time": "2024-08-25T04:36:17.265Z"
   },
   {
    "duration": 7,
    "start_time": "2024-08-25T04:36:23.473Z"
   },
   {
    "duration": 6,
    "start_time": "2024-08-25T04:36:27.170Z"
   },
   {
    "duration": 8,
    "start_time": "2024-08-25T04:36:34.318Z"
   },
   {
    "duration": 6,
    "start_time": "2024-08-25T04:36:37.451Z"
   },
   {
    "duration": 6,
    "start_time": "2024-08-25T04:36:40.779Z"
   },
   {
    "duration": 1223,
    "start_time": "2024-08-25T04:37:22.158Z"
   },
   {
    "duration": 1562,
    "start_time": "2024-08-25T04:38:25.144Z"
   },
   {
    "duration": 1567,
    "start_time": "2024-08-25T04:38:30.648Z"
   },
   {
    "duration": 7,
    "start_time": "2024-08-25T04:39:35.520Z"
   },
   {
    "duration": 6,
    "start_time": "2024-08-25T04:39:38.848Z"
   },
   {
    "duration": 7,
    "start_time": "2024-08-25T04:39:45.288Z"
   },
   {
    "duration": 8,
    "start_time": "2024-08-25T04:39:51.506Z"
   },
   {
    "duration": 6,
    "start_time": "2024-08-25T04:39:55.594Z"
   },
   {
    "duration": 1337,
    "start_time": "2024-08-25T04:40:14.028Z"
   },
   {
    "duration": 1412,
    "start_time": "2024-08-25T04:41:49.511Z"
   },
   {
    "duration": 1290,
    "start_time": "2024-08-25T04:41:55.712Z"
   },
   {
    "duration": 7,
    "start_time": "2024-08-25T04:42:35.645Z"
   },
   {
    "duration": 6,
    "start_time": "2024-08-25T04:42:38.061Z"
   },
   {
    "duration": 1356,
    "start_time": "2024-08-25T04:42:38.597Z"
   },
   {
    "duration": 7,
    "start_time": "2024-08-25T04:44:41.575Z"
   },
   {
    "duration": 5,
    "start_time": "2024-08-25T04:44:44.496Z"
   },
   {
    "duration": 6,
    "start_time": "2024-08-25T04:44:48.808Z"
   },
   {
    "duration": 11,
    "start_time": "2024-08-25T04:44:59.297Z"
   },
   {
    "duration": 7,
    "start_time": "2024-08-25T04:45:09.171Z"
   },
   {
    "duration": 8,
    "start_time": "2024-08-25T04:45:13.307Z"
   },
   {
    "duration": 6,
    "start_time": "2024-08-25T04:45:18.395Z"
   },
   {
    "duration": 8,
    "start_time": "2024-08-25T04:45:25.500Z"
   },
   {
    "duration": 6,
    "start_time": "2024-08-25T04:45:33.573Z"
   },
   {
    "duration": 111,
    "start_time": "2024-08-25T04:46:27.541Z"
   },
   {
    "duration": 1412,
    "start_time": "2024-08-25T04:46:47.350Z"
   },
   {
    "duration": 118,
    "start_time": "2024-08-25T04:47:23.347Z"
   },
   {
    "duration": 121,
    "start_time": "2024-08-25T04:47:38.187Z"
   },
   {
    "duration": 1350,
    "start_time": "2024-08-25T04:47:49.461Z"
   },
   {
    "duration": 6,
    "start_time": "2024-08-25T04:50:10.038Z"
   },
   {
    "duration": 6,
    "start_time": "2024-08-25T04:50:46.722Z"
   },
   {
    "duration": 1645,
    "start_time": "2024-08-25T05:01:05.107Z"
   },
   {
    "duration": 1491,
    "start_time": "2024-08-25T05:01:14.828Z"
   },
   {
    "duration": 1457,
    "start_time": "2024-08-25T05:06:33.345Z"
   },
   {
    "duration": 8,
    "start_time": "2024-08-25T06:30:37.278Z"
   },
   {
    "duration": 6,
    "start_time": "2024-08-25T06:30:49.600Z"
   },
   {
    "duration": 6,
    "start_time": "2024-08-25T06:31:05.608Z"
   },
   {
    "duration": 3,
    "start_time": "2024-08-25T06:33:56.133Z"
   },
   {
    "duration": 37804,
    "start_time": "2024-08-25T06:34:43.987Z"
   },
   {
    "duration": 24659,
    "start_time": "2024-08-25T06:36:31.736Z"
   },
   {
    "duration": 36882,
    "start_time": "2024-08-25T06:37:29.238Z"
   },
   {
    "duration": 8,
    "start_time": "2024-08-25T06:40:07.585Z"
   },
   {
    "duration": 16,
    "start_time": "2024-08-25T06:40:12.337Z"
   },
   {
    "duration": 19,
    "start_time": "2024-08-25T06:40:35.213Z"
   },
   {
    "duration": 36378,
    "start_time": "2024-08-25T06:40:45.244Z"
   },
   {
    "duration": 14,
    "start_time": "2024-08-25T06:45:28.326Z"
   },
   {
    "duration": 4,
    "start_time": "2024-08-25T06:46:09.027Z"
   },
   {
    "duration": 5,
    "start_time": "2024-08-25T06:46:27.052Z"
   },
   {
    "duration": 5,
    "start_time": "2024-08-25T06:49:09.728Z"
   },
   {
    "duration": 8,
    "start_time": "2024-08-25T06:49:14.600Z"
   },
   {
    "duration": 7,
    "start_time": "2024-08-25T06:49:31.378Z"
   },
   {
    "duration": 5,
    "start_time": "2024-08-25T06:50:51.036Z"
   },
   {
    "duration": 12,
    "start_time": "2024-08-25T06:53:50.160Z"
   },
   {
    "duration": 9,
    "start_time": "2024-08-25T06:54:26.077Z"
   },
   {
    "duration": 7,
    "start_time": "2024-08-25T06:57:22.137Z"
   },
   {
    "duration": 9,
    "start_time": "2024-08-25T06:57:48.940Z"
   },
   {
    "duration": 5,
    "start_time": "2024-08-25T06:58:06.054Z"
   },
   {
    "duration": 4,
    "start_time": "2024-08-25T06:58:17.432Z"
   },
   {
    "duration": 5,
    "start_time": "2024-08-25T06:58:58.244Z"
   },
   {
    "duration": 6,
    "start_time": "2024-08-25T06:59:52.723Z"
   },
   {
    "duration": 6,
    "start_time": "2024-08-25T07:00:34.000Z"
   },
   {
    "duration": 9,
    "start_time": "2024-08-25T07:01:12.394Z"
   },
   {
    "duration": 8,
    "start_time": "2024-08-25T07:07:10.469Z"
   },
   {
    "duration": 7,
    "start_time": "2024-08-25T07:07:37.641Z"
   },
   {
    "duration": 15680,
    "start_time": "2024-08-25T07:09:21.438Z"
   },
   {
    "duration": 219,
    "start_time": "2024-08-25T07:12:20.338Z"
   },
   {
    "duration": 271,
    "start_time": "2024-08-25T07:13:39.876Z"
   },
   {
    "duration": 186,
    "start_time": "2024-08-25T07:15:43.442Z"
   },
   {
    "duration": 35125,
    "start_time": "2024-08-25T07:16:14.430Z"
   },
   {
    "duration": 34817,
    "start_time": "2024-08-25T07:21:01.999Z"
   },
   {
    "duration": 154,
    "start_time": "2024-08-25T07:23:36.618Z"
   },
   {
    "duration": 153,
    "start_time": "2024-08-25T07:24:04.237Z"
   },
   {
    "duration": 180,
    "start_time": "2024-08-25T07:24:18.311Z"
   },
   {
    "duration": 238,
    "start_time": "2024-08-25T07:24:54.500Z"
   },
   {
    "duration": 186,
    "start_time": "2024-08-25T07:25:02.908Z"
   },
   {
    "duration": 214,
    "start_time": "2024-08-25T07:25:07.428Z"
   },
   {
    "duration": 476,
    "start_time": "2024-08-25T07:25:15.110Z"
   },
   {
    "duration": 207,
    "start_time": "2024-08-25T07:25:35.120Z"
   },
   {
    "duration": 188,
    "start_time": "2024-08-25T07:25:50.033Z"
   },
   {
    "duration": 187,
    "start_time": "2024-08-25T07:25:58.307Z"
   },
   {
    "duration": 200,
    "start_time": "2024-08-25T07:26:01.435Z"
   },
   {
    "duration": 178,
    "start_time": "2024-08-25T07:26:08.052Z"
   },
   {
    "duration": 182,
    "start_time": "2024-08-25T07:26:12.381Z"
   },
   {
    "duration": 195,
    "start_time": "2024-08-25T07:26:38.207Z"
   },
   {
    "duration": 198,
    "start_time": "2024-08-25T07:26:43.687Z"
   },
   {
    "duration": 180,
    "start_time": "2024-08-25T07:26:49.841Z"
   },
   {
    "duration": 185,
    "start_time": "2024-08-25T07:26:52.937Z"
   },
   {
    "duration": 197,
    "start_time": "2024-08-25T07:27:05.491Z"
   },
   {
    "duration": 181,
    "start_time": "2024-08-25T07:27:09.259Z"
   },
   {
    "duration": 191,
    "start_time": "2024-08-25T07:27:18.756Z"
   },
   {
    "duration": 185,
    "start_time": "2024-08-25T07:27:21.812Z"
   },
   {
    "duration": 185,
    "start_time": "2024-08-25T07:27:27.597Z"
   },
   {
    "duration": 195,
    "start_time": "2024-08-25T07:27:33.494Z"
   },
   {
    "duration": 187,
    "start_time": "2024-08-25T07:27:43.215Z"
   },
   {
    "duration": 211,
    "start_time": "2024-08-25T07:27:50.728Z"
   },
   {
    "duration": 515,
    "start_time": "2024-08-25T07:27:55.488Z"
   },
   {
    "duration": 192,
    "start_time": "2024-08-25T07:28:07.970Z"
   },
   {
    "duration": 206,
    "start_time": "2024-08-25T07:28:12.042Z"
   },
   {
    "duration": 190,
    "start_time": "2024-08-25T07:28:16.947Z"
   },
   {
    "duration": 205,
    "start_time": "2024-08-25T07:28:20.683Z"
   },
   {
    "duration": 186,
    "start_time": "2024-08-25T07:28:27.188Z"
   },
   {
    "duration": 189,
    "start_time": "2024-08-25T07:29:26.443Z"
   },
   {
    "duration": 171,
    "start_time": "2024-08-25T07:30:00.007Z"
   },
   {
    "duration": 169,
    "start_time": "2024-08-25T07:30:35.404Z"
   },
   {
    "duration": 116,
    "start_time": "2024-08-25T07:30:42.836Z"
   },
   {
    "duration": 185,
    "start_time": "2024-08-25T07:30:48.557Z"
   },
   {
    "duration": 172,
    "start_time": "2024-08-25T07:30:57.670Z"
   },
   {
    "duration": 166,
    "start_time": "2024-08-25T07:31:08.296Z"
   },
   {
    "duration": 166,
    "start_time": "2024-08-25T07:32:11.783Z"
   },
   {
    "duration": 328,
    "start_time": "2024-08-25T07:32:28.601Z"
   },
   {
    "duration": 168,
    "start_time": "2024-08-25T07:32:41.426Z"
   },
   {
    "duration": 68,
    "start_time": "2024-08-25T07:37:55.279Z"
   },
   {
    "duration": 62,
    "start_time": "2024-08-25T07:38:09.448Z"
   },
   {
    "duration": 65,
    "start_time": "2024-08-25T07:38:12.224Z"
   },
   {
    "duration": 6,
    "start_time": "2024-08-25T07:38:18.289Z"
   },
   {
    "duration": 6,
    "start_time": "2024-08-25T07:38:43.300Z"
   },
   {
    "duration": 6,
    "start_time": "2024-08-25T07:38:45.171Z"
   },
   {
    "duration": 6,
    "start_time": "2024-08-25T07:38:53.549Z"
   },
   {
    "duration": 5,
    "start_time": "2024-08-25T07:38:57.646Z"
   },
   {
    "duration": 6,
    "start_time": "2024-08-25T07:39:06.343Z"
   },
   {
    "duration": 7,
    "start_time": "2024-08-25T07:41:37.528Z"
   },
   {
    "duration": 6,
    "start_time": "2024-08-25T07:42:08.596Z"
   },
   {
    "duration": 23,
    "start_time": "2024-08-25T07:49:11.053Z"
   },
   {
    "duration": 4,
    "start_time": "2024-08-25T07:49:21.631Z"
   },
   {
    "duration": 6,
    "start_time": "2024-08-25T07:49:47.305Z"
   },
   {
    "duration": 50,
    "start_time": "2024-08-25T10:34:09.386Z"
   },
   {
    "duration": 1225,
    "start_time": "2024-08-25T10:34:21.779Z"
   },
   {
    "duration": 295,
    "start_time": "2024-08-25T10:34:23.006Z"
   },
   {
    "duration": 20,
    "start_time": "2024-08-25T10:34:24.123Z"
   },
   {
    "duration": 16,
    "start_time": "2024-08-25T10:34:24.610Z"
   },
   {
    "duration": 14,
    "start_time": "2024-08-25T10:34:25.042Z"
   },
   {
    "duration": 8,
    "start_time": "2024-08-25T10:34:25.947Z"
   },
   {
    "duration": 5,
    "start_time": "2024-08-25T10:34:26.386Z"
   },
   {
    "duration": 8,
    "start_time": "2024-08-25T10:34:26.603Z"
   },
   {
    "duration": 5,
    "start_time": "2024-08-25T10:34:27.043Z"
   },
   {
    "duration": 5,
    "start_time": "2024-08-25T10:34:27.259Z"
   },
   {
    "duration": 6,
    "start_time": "2024-08-25T10:34:27.475Z"
   },
   {
    "duration": 8,
    "start_time": "2024-08-25T10:34:28.317Z"
   },
   {
    "duration": 163,
    "start_time": "2024-08-25T10:34:28.490Z"
   },
   {
    "duration": 132,
    "start_time": "2024-08-25T10:34:28.655Z"
   },
   {
    "duration": 4,
    "start_time": "2024-08-25T10:34:28.788Z"
   },
   {
    "duration": 76,
    "start_time": "2024-08-25T10:34:28.793Z"
   },
   {
    "duration": 124,
    "start_time": "2024-08-25T10:34:28.871Z"
   },
   {
    "duration": 118,
    "start_time": "2024-08-25T10:34:28.997Z"
   },
   {
    "duration": 241,
    "start_time": "2024-08-25T10:34:29.116Z"
   },
   {
    "duration": 9,
    "start_time": "2024-08-25T10:34:29.360Z"
   },
   {
    "duration": 139,
    "start_time": "2024-08-25T10:34:29.371Z"
   },
   {
    "duration": 248,
    "start_time": "2024-08-25T10:34:29.512Z"
   },
   {
    "duration": 9,
    "start_time": "2024-08-25T10:34:29.761Z"
   },
   {
    "duration": 11,
    "start_time": "2024-08-25T10:34:29.772Z"
   },
   {
    "duration": 12,
    "start_time": "2024-08-25T10:34:29.785Z"
   },
   {
    "duration": 41,
    "start_time": "2024-08-25T10:34:29.799Z"
   },
   {
    "duration": 7,
    "start_time": "2024-08-25T10:34:29.842Z"
   },
   {
    "duration": 12,
    "start_time": "2024-08-25T10:34:29.851Z"
   },
   {
    "duration": 7,
    "start_time": "2024-08-25T10:34:29.864Z"
   },
   {
    "duration": 11,
    "start_time": "2024-08-25T10:34:29.872Z"
   },
   {
    "duration": 350,
    "start_time": "2024-08-25T10:34:29.885Z"
   },
   {
    "duration": 223,
    "start_time": "2024-08-25T10:34:30.238Z"
   },
   {
    "duration": 229,
    "start_time": "2024-08-25T10:34:30.462Z"
   },
   {
    "duration": 223,
    "start_time": "2024-08-25T10:34:30.693Z"
   },
   {
    "duration": 41,
    "start_time": "2024-08-25T10:34:30.918Z"
   },
   {
    "duration": 26,
    "start_time": "2024-08-25T10:34:30.960Z"
   },
   {
    "duration": 7,
    "start_time": "2024-08-25T10:34:31.155Z"
   },
   {
    "duration": 12,
    "start_time": "2024-08-25T10:34:31.419Z"
   },
   {
    "duration": 6,
    "start_time": "2024-08-25T10:34:32.139Z"
   },
   {
    "duration": 9,
    "start_time": "2024-08-25T10:34:32.356Z"
   },
   {
    "duration": 6,
    "start_time": "2024-08-25T10:34:33.443Z"
   },
   {
    "duration": 5,
    "start_time": "2024-08-25T10:34:34.291Z"
   },
   {
    "duration": 5,
    "start_time": "2024-08-25T10:34:35.140Z"
   },
   {
    "duration": 5,
    "start_time": "2024-08-25T10:34:41.653Z"
   },
   {
    "duration": 5,
    "start_time": "2024-08-25T10:34:51.630Z"
   },
   {
    "duration": 6,
    "start_time": "2024-08-25T10:34:54.086Z"
   },
   {
    "duration": 6,
    "start_time": "2024-08-25T10:40:00.843Z"
   },
   {
    "duration": 5,
    "start_time": "2024-08-25T10:40:10.059Z"
   },
   {
    "duration": 5,
    "start_time": "2024-08-25T10:40:55.669Z"
   },
   {
    "duration": 5,
    "start_time": "2024-08-25T10:40:59.577Z"
   },
   {
    "duration": 5,
    "start_time": "2024-08-25T10:43:11.346Z"
   },
   {
    "duration": 58,
    "start_time": "2024-08-25T10:43:20.922Z"
   },
   {
    "duration": 4,
    "start_time": "2024-08-25T10:43:28.715Z"
   },
   {
    "duration": 5,
    "start_time": "2024-08-25T10:43:40.027Z"
   },
   {
    "duration": 4,
    "start_time": "2024-08-25T10:43:43.957Z"
   },
   {
    "duration": 5,
    "start_time": "2024-08-25T10:44:24.449Z"
   },
   {
    "duration": 5,
    "start_time": "2024-08-25T10:44:35.986Z"
   },
   {
    "duration": 4,
    "start_time": "2024-08-25T10:44:39.339Z"
   },
   {
    "duration": 4,
    "start_time": "2024-08-25T10:44:45.115Z"
   },
   {
    "duration": 5,
    "start_time": "2024-08-25T10:45:59.324Z"
   },
   {
    "duration": 4,
    "start_time": "2024-08-25T10:46:02.901Z"
   },
   {
    "duration": 5,
    "start_time": "2024-08-25T10:46:10.638Z"
   },
   {
    "duration": 5,
    "start_time": "2024-08-25T10:46:16.198Z"
   },
   {
    "duration": 5,
    "start_time": "2024-08-25T10:46:24.071Z"
   },
   {
    "duration": 5,
    "start_time": "2024-08-25T10:46:31.480Z"
   },
   {
    "duration": 4,
    "start_time": "2024-08-25T10:48:31.951Z"
   },
   {
    "duration": 5,
    "start_time": "2024-08-25T10:48:35.959Z"
   },
   {
    "duration": 5,
    "start_time": "2024-08-25T10:48:39.192Z"
   },
   {
    "duration": 5,
    "start_time": "2024-08-25T10:49:47.015Z"
   },
   {
    "duration": 166,
    "start_time": "2024-08-25T10:59:51.176Z"
   },
   {
    "duration": 173,
    "start_time": "2024-08-25T11:04:44.587Z"
   },
   {
    "duration": 200,
    "start_time": "2024-08-25T11:06:06.364Z"
   },
   {
    "duration": 12,
    "start_time": "2024-08-25T11:14:58.991Z"
   },
   {
    "duration": 10,
    "start_time": "2024-08-25T11:15:11.696Z"
   },
   {
    "duration": 6,
    "start_time": "2024-08-25T11:19:29.734Z"
   },
   {
    "duration": 6,
    "start_time": "2024-08-25T11:19:57.209Z"
   },
   {
    "duration": 5,
    "start_time": "2024-08-25T11:19:58.626Z"
   },
   {
    "duration": 9,
    "start_time": "2024-08-25T11:23:59.966Z"
   },
   {
    "duration": 7,
    "start_time": "2024-08-25T11:24:35.979Z"
   },
   {
    "duration": 8,
    "start_time": "2024-08-25T11:26:35.592Z"
   },
   {
    "duration": 8,
    "start_time": "2024-08-25T11:26:48.610Z"
   },
   {
    "duration": 28,
    "start_time": "2024-08-25T11:49:04.041Z"
   },
   {
    "duration": 31,
    "start_time": "2024-08-25T11:49:11.625Z"
   },
   {
    "duration": 31,
    "start_time": "2024-08-25T11:49:21.845Z"
   },
   {
    "duration": 126,
    "start_time": "2024-08-25T11:49:26.866Z"
   },
   {
    "duration": 30,
    "start_time": "2024-08-25T11:49:32.379Z"
   },
   {
    "duration": 29,
    "start_time": "2024-08-25T11:49:36.236Z"
   },
   {
    "duration": 3,
    "start_time": "2024-08-25T11:51:23.657Z"
   },
   {
    "duration": 68,
    "start_time": "2024-08-25T11:51:24.345Z"
   },
   {
    "duration": 16,
    "start_time": "2024-08-25T11:51:25.032Z"
   },
   {
    "duration": 16,
    "start_time": "2024-08-25T11:51:25.736Z"
   },
   {
    "duration": 18,
    "start_time": "2024-08-25T11:51:26.313Z"
   },
   {
    "duration": 7,
    "start_time": "2024-08-25T11:51:27.369Z"
   },
   {
    "duration": 5,
    "start_time": "2024-08-25T11:51:27.769Z"
   },
   {
    "duration": 11,
    "start_time": "2024-08-25T11:51:27.986Z"
   },
   {
    "duration": 5,
    "start_time": "2024-08-25T11:51:28.393Z"
   },
   {
    "duration": 5,
    "start_time": "2024-08-25T11:51:28.601Z"
   },
   {
    "duration": 5,
    "start_time": "2024-08-25T11:51:28.977Z"
   },
   {
    "duration": 8,
    "start_time": "2024-08-25T11:51:29.384Z"
   },
   {
    "duration": 167,
    "start_time": "2024-08-25T11:51:31.193Z"
   },
   {
    "duration": 120,
    "start_time": "2024-08-25T11:51:31.785Z"
   },
   {
    "duration": 3,
    "start_time": "2024-08-25T11:51:32.561Z"
   },
   {
    "duration": 5,
    "start_time": "2024-08-25T11:51:32.761Z"
   },
   {
    "duration": 146,
    "start_time": "2024-08-25T11:51:32.953Z"
   },
   {
    "duration": 105,
    "start_time": "2024-08-25T11:51:33.769Z"
   },
   {
    "duration": 267,
    "start_time": "2024-08-25T11:51:34.385Z"
   },
   {
    "duration": 8,
    "start_time": "2024-08-25T11:51:34.787Z"
   },
   {
    "duration": 112,
    "start_time": "2024-08-25T11:51:35.585Z"
   },
   {
    "duration": 239,
    "start_time": "2024-08-25T11:51:35.978Z"
   },
   {
    "duration": 8,
    "start_time": "2024-08-25T11:51:36.370Z"
   },
   {
    "duration": 13,
    "start_time": "2024-08-25T11:51:37.698Z"
   },
   {
    "duration": 9,
    "start_time": "2024-08-25T11:51:37.850Z"
   },
   {
    "duration": 12,
    "start_time": "2024-08-25T11:51:38.115Z"
   },
   {
    "duration": 7,
    "start_time": "2024-08-25T11:51:38.698Z"
   },
   {
    "duration": 11,
    "start_time": "2024-08-25T11:51:38.891Z"
   },
   {
    "duration": 7,
    "start_time": "2024-08-25T11:51:39.298Z"
   },
   {
    "duration": 16,
    "start_time": "2024-08-25T11:51:39.498Z"
   },
   {
    "duration": 216,
    "start_time": "2024-08-25T11:51:40.114Z"
   },
   {
    "duration": 319,
    "start_time": "2024-08-25T11:51:40.770Z"
   },
   {
    "duration": 242,
    "start_time": "2024-08-25T11:51:41.386Z"
   },
   {
    "duration": 215,
    "start_time": "2024-08-25T11:51:41.962Z"
   },
   {
    "duration": 30,
    "start_time": "2024-08-25T11:51:43.227Z"
   },
   {
    "duration": 37,
    "start_time": "2024-08-25T11:51:43.807Z"
   },
   {
    "duration": 9,
    "start_time": "2024-08-25T11:51:44.587Z"
   },
   {
    "duration": 14,
    "start_time": "2024-08-25T11:51:44.779Z"
   },
   {
    "duration": 16,
    "start_time": "2024-08-25T11:51:44.979Z"
   },
   {
    "duration": 8,
    "start_time": "2024-08-25T11:51:45.571Z"
   },
   {
    "duration": 15,
    "start_time": "2024-08-25T11:51:45.763Z"
   },
   {
    "duration": 13,
    "start_time": "2024-08-25T11:51:45.987Z"
   },
   {
    "duration": 6,
    "start_time": "2024-08-25T11:51:46.979Z"
   },
   {
    "duration": 5,
    "start_time": "2024-08-25T11:51:47.771Z"
   },
   {
    "duration": 5,
    "start_time": "2024-08-25T11:51:48.563Z"
   },
   {
    "duration": 5,
    "start_time": "2024-08-25T11:51:49.915Z"
   },
   {
    "duration": 1259,
    "start_time": "2024-08-25T11:51:50.308Z"
   },
   {
    "duration": 1237,
    "start_time": "2024-08-25T11:52:19.543Z"
   },
   {
    "duration": 6,
    "start_time": "2024-08-25T11:52:22.888Z"
   },
   {
    "duration": 172,
    "start_time": "2024-08-25T11:52:23.568Z"
   },
   {
    "duration": 1053,
    "start_time": "2024-08-25T12:02:27.718Z"
   },
   {
    "duration": 273,
    "start_time": "2024-08-25T12:02:28.772Z"
   },
   {
    "duration": 19,
    "start_time": "2024-08-25T12:02:29.047Z"
   },
   {
    "duration": 15,
    "start_time": "2024-08-25T12:02:29.068Z"
   },
   {
    "duration": 48,
    "start_time": "2024-08-25T12:02:29.085Z"
   },
   {
    "duration": 100,
    "start_time": "2024-08-25T12:02:29.135Z"
   },
   {
    "duration": 24,
    "start_time": "2024-08-25T12:02:29.236Z"
   },
   {
    "duration": 25,
    "start_time": "2024-08-25T12:02:29.261Z"
   },
   {
    "duration": 7,
    "start_time": "2024-08-25T12:02:29.287Z"
   },
   {
    "duration": 13,
    "start_time": "2024-08-25T12:02:29.297Z"
   },
   {
    "duration": 12,
    "start_time": "2024-08-25T12:02:29.311Z"
   },
   {
    "duration": 93,
    "start_time": "2024-08-25T12:02:29.325Z"
   },
   {
    "duration": 160,
    "start_time": "2024-08-25T12:02:29.420Z"
   },
   {
    "duration": 123,
    "start_time": "2024-08-25T12:02:29.581Z"
   },
   {
    "duration": 3,
    "start_time": "2024-08-25T12:02:29.705Z"
   },
   {
    "duration": 9,
    "start_time": "2024-08-25T12:02:29.710Z"
   },
   {
    "duration": 138,
    "start_time": "2024-08-25T12:02:29.720Z"
   },
   {
    "duration": 110,
    "start_time": "2024-08-25T12:02:29.860Z"
   },
   {
    "duration": 241,
    "start_time": "2024-08-25T12:02:29.972Z"
   },
   {
    "duration": 10,
    "start_time": "2024-08-25T12:02:30.215Z"
   },
   {
    "duration": 169,
    "start_time": "2024-08-25T12:02:30.227Z"
   },
   {
    "duration": 229,
    "start_time": "2024-08-25T12:02:30.397Z"
   },
   {
    "duration": 15,
    "start_time": "2024-08-25T12:02:30.627Z"
   },
   {
    "duration": 20,
    "start_time": "2024-08-25T12:02:30.644Z"
   },
   {
    "duration": 9,
    "start_time": "2024-08-25T12:02:30.665Z"
   },
   {
    "duration": 39,
    "start_time": "2024-08-25T12:02:30.676Z"
   },
   {
    "duration": 21,
    "start_time": "2024-08-25T12:02:30.717Z"
   },
   {
    "duration": 23,
    "start_time": "2024-08-25T12:02:30.741Z"
   },
   {
    "duration": 11,
    "start_time": "2024-08-25T12:02:30.766Z"
   },
   {
    "duration": 30,
    "start_time": "2024-08-25T12:02:30.779Z"
   },
   {
    "duration": 267,
    "start_time": "2024-08-25T12:02:30.811Z"
   },
   {
    "duration": 217,
    "start_time": "2024-08-25T12:02:31.079Z"
   },
   {
    "duration": 249,
    "start_time": "2024-08-25T12:02:31.298Z"
   },
   {
    "duration": 211,
    "start_time": "2024-08-25T12:02:31.548Z"
   },
   {
    "duration": 30,
    "start_time": "2024-08-25T12:02:31.760Z"
   },
   {
    "duration": 25,
    "start_time": "2024-08-25T12:02:31.791Z"
   },
   {
    "duration": 24,
    "start_time": "2024-08-25T12:02:31.817Z"
   },
   {
    "duration": 11,
    "start_time": "2024-08-25T12:02:31.842Z"
   },
   {
    "duration": 24,
    "start_time": "2024-08-25T12:02:31.855Z"
   },
   {
    "duration": 5,
    "start_time": "2024-08-25T12:02:31.880Z"
   },
   {
    "duration": 9,
    "start_time": "2024-08-25T12:02:31.887Z"
   },
   {
    "duration": 11,
    "start_time": "2024-08-25T12:02:31.897Z"
   },
   {
    "duration": 28,
    "start_time": "2024-08-25T12:02:31.910Z"
   },
   {
    "duration": 8,
    "start_time": "2024-08-25T12:02:31.940Z"
   },
   {
    "duration": 15,
    "start_time": "2024-08-25T12:02:31.950Z"
   },
   {
    "duration": 10,
    "start_time": "2024-08-25T12:02:31.966Z"
   },
   {
    "duration": 1252,
    "start_time": "2024-08-25T12:02:31.977Z"
   },
   {
    "duration": 8,
    "start_time": "2024-08-25T12:02:33.231Z"
   },
   {
    "duration": 181,
    "start_time": "2024-08-25T12:02:33.241Z"
   },
   {
    "duration": 115,
    "start_time": "2024-08-25T12:09:51.964Z"
   },
   {
    "duration": 116,
    "start_time": "2024-08-25T12:09:57.410Z"
   },
   {
    "duration": 18,
    "start_time": "2024-08-25T12:11:39.893Z"
   },
   {
    "duration": 116,
    "start_time": "2024-08-25T12:18:29.141Z"
   },
   {
    "duration": 5,
    "start_time": "2024-08-25T12:22:46.002Z"
   },
   {
    "duration": 1074,
    "start_time": "2024-08-25T12:30:50.717Z"
   },
   {
    "duration": 65,
    "start_time": "2024-08-25T12:30:51.793Z"
   },
   {
    "duration": 19,
    "start_time": "2024-08-25T12:30:51.860Z"
   },
   {
    "duration": 15,
    "start_time": "2024-08-25T12:30:51.881Z"
   },
   {
    "duration": 12,
    "start_time": "2024-08-25T12:30:51.898Z"
   },
   {
    "duration": 7,
    "start_time": "2024-08-25T12:30:51.912Z"
   },
   {
    "duration": 17,
    "start_time": "2024-08-25T12:30:51.920Z"
   },
   {
    "duration": 8,
    "start_time": "2024-08-25T12:30:51.939Z"
   },
   {
    "duration": 5,
    "start_time": "2024-08-25T12:30:51.948Z"
   },
   {
    "duration": 4,
    "start_time": "2024-08-25T12:30:51.956Z"
   },
   {
    "duration": 10,
    "start_time": "2024-08-25T12:30:51.961Z"
   },
   {
    "duration": 9,
    "start_time": "2024-08-25T12:30:51.972Z"
   },
   {
    "duration": 209,
    "start_time": "2024-08-25T12:30:51.983Z"
   },
   {
    "duration": 132,
    "start_time": "2024-08-25T12:30:52.194Z"
   },
   {
    "duration": 3,
    "start_time": "2024-08-25T12:30:52.328Z"
   },
   {
    "duration": 53,
    "start_time": "2024-08-25T12:30:52.332Z"
   },
   {
    "duration": 153,
    "start_time": "2024-08-25T12:30:52.386Z"
   },
   {
    "duration": 138,
    "start_time": "2024-08-25T12:30:52.542Z"
   },
   {
    "duration": 238,
    "start_time": "2024-08-25T12:30:52.682Z"
   },
   {
    "duration": 19,
    "start_time": "2024-08-25T12:30:52.922Z"
   },
   {
    "duration": 113,
    "start_time": "2024-08-25T12:30:52.942Z"
   },
   {
    "duration": 238,
    "start_time": "2024-08-25T12:30:53.057Z"
   },
   {
    "duration": 8,
    "start_time": "2024-08-25T12:30:53.296Z"
   },
   {
    "duration": 19,
    "start_time": "2024-08-25T12:30:53.306Z"
   },
   {
    "duration": 13,
    "start_time": "2024-08-25T12:30:53.326Z"
   },
   {
    "duration": 11,
    "start_time": "2024-08-25T12:30:53.340Z"
   },
   {
    "duration": 14,
    "start_time": "2024-08-25T12:30:53.352Z"
   },
   {
    "duration": 11,
    "start_time": "2024-08-25T12:30:53.369Z"
   },
   {
    "duration": 8,
    "start_time": "2024-08-25T12:30:53.381Z"
   },
   {
    "duration": 11,
    "start_time": "2024-08-25T12:30:53.390Z"
   },
   {
    "duration": 349,
    "start_time": "2024-08-25T12:30:53.403Z"
   },
   {
    "duration": 229,
    "start_time": "2024-08-25T12:30:53.753Z"
   },
   {
    "duration": 228,
    "start_time": "2024-08-25T12:30:53.983Z"
   },
   {
    "duration": 256,
    "start_time": "2024-08-25T12:30:54.213Z"
   },
   {
    "duration": 30,
    "start_time": "2024-08-25T12:30:54.470Z"
   },
   {
    "duration": 42,
    "start_time": "2024-08-25T12:30:54.501Z"
   },
   {
    "duration": 6,
    "start_time": "2024-08-25T12:30:54.544Z"
   },
   {
    "duration": 19,
    "start_time": "2024-08-25T12:30:54.551Z"
   },
   {
    "duration": 20,
    "start_time": "2024-08-25T12:30:54.571Z"
   },
   {
    "duration": 4,
    "start_time": "2024-08-25T12:30:54.593Z"
   },
   {
    "duration": 8,
    "start_time": "2024-08-25T12:30:54.599Z"
   },
   {
    "duration": 9,
    "start_time": "2024-08-25T12:30:54.609Z"
   },
   {
    "duration": 17,
    "start_time": "2024-08-25T12:30:54.620Z"
   },
   {
    "duration": 4,
    "start_time": "2024-08-25T12:30:54.639Z"
   },
   {
    "duration": 6,
    "start_time": "2024-08-25T12:30:54.644Z"
   },
   {
    "duration": 6,
    "start_time": "2024-08-25T12:30:54.651Z"
   },
   {
    "duration": 1311,
    "start_time": "2024-08-25T12:30:54.659Z"
   },
   {
    "duration": 6,
    "start_time": "2024-08-25T12:30:55.972Z"
   },
   {
    "duration": 181,
    "start_time": "2024-08-25T12:30:55.979Z"
   },
   {
    "duration": 1078,
    "start_time": "2024-08-25T12:42:22.320Z"
   },
   {
    "duration": 65,
    "start_time": "2024-08-25T12:42:23.400Z"
   },
   {
    "duration": 18,
    "start_time": "2024-08-25T12:42:23.467Z"
   },
   {
    "duration": 60,
    "start_time": "2024-08-25T12:42:23.487Z"
   },
   {
    "duration": 25,
    "start_time": "2024-08-25T12:42:23.548Z"
   },
   {
    "duration": 15,
    "start_time": "2024-08-25T12:42:23.575Z"
   },
   {
    "duration": 41,
    "start_time": "2024-08-25T12:42:23.592Z"
   },
   {
    "duration": 29,
    "start_time": "2024-08-25T12:42:23.634Z"
   },
   {
    "duration": 29,
    "start_time": "2024-08-25T12:42:23.664Z"
   },
   {
    "duration": 13,
    "start_time": "2024-08-25T12:42:23.696Z"
   },
   {
    "duration": 14,
    "start_time": "2024-08-25T12:42:23.711Z"
   },
   {
    "duration": 36,
    "start_time": "2024-08-25T12:42:23.726Z"
   },
   {
    "duration": 187,
    "start_time": "2024-08-25T12:42:23.763Z"
   },
   {
    "duration": 126,
    "start_time": "2024-08-25T12:42:23.951Z"
   },
   {
    "duration": 3,
    "start_time": "2024-08-25T12:42:24.079Z"
   },
   {
    "duration": 28,
    "start_time": "2024-08-25T12:42:24.084Z"
   },
   {
    "duration": 154,
    "start_time": "2024-08-25T12:42:24.113Z"
   },
   {
    "duration": 127,
    "start_time": "2024-08-25T12:42:24.268Z"
   },
   {
    "duration": 249,
    "start_time": "2024-08-25T12:42:24.397Z"
   },
   {
    "duration": 10,
    "start_time": "2024-08-25T12:42:24.648Z"
   },
   {
    "duration": 132,
    "start_time": "2024-08-25T12:42:24.660Z"
   },
   {
    "duration": 232,
    "start_time": "2024-08-25T12:42:24.793Z"
   },
   {
    "duration": 16,
    "start_time": "2024-08-25T12:42:25.026Z"
   },
   {
    "duration": 10,
    "start_time": "2024-08-25T12:42:25.044Z"
   },
   {
    "duration": 29,
    "start_time": "2024-08-25T12:42:25.055Z"
   },
   {
    "duration": 22,
    "start_time": "2024-08-25T12:42:25.085Z"
   },
   {
    "duration": 18,
    "start_time": "2024-08-25T12:42:25.108Z"
   },
   {
    "duration": 31,
    "start_time": "2024-08-25T12:42:25.129Z"
   },
   {
    "duration": 34,
    "start_time": "2024-08-25T12:42:25.161Z"
   },
   {
    "duration": 26,
    "start_time": "2024-08-25T12:42:25.197Z"
   },
   {
    "duration": 312,
    "start_time": "2024-08-25T12:42:25.225Z"
   },
   {
    "duration": 224,
    "start_time": "2024-08-25T12:42:25.539Z"
   },
   {
    "duration": 232,
    "start_time": "2024-08-25T12:42:25.764Z"
   },
   {
    "duration": 218,
    "start_time": "2024-08-25T12:42:25.998Z"
   },
   {
    "duration": 40,
    "start_time": "2024-08-25T12:42:26.218Z"
   },
   {
    "duration": 25,
    "start_time": "2024-08-25T12:42:26.259Z"
   },
   {
    "duration": 9,
    "start_time": "2024-08-25T12:42:26.285Z"
   },
   {
    "duration": 84,
    "start_time": "2024-08-25T12:42:26.296Z"
   },
   {
    "duration": 93,
    "start_time": "2024-08-25T12:42:26.382Z"
   },
   {
    "duration": 25,
    "start_time": "2024-08-25T12:42:26.477Z"
   },
   {
    "duration": 65,
    "start_time": "2024-08-25T12:42:26.504Z"
   },
   {
    "duration": 19,
    "start_time": "2024-08-25T12:42:26.570Z"
   },
   {
    "duration": 28,
    "start_time": "2024-08-25T12:42:26.590Z"
   },
   {
    "duration": 25,
    "start_time": "2024-08-25T12:42:26.619Z"
   },
   {
    "duration": 22,
    "start_time": "2024-08-25T12:42:26.645Z"
   },
   {
    "duration": 22,
    "start_time": "2024-08-25T12:42:26.669Z"
   },
   {
    "duration": 1294,
    "start_time": "2024-08-25T12:42:26.692Z"
   },
   {
    "duration": 5,
    "start_time": "2024-08-25T12:42:27.988Z"
   },
   {
    "duration": 250,
    "start_time": "2024-08-25T12:42:27.995Z"
   },
   {
    "duration": 56,
    "start_time": "2024-08-25T13:17:56.449Z"
   },
   {
    "duration": 62,
    "start_time": "2024-08-25T13:18:07.014Z"
   },
   {
    "duration": 1408,
    "start_time": "2024-08-25T13:22:46.111Z"
   },
   {
    "duration": 289,
    "start_time": "2024-08-25T13:22:47.520Z"
   },
   {
    "duration": 23,
    "start_time": "2024-08-25T13:22:47.811Z"
   },
   {
    "duration": 41,
    "start_time": "2024-08-25T13:22:47.836Z"
   },
   {
    "duration": 16,
    "start_time": "2024-08-25T13:22:48.345Z"
   },
   {
    "duration": 9,
    "start_time": "2024-08-25T13:22:49.465Z"
   },
   {
    "duration": 6,
    "start_time": "2024-08-25T13:22:49.993Z"
   },
   {
    "duration": 76,
    "start_time": "2024-08-25T13:25:15.048Z"
   },
   {
    "duration": 12,
    "start_time": "2024-08-25T13:26:09.089Z"
   },
   {
    "duration": 12,
    "start_time": "2024-08-25T13:26:19.024Z"
   },
   {
    "duration": 18,
    "start_time": "2024-08-25T13:26:34.140Z"
   },
   {
    "duration": 12,
    "start_time": "2024-08-25T13:26:44.268Z"
   },
   {
    "duration": 7,
    "start_time": "2024-08-25T13:27:01.830Z"
   },
   {
    "duration": 7,
    "start_time": "2024-08-25T13:27:03.207Z"
   },
   {
    "duration": 14,
    "start_time": "2024-08-25T13:27:03.969Z"
   },
   {
    "duration": 4,
    "start_time": "2024-08-25T13:27:22.760Z"
   },
   {
    "duration": 5,
    "start_time": "2024-08-25T13:27:27.802Z"
   },
   {
    "duration": 9,
    "start_time": "2024-08-25T13:29:30.673Z"
   },
   {
    "duration": 8,
    "start_time": "2024-08-25T13:29:48.354Z"
   },
   {
    "duration": 11,
    "start_time": "2024-08-25T13:30:46.800Z"
   },
   {
    "duration": 10,
    "start_time": "2024-08-25T13:31:25.206Z"
   },
   {
    "duration": 6,
    "start_time": "2024-08-25T13:31:27.727Z"
   },
   {
    "duration": 10,
    "start_time": "2024-08-25T13:31:28.047Z"
   },
   {
    "duration": 10,
    "start_time": "2024-08-25T13:31:51.721Z"
   },
   {
    "duration": 5,
    "start_time": "2024-08-25T13:31:52.105Z"
   },
   {
    "duration": 11,
    "start_time": "2024-08-25T13:31:52.887Z"
   },
   {
    "duration": 6,
    "start_time": "2024-08-25T13:32:44.103Z"
   },
   {
    "duration": 9,
    "start_time": "2024-08-25T13:32:47.672Z"
   },
   {
    "duration": 5,
    "start_time": "2024-08-25T13:33:05.130Z"
   },
   {
    "duration": 6,
    "start_time": "2024-08-25T13:33:52.336Z"
   },
   {
    "duration": 5,
    "start_time": "2024-08-25T13:34:41.335Z"
   },
   {
    "duration": 58,
    "start_time": "2024-08-25T13:34:56.680Z"
   },
   {
    "duration": 6,
    "start_time": "2024-08-25T13:34:59.912Z"
   },
   {
    "duration": 5,
    "start_time": "2024-08-25T13:35:00.936Z"
   },
   {
    "duration": 5,
    "start_time": "2024-08-25T13:35:02.472Z"
   },
   {
    "duration": 9,
    "start_time": "2024-08-25T13:35:03.136Z"
   },
   {
    "duration": 1026,
    "start_time": "2024-08-25T13:35:11.856Z"
   },
   {
    "duration": 5,
    "start_time": "2024-08-25T13:35:13.090Z"
   },
   {
    "duration": 11,
    "start_time": "2024-08-25T13:35:14.059Z"
   },
   {
    "duration": 5,
    "start_time": "2024-08-25T13:35:15.289Z"
   },
   {
    "duration": 13,
    "start_time": "2024-08-25T13:37:06.871Z"
   },
   {
    "duration": 199,
    "start_time": "2024-08-25T13:37:16.936Z"
   },
   {
    "duration": 117,
    "start_time": "2024-08-25T13:37:21.305Z"
   },
   {
    "duration": 171,
    "start_time": "2024-08-25T13:37:32.076Z"
   },
   {
    "duration": 202,
    "start_time": "2024-08-25T13:37:47.044Z"
   },
   {
    "duration": 70,
    "start_time": "2024-08-25T13:39:56.956Z"
   },
   {
    "duration": 203,
    "start_time": "2024-08-25T13:40:01.100Z"
   },
   {
    "duration": 188,
    "start_time": "2024-08-25T13:40:56.898Z"
   },
   {
    "duration": 141,
    "start_time": "2024-08-25T13:41:19.869Z"
   },
   {
    "duration": 154,
    "start_time": "2024-08-25T13:41:24.325Z"
   },
   {
    "duration": 4,
    "start_time": "2024-08-25T13:44:20.187Z"
   },
   {
    "duration": 78,
    "start_time": "2024-08-25T13:44:21.067Z"
   },
   {
    "duration": 24,
    "start_time": "2024-08-25T13:44:21.778Z"
   },
   {
    "duration": 26,
    "start_time": "2024-08-25T13:44:22.379Z"
   },
   {
    "duration": 16,
    "start_time": "2024-08-25T13:44:22.858Z"
   },
   {
    "duration": 9,
    "start_time": "2024-08-25T13:44:23.730Z"
   },
   {
    "duration": 6,
    "start_time": "2024-08-25T13:44:24.371Z"
   },
   {
    "duration": 6,
    "start_time": "2024-08-25T13:44:24.571Z"
   },
   {
    "duration": 5,
    "start_time": "2024-08-25T13:44:25.107Z"
   },
   {
    "duration": 9,
    "start_time": "2024-08-25T13:44:25.771Z"
   },
   {
    "duration": 10,
    "start_time": "2024-08-25T13:44:26.603Z"
   },
   {
    "duration": 6,
    "start_time": "2024-08-25T13:44:26.875Z"
   },
   {
    "duration": 8,
    "start_time": "2024-08-25T13:44:27.155Z"
   },
   {
    "duration": 11,
    "start_time": "2024-08-25T13:44:27.754Z"
   },
   {
    "duration": 46929,
    "start_time": "2024-08-25T13:44:30.739Z"
   },
   {
    "duration": 231,
    "start_time": "2024-08-25T13:46:21.313Z"
   },
   {
    "duration": 194,
    "start_time": "2024-08-25T13:48:02.477Z"
   },
   {
    "duration": 181,
    "start_time": "2024-08-25T13:48:15.991Z"
   },
   {
    "duration": 219,
    "start_time": "2024-08-25T13:48:21.471Z"
   },
   {
    "duration": 213,
    "start_time": "2024-08-25T13:48:26.736Z"
   },
   {
    "duration": 123,
    "start_time": "2024-08-25T13:49:24.670Z"
   },
   {
    "duration": 183,
    "start_time": "2024-08-25T13:50:05.051Z"
   },
   {
    "duration": 183,
    "start_time": "2024-08-25T13:50:17.661Z"
   },
   {
    "duration": 386,
    "start_time": "2024-08-25T13:50:27.742Z"
   },
   {
    "duration": 238,
    "start_time": "2024-08-25T13:50:32.367Z"
   },
   {
    "duration": 63,
    "start_time": "2024-08-25T13:51:14.747Z"
   },
   {
    "duration": 177,
    "start_time": "2024-08-25T13:51:20.236Z"
   },
   {
    "duration": 157,
    "start_time": "2024-08-25T13:52:43.494Z"
   },
   {
    "duration": 146,
    "start_time": "2024-08-25T13:52:55.472Z"
   },
   {
    "duration": 133,
    "start_time": "2024-08-25T13:53:03.577Z"
   },
   {
    "duration": 12,
    "start_time": "2024-08-25T13:53:18.571Z"
   },
   {
    "duration": 12,
    "start_time": "2024-08-25T13:53:23.403Z"
   },
   {
    "duration": 177,
    "start_time": "2024-08-25T13:53:29.964Z"
   },
   {
    "duration": 186,
    "start_time": "2024-08-25T13:54:57.558Z"
   },
   {
    "duration": 184,
    "start_time": "2024-08-25T13:55:03.679Z"
   },
   {
    "duration": 181,
    "start_time": "2024-08-25T13:55:14.256Z"
   },
   {
    "duration": 12,
    "start_time": "2024-08-25T14:01:41.558Z"
   },
   {
    "duration": 10,
    "start_time": "2024-08-25T14:01:52.847Z"
   },
   {
    "duration": 8,
    "start_time": "2024-08-25T14:02:29.892Z"
   },
   {
    "duration": 9,
    "start_time": "2024-08-25T14:02:36.188Z"
   },
   {
    "duration": 10,
    "start_time": "2024-08-25T14:02:43.581Z"
   },
   {
    "duration": 106,
    "start_time": "2024-08-25T14:03:37.276Z"
   },
   {
    "duration": 188,
    "start_time": "2024-08-25T14:04:04.702Z"
   },
   {
    "duration": 102,
    "start_time": "2024-08-25T14:04:14.287Z"
   },
   {
    "duration": 103,
    "start_time": "2024-08-25T14:05:01.462Z"
   },
   {
    "duration": 128,
    "start_time": "2024-08-25T14:05:12.239Z"
   },
   {
    "duration": 99,
    "start_time": "2024-08-25T14:05:20.487Z"
   },
   {
    "duration": 79,
    "start_time": "2024-08-25T14:05:30.793Z"
   },
   {
    "duration": 88,
    "start_time": "2024-08-25T14:05:50.707Z"
   },
   {
    "duration": 25469,
    "start_time": "2024-08-25T14:09:17.860Z"
   },
   {
    "duration": 368,
    "start_time": "2024-08-25T14:14:48.924Z"
   },
   {
    "duration": 275,
    "start_time": "2024-08-25T14:14:54.908Z"
   },
   {
    "duration": 195,
    "start_time": "2024-08-25T14:15:03.084Z"
   },
   {
    "duration": 190,
    "start_time": "2024-08-25T14:15:07.668Z"
   },
   {
    "duration": 1186,
    "start_time": "2024-08-25T14:15:39.473Z"
   },
   {
    "duration": 4,
    "start_time": "2024-08-25T14:15:53.171Z"
   },
   {
    "duration": 4,
    "start_time": "2024-08-25T14:15:53.482Z"
   },
   {
    "duration": 140,
    "start_time": "2024-08-25T14:15:53.914Z"
   },
   {
    "duration": 100,
    "start_time": "2024-08-25T14:16:01.715Z"
   },
   {
    "duration": 181,
    "start_time": "2024-08-25T14:16:07.256Z"
   },
   {
    "duration": 154,
    "start_time": "2024-08-25T14:16:39.432Z"
   },
   {
    "duration": 113,
    "start_time": "2024-08-25T14:17:56.377Z"
   },
   {
    "duration": 88,
    "start_time": "2024-08-25T14:18:04.514Z"
   },
   {
    "duration": 151,
    "start_time": "2024-08-25T14:18:09.212Z"
   },
   {
    "duration": 136,
    "start_time": "2024-08-25T15:47:32.774Z"
   },
   {
    "duration": 147,
    "start_time": "2024-08-25T15:47:43.952Z"
   },
   {
    "duration": 8,
    "start_time": "2024-08-25T15:48:26.699Z"
   },
   {
    "duration": 136,
    "start_time": "2024-08-25T15:52:13.999Z"
   },
   {
    "duration": 144,
    "start_time": "2024-08-25T15:52:27.505Z"
   },
   {
    "duration": 127,
    "start_time": "2024-08-25T15:52:49.571Z"
   },
   {
    "duration": 63,
    "start_time": "2024-08-25T15:53:33.168Z"
   },
   {
    "duration": 76,
    "start_time": "2024-08-25T15:53:39.921Z"
   },
   {
    "duration": 64,
    "start_time": "2024-08-25T15:53:51.170Z"
   },
   {
    "duration": 130,
    "start_time": "2024-08-25T15:53:58.083Z"
   },
   {
    "duration": 155,
    "start_time": "2024-08-25T15:54:07.513Z"
   },
   {
    "duration": 425,
    "start_time": "2024-08-25T15:54:30.623Z"
   },
   {
    "duration": 134,
    "start_time": "2024-08-25T15:57:53.255Z"
   },
   {
    "duration": 131,
    "start_time": "2024-08-25T15:57:58.967Z"
   },
   {
    "duration": 279,
    "start_time": "2024-08-25T15:58:12.392Z"
   },
   {
    "duration": 94,
    "start_time": "2024-08-25T16:00:12.079Z"
   },
   {
    "duration": 233,
    "start_time": "2024-08-25T16:00:20.032Z"
   },
   {
    "duration": 251,
    "start_time": "2024-08-25T16:00:53.428Z"
   },
   {
    "duration": 354,
    "start_time": "2024-08-25T16:00:55.876Z"
   },
   {
    "duration": 10,
    "start_time": "2024-08-25T16:03:58.265Z"
   },
   {
    "duration": 14,
    "start_time": "2024-08-25T16:04:06.474Z"
   },
   {
    "duration": 3108,
    "start_time": "2024-08-25T16:05:15.627Z"
   },
   {
    "duration": 15,
    "start_time": "2024-08-25T16:05:51.007Z"
   },
   {
    "duration": 19,
    "start_time": "2024-08-25T16:07:08.400Z"
   },
   {
    "duration": 8,
    "start_time": "2024-08-25T16:07:55.324Z"
   },
   {
    "duration": 20,
    "start_time": "2024-08-25T16:08:16.648Z"
   },
   {
    "duration": 20,
    "start_time": "2024-08-25T16:08:31.322Z"
   },
   {
    "duration": 17,
    "start_time": "2024-08-25T16:08:35.290Z"
   },
   {
    "duration": 21,
    "start_time": "2024-08-25T16:08:45.419Z"
   },
   {
    "duration": 16,
    "start_time": "2024-08-25T16:08:51.668Z"
   },
   {
    "duration": 14,
    "start_time": "2024-08-25T16:08:59.805Z"
   },
   {
    "duration": 17,
    "start_time": "2024-08-25T16:09:13.959Z"
   },
   {
    "duration": 19,
    "start_time": "2024-08-25T16:11:22.084Z"
   },
   {
    "duration": 12,
    "start_time": "2024-08-25T16:12:53.201Z"
   },
   {
    "duration": 13,
    "start_time": "2024-08-25T16:13:02.305Z"
   },
   {
    "duration": 14,
    "start_time": "2024-08-25T16:13:14.540Z"
   },
   {
    "duration": 10,
    "start_time": "2024-08-25T16:13:19.323Z"
   },
   {
    "duration": 11,
    "start_time": "2024-08-25T16:13:22.484Z"
   },
   {
    "duration": 9,
    "start_time": "2024-08-25T16:13:39.358Z"
   },
   {
    "duration": 15,
    "start_time": "2024-08-25T16:13:46.879Z"
   },
   {
    "duration": 12,
    "start_time": "2024-08-25T16:14:18.979Z"
   },
   {
    "duration": 17,
    "start_time": "2024-08-25T16:14:52.031Z"
   },
   {
    "duration": 15,
    "start_time": "2024-08-25T16:15:02.600Z"
   },
   {
    "duration": 8,
    "start_time": "2024-08-25T16:15:15.266Z"
   },
   {
    "duration": 8,
    "start_time": "2024-08-25T16:15:20.306Z"
   },
   {
    "duration": 62,
    "start_time": "2024-08-25T16:15:26.146Z"
   },
   {
    "duration": 9,
    "start_time": "2024-08-25T16:15:29.563Z"
   },
   {
    "duration": 15,
    "start_time": "2024-08-25T16:15:35.579Z"
   },
   {
    "duration": 12,
    "start_time": "2024-08-25T16:15:41.588Z"
   },
   {
    "duration": 11,
    "start_time": "2024-08-25T16:16:00.303Z"
   },
   {
    "duration": 14,
    "start_time": "2024-08-25T16:16:07.119Z"
   },
   {
    "duration": 4,
    "start_time": "2024-08-25T16:18:10.014Z"
   },
   {
    "duration": 4,
    "start_time": "2024-08-25T16:18:40.698Z"
   },
   {
    "duration": 9,
    "start_time": "2024-08-25T16:19:40.289Z"
   },
   {
    "duration": 9,
    "start_time": "2024-08-25T16:19:53.121Z"
   },
   {
    "duration": 17,
    "start_time": "2024-08-25T16:20:50.678Z"
   },
   {
    "duration": 17,
    "start_time": "2024-08-25T16:20:52.954Z"
   },
   {
    "duration": 22,
    "start_time": "2024-08-25T16:21:08.379Z"
   },
   {
    "duration": 17,
    "start_time": "2024-08-25T16:21:15.947Z"
   },
   {
    "duration": 66,
    "start_time": "2024-08-25T16:25:16.504Z"
   },
   {
    "duration": 5,
    "start_time": "2024-08-25T16:25:43.147Z"
   },
   {
    "duration": 5,
    "start_time": "2024-08-25T16:26:23.120Z"
   },
   {
    "duration": 5,
    "start_time": "2024-08-25T16:26:25.840Z"
   },
   {
    "duration": 7,
    "start_time": "2024-08-25T16:26:26.464Z"
   },
   {
    "duration": 6,
    "start_time": "2024-08-25T16:26:57.011Z"
   },
   {
    "duration": 6,
    "start_time": "2024-08-25T16:27:02.092Z"
   },
   {
    "duration": 11,
    "start_time": "2024-08-25T16:27:20.494Z"
   },
   {
    "duration": 11,
    "start_time": "2024-08-25T16:27:37.678Z"
   },
   {
    "duration": 67,
    "start_time": "2024-08-25T16:29:07.292Z"
   },
   {
    "duration": 5,
    "start_time": "2024-08-25T16:29:10.067Z"
   },
   {
    "duration": 11,
    "start_time": "2024-08-25T16:29:12.295Z"
   },
   {
    "duration": 14,
    "start_time": "2024-08-25T16:29:16.204Z"
   },
   {
    "duration": 5,
    "start_time": "2024-08-25T16:29:17.579Z"
   },
   {
    "duration": 7,
    "start_time": "2024-08-25T16:29:51.753Z"
   },
   {
    "duration": 11,
    "start_time": "2024-08-25T16:29:52.208Z"
   },
   {
    "duration": 10,
    "start_time": "2024-08-25T16:32:46.437Z"
   },
   {
    "duration": 11,
    "start_time": "2024-08-25T16:32:50.413Z"
   },
   {
    "duration": 9,
    "start_time": "2024-08-25T16:32:50.669Z"
   },
   {
    "duration": 13,
    "start_time": "2024-08-25T16:32:50.915Z"
   },
   {
    "duration": 17,
    "start_time": "2024-08-25T16:32:51.461Z"
   },
   {
    "duration": 7,
    "start_time": "2024-08-25T16:34:57.676Z"
   },
   {
    "duration": 14,
    "start_time": "2024-08-25T16:34:58.050Z"
   },
   {
    "duration": 21,
    "start_time": "2024-08-25T16:35:08.629Z"
   },
   {
    "duration": 17,
    "start_time": "2024-08-25T16:35:18.567Z"
   },
   {
    "duration": 9,
    "start_time": "2024-08-25T16:35:30.040Z"
   },
   {
    "duration": 7,
    "start_time": "2024-08-25T16:35:35.912Z"
   },
   {
    "duration": 13,
    "start_time": "2024-08-25T16:35:36.201Z"
   },
   {
    "duration": 14,
    "start_time": "2024-08-25T16:35:36.457Z"
   },
   {
    "duration": 407,
    "start_time": "2024-08-25T16:40:51.134Z"
   },
   {
    "duration": 363,
    "start_time": "2024-08-25T16:43:05.623Z"
   },
   {
    "duration": 70,
    "start_time": "2024-08-25T16:43:23.496Z"
   },
   {
    "duration": 604,
    "start_time": "2024-08-25T16:43:28.120Z"
   },
   {
    "duration": 404,
    "start_time": "2024-08-25T16:43:37.449Z"
   },
   {
    "duration": 557,
    "start_time": "2024-08-25T16:43:47.219Z"
   },
   {
    "duration": 376,
    "start_time": "2024-08-25T16:43:52.403Z"
   },
   {
    "duration": 534,
    "start_time": "2024-08-25T16:44:00.027Z"
   },
   {
    "duration": 374,
    "start_time": "2024-08-25T16:44:06.941Z"
   },
   {
    "duration": 469,
    "start_time": "2024-08-25T16:44:13.405Z"
   },
   {
    "duration": 638,
    "start_time": "2024-08-25T16:44:56.987Z"
   },
   {
    "duration": 495,
    "start_time": "2024-08-25T16:45:03.900Z"
   },
   {
    "duration": 457,
    "start_time": "2024-08-25T16:45:59.419Z"
   },
   {
    "duration": 449,
    "start_time": "2024-08-25T16:46:08.523Z"
   },
   {
    "duration": 603,
    "start_time": "2024-08-25T16:46:29.405Z"
   },
   {
    "duration": 450,
    "start_time": "2024-08-25T16:46:44.439Z"
   },
   {
    "duration": 404,
    "start_time": "2024-08-25T16:46:52.448Z"
   },
   {
    "duration": 453,
    "start_time": "2024-08-25T16:46:58.801Z"
   },
   {
    "duration": 597,
    "start_time": "2024-08-25T16:47:16.435Z"
   },
   {
    "duration": 12,
    "start_time": "2024-08-25T16:48:10.261Z"
   },
   {
    "duration": 415,
    "start_time": "2024-08-25T16:48:15.715Z"
   },
   {
    "duration": 62,
    "start_time": "2024-08-25T16:48:30.412Z"
   },
   {
    "duration": 415,
    "start_time": "2024-08-25T16:48:35.100Z"
   },
   {
    "duration": 645,
    "start_time": "2024-08-25T16:50:13.256Z"
   },
   {
    "duration": 452,
    "start_time": "2024-08-25T16:50:55.374Z"
   },
   {
    "duration": 8,
    "start_time": "2024-08-25T16:51:28.057Z"
   },
   {
    "duration": 5,
    "start_time": "2024-08-25T16:51:41.114Z"
   },
   {
    "duration": 458,
    "start_time": "2024-08-25T16:51:51.620Z"
   },
   {
    "duration": 486,
    "start_time": "2024-08-25T16:51:59.260Z"
   },
   {
    "duration": 646,
    "start_time": "2024-08-25T16:52:09.565Z"
   },
   {
    "duration": 461,
    "start_time": "2024-08-25T16:52:13.910Z"
   },
   {
    "duration": 493,
    "start_time": "2024-08-25T16:52:16.791Z"
   },
   {
    "duration": 7,
    "start_time": "2024-08-25T16:52:25.320Z"
   },
   {
    "duration": 9,
    "start_time": "2024-08-25T16:52:41.673Z"
   },
   {
    "duration": 502,
    "start_time": "2024-08-25T16:53:30.039Z"
   },
   {
    "duration": 685,
    "start_time": "2024-08-25T16:53:34.679Z"
   },
   {
    "duration": 8,
    "start_time": "2024-08-25T16:53:36.200Z"
   },
   {
    "duration": 66,
    "start_time": "2024-08-25T17:02:25.306Z"
   },
   {
    "duration": 63,
    "start_time": "2024-08-25T17:02:31.258Z"
   },
   {
    "duration": 481,
    "start_time": "2024-08-25T17:02:39.043Z"
   },
   {
    "duration": 38,
    "start_time": "2024-08-25T17:09:30.355Z"
   },
   {
    "duration": 5,
    "start_time": "2024-08-25T17:11:43.419Z"
   },
   {
    "duration": 5,
    "start_time": "2024-08-25T17:12:10.542Z"
   },
   {
    "duration": 5,
    "start_time": "2024-08-25T17:12:14.270Z"
   },
   {
    "duration": 6,
    "start_time": "2024-08-25T17:12:18.534Z"
   },
   {
    "duration": 7,
    "start_time": "2024-08-25T17:12:22.208Z"
   },
   {
    "duration": 6,
    "start_time": "2024-08-25T17:12:27.087Z"
   },
   {
    "duration": 6,
    "start_time": "2024-08-25T17:12:30.904Z"
   },
   {
    "duration": 7,
    "start_time": "2024-08-25T17:12:34.304Z"
   },
   {
    "duration": 6,
    "start_time": "2024-08-25T17:12:52.786Z"
   },
   {
    "duration": 6,
    "start_time": "2024-08-25T17:12:58.370Z"
   },
   {
    "duration": 5,
    "start_time": "2024-08-25T17:13:02.068Z"
   },
   {
    "duration": 5,
    "start_time": "2024-08-25T17:13:26.670Z"
   },
   {
    "duration": 5,
    "start_time": "2024-08-25T17:13:31.135Z"
   },
   {
    "duration": 5,
    "start_time": "2024-08-25T17:13:40.800Z"
   },
   {
    "duration": 6,
    "start_time": "2024-08-25T17:13:46.240Z"
   },
   {
    "duration": 5,
    "start_time": "2024-08-25T17:13:51.954Z"
   },
   {
    "duration": 5,
    "start_time": "2024-08-25T17:13:55.530Z"
   },
   {
    "duration": 5,
    "start_time": "2024-08-25T17:13:59.314Z"
   },
   {
    "duration": 5,
    "start_time": "2024-08-25T17:14:04.755Z"
   },
   {
    "duration": 6,
    "start_time": "2024-08-25T17:14:08.266Z"
   },
   {
    "duration": 7,
    "start_time": "2024-08-25T17:14:10.781Z"
   },
   {
    "duration": 5,
    "start_time": "2024-08-25T17:14:15.916Z"
   },
   {
    "duration": 5,
    "start_time": "2024-08-25T17:14:20.037Z"
   },
   {
    "duration": 6,
    "start_time": "2024-08-25T17:14:22.598Z"
   },
   {
    "duration": 6,
    "start_time": "2024-08-25T17:14:25.573Z"
   },
   {
    "duration": 6,
    "start_time": "2024-08-25T17:14:37.151Z"
   },
   {
    "duration": 5,
    "start_time": "2024-08-25T17:14:44.959Z"
   },
   {
    "duration": 6,
    "start_time": "2024-08-25T17:16:49.014Z"
   },
   {
    "duration": 1390,
    "start_time": "2024-08-25T17:16:52.310Z"
   },
   {
    "duration": 1806,
    "start_time": "2024-08-25T17:17:03.264Z"
   },
   {
    "duration": 1940,
    "start_time": "2024-08-25T17:17:22.715Z"
   },
   {
    "duration": 2065,
    "start_time": "2024-08-25T17:17:30.812Z"
   },
   {
    "duration": 2252,
    "start_time": "2024-08-25T17:17:37.789Z"
   },
   {
    "duration": 9,
    "start_time": "2024-08-25T17:20:03.078Z"
   },
   {
    "duration": 3,
    "start_time": "2024-08-25T17:20:08.886Z"
   },
   {
    "duration": 10,
    "start_time": "2024-08-25T17:20:14.406Z"
   },
   {
    "duration": 4,
    "start_time": "2024-08-25T17:21:01.292Z"
   },
   {
    "duration": 3,
    "start_time": "2024-08-25T17:23:59.025Z"
   },
   {
    "duration": 970,
    "start_time": "2024-08-25T17:24:17.844Z"
   },
   {
    "duration": 8,
    "start_time": "2024-08-25T17:24:35.461Z"
   },
   {
    "duration": 10,
    "start_time": "2024-08-25T17:24:50.335Z"
   },
   {
    "duration": 13,
    "start_time": "2024-08-25T17:25:09.265Z"
   },
   {
    "duration": 38,
    "start_time": "2024-08-25T17:25:27.331Z"
   },
   {
    "duration": 4,
    "start_time": "2024-08-25T17:25:27.811Z"
   },
   {
    "duration": 14,
    "start_time": "2024-08-25T17:26:20.609Z"
   },
   {
    "duration": 4,
    "start_time": "2024-08-25T17:26:31.387Z"
   },
   {
    "duration": 68,
    "start_time": "2024-08-25T17:26:31.786Z"
   },
   {
    "duration": 15,
    "start_time": "2024-08-25T17:26:32.171Z"
   },
   {
    "duration": 16,
    "start_time": "2024-08-25T17:26:32.642Z"
   },
   {
    "duration": 17,
    "start_time": "2024-08-25T17:26:33.211Z"
   },
   {
    "duration": 8,
    "start_time": "2024-08-25T17:26:34.162Z"
   },
   {
    "duration": 5,
    "start_time": "2024-08-25T17:26:34.603Z"
   },
   {
    "duration": 4,
    "start_time": "2024-08-25T17:26:34.795Z"
   },
   {
    "duration": 5,
    "start_time": "2024-08-25T17:26:35.203Z"
   },
   {
    "duration": 9,
    "start_time": "2024-08-25T17:26:35.602Z"
   },
   {
    "duration": 5,
    "start_time": "2024-08-25T17:26:36.003Z"
   },
   {
    "duration": 5,
    "start_time": "2024-08-25T17:26:36.210Z"
   },
   {
    "duration": 7,
    "start_time": "2024-08-25T17:26:36.403Z"
   },
   {
    "duration": 8,
    "start_time": "2024-08-25T17:26:36.795Z"
   },
   {
    "duration": 198,
    "start_time": "2024-08-25T17:26:38.010Z"
   },
   {
    "duration": 87,
    "start_time": "2024-08-25T17:26:39.403Z"
   },
   {
    "duration": 162,
    "start_time": "2024-08-25T17:26:40.675Z"
   },
   {
    "duration": 8,
    "start_time": "2024-08-25T17:26:41.091Z"
   },
   {
    "duration": 132,
    "start_time": "2024-08-25T17:26:41.922Z"
   },
   {
    "duration": 263,
    "start_time": "2024-08-25T17:26:42.771Z"
   },
   {
    "duration": 9,
    "start_time": "2024-08-25T17:26:43.387Z"
   },
   {
    "duration": 143,
    "start_time": "2024-08-25T17:26:44.020Z"
   },
   {
    "duration": 311,
    "start_time": "2024-08-25T17:26:44.435Z"
   },
   {
    "duration": 9,
    "start_time": "2024-08-25T17:26:44.860Z"
   },
   {
    "duration": 461,
    "start_time": "2024-08-25T17:26:45.283Z"
   },
   {
    "duration": 14,
    "start_time": "2024-08-25T17:26:46.356Z"
   },
   {
    "duration": 5,
    "start_time": "2024-08-25T17:26:47.420Z"
   },
   {
    "duration": 12,
    "start_time": "2024-08-25T17:26:47.748Z"
   },
   {
    "duration": 9,
    "start_time": "2024-08-25T17:26:52.381Z"
   },
   {
    "duration": 11,
    "start_time": "2024-08-25T17:26:52.805Z"
   },
   {
    "duration": 11,
    "start_time": "2024-08-25T17:26:53.582Z"
   },
   {
    "duration": 13,
    "start_time": "2024-08-25T17:26:56.237Z"
   },
   {
    "duration": 6,
    "start_time": "2024-08-25T17:26:59.182Z"
   },
   {
    "duration": 12,
    "start_time": "2024-08-25T17:26:59.758Z"
   },
   {
    "duration": 12,
    "start_time": "2024-08-25T17:27:01.238Z"
   },
   {
    "duration": 7,
    "start_time": "2024-08-25T17:27:04.341Z"
   },
   {
    "duration": 13,
    "start_time": "2024-08-25T17:27:04.742Z"
   },
   {
    "duration": 13,
    "start_time": "2024-08-25T17:27:11.798Z"
   },
   {
    "duration": 482,
    "start_time": "2024-08-25T17:27:15.552Z"
   },
   {
    "duration": 13,
    "start_time": "2024-08-25T17:27:16.036Z"
   },
   {
    "duration": 454,
    "start_time": "2024-08-25T17:27:23.872Z"
   },
   {
    "duration": 38,
    "start_time": "2024-08-25T17:27:27.912Z"
   },
   {
    "duration": 15,
    "start_time": "2024-08-25T17:27:31.546Z"
   },
   {
    "duration": 8,
    "start_time": "2024-08-25T17:28:48.679Z"
   },
   {
    "duration": 72,
    "start_time": "2024-08-25T17:36:19.180Z"
   },
   {
    "duration": 61,
    "start_time": "2024-08-25T17:37:52.663Z"
   },
   {
    "duration": 4,
    "start_time": "2024-08-25T17:38:02.393Z"
   },
   {
    "duration": 9,
    "start_time": "2024-08-25T17:38:09.641Z"
   },
   {
    "duration": 79,
    "start_time": "2024-08-25T17:39:21.136Z"
   },
   {
    "duration": 69,
    "start_time": "2024-08-25T17:39:49.084Z"
   },
   {
    "duration": 6,
    "start_time": "2024-08-25T17:39:54.141Z"
   },
   {
    "duration": 5,
    "start_time": "2024-08-25T17:41:04.988Z"
   },
   {
    "duration": 15,
    "start_time": "2024-08-25T17:49:21.649Z"
   },
   {
    "duration": 45,
    "start_time": "2024-08-25T17:51:34.911Z"
   },
   {
    "duration": 19,
    "start_time": "2024-08-25T17:51:39.935Z"
   },
   {
    "duration": 4,
    "start_time": "2024-08-25T17:51:41.070Z"
   },
   {
    "duration": 8,
    "start_time": "2024-08-25T17:51:42.111Z"
   },
   {
    "duration": 11,
    "start_time": "2024-08-25T17:51:42.320Z"
   },
   {
    "duration": 15,
    "start_time": "2024-08-25T17:51:42.494Z"
   },
   {
    "duration": 5,
    "start_time": "2024-08-25T17:51:47.896Z"
   },
   {
    "duration": 5,
    "start_time": "2024-08-25T17:51:50.519Z"
   },
   {
    "duration": 5,
    "start_time": "2024-08-25T17:51:53.456Z"
   },
   {
    "duration": 11,
    "start_time": "2024-08-25T17:57:42.362Z"
   },
   {
    "duration": 9,
    "start_time": "2024-08-25T17:58:00.676Z"
   },
   {
    "duration": 10,
    "start_time": "2024-08-25T17:59:38.631Z"
   },
   {
    "duration": 66,
    "start_time": "2024-08-25T18:09:24.221Z"
   },
   {
    "duration": 103,
    "start_time": "2024-08-25T18:12:48.644Z"
   },
   {
    "duration": 62,
    "start_time": "2024-08-25T18:18:17.868Z"
   },
   {
    "duration": 65,
    "start_time": "2024-08-25T18:20:29.611Z"
   },
   {
    "duration": 3,
    "start_time": "2024-08-25T18:22:34.584Z"
   },
   {
    "duration": 70,
    "start_time": "2024-08-25T18:22:35.632Z"
   },
   {
    "duration": 18,
    "start_time": "2024-08-25T18:22:36.128Z"
   },
   {
    "duration": 21,
    "start_time": "2024-08-25T18:22:36.552Z"
   },
   {
    "duration": 15,
    "start_time": "2024-08-25T18:22:36.976Z"
   },
   {
    "duration": 8,
    "start_time": "2024-08-25T18:22:37.809Z"
   },
   {
    "duration": 7,
    "start_time": "2024-08-25T18:22:38.240Z"
   },
   {
    "duration": 5,
    "start_time": "2024-08-25T18:22:38.417Z"
   },
   {
    "duration": 5,
    "start_time": "2024-08-25T18:22:38.809Z"
   },
   {
    "duration": 9,
    "start_time": "2024-08-25T18:22:39.416Z"
   },
   {
    "duration": 7,
    "start_time": "2024-08-25T18:22:39.801Z"
   },
   {
    "duration": 6,
    "start_time": "2024-08-25T18:22:39.993Z"
   },
   {
    "duration": 7,
    "start_time": "2024-08-25T18:22:40.185Z"
   },
   {
    "duration": 9,
    "start_time": "2024-08-25T18:22:40.568Z"
   },
   {
    "duration": 203,
    "start_time": "2024-08-25T18:22:41.729Z"
   },
   {
    "duration": 84,
    "start_time": "2024-08-25T18:22:42.930Z"
   },
   {
    "duration": 145,
    "start_time": "2024-08-25T18:22:44.305Z"
   },
   {
    "duration": 8,
    "start_time": "2024-08-25T18:22:44.706Z"
   },
   {
    "duration": 133,
    "start_time": "2024-08-25T18:22:45.682Z"
   },
   {
    "duration": 467,
    "start_time": "2024-08-25T18:22:46.682Z"
   },
   {
    "duration": 8,
    "start_time": "2024-08-25T18:22:47.466Z"
   },
   {
    "duration": 135,
    "start_time": "2024-08-25T18:22:48.066Z"
   },
   {
    "duration": 289,
    "start_time": "2024-08-25T18:22:48.458Z"
   },
   {
    "duration": 9,
    "start_time": "2024-08-25T18:22:48.930Z"
   },
   {
    "duration": 241,
    "start_time": "2024-08-25T18:22:49.338Z"
   },
   {
    "duration": 14,
    "start_time": "2024-08-25T18:22:49.962Z"
   },
   {
    "duration": 4,
    "start_time": "2024-08-25T18:22:50.386Z"
   },
   {
    "duration": 15,
    "start_time": "2024-08-25T18:22:50.586Z"
   },
   {
    "duration": 9,
    "start_time": "2024-08-25T18:22:52.043Z"
   },
   {
    "duration": 9,
    "start_time": "2024-08-25T18:22:52.243Z"
   },
   {
    "duration": 12,
    "start_time": "2024-08-25T18:22:52.443Z"
   },
   {
    "duration": 14,
    "start_time": "2024-08-25T18:22:52.659Z"
   },
   {
    "duration": 6,
    "start_time": "2024-08-25T18:22:53.867Z"
   },
   {
    "duration": 12,
    "start_time": "2024-08-25T18:22:54.044Z"
   },
   {
    "duration": 13,
    "start_time": "2024-08-25T18:22:54.235Z"
   },
   {
    "duration": 7,
    "start_time": "2024-08-25T18:22:54.634Z"
   },
   {
    "duration": 12,
    "start_time": "2024-08-25T18:22:54.851Z"
   },
   {
    "duration": 13,
    "start_time": "2024-08-25T18:22:55.067Z"
   },
   {
    "duration": 471,
    "start_time": "2024-08-25T18:22:56.339Z"
   },
   {
    "duration": 7,
    "start_time": "2024-08-25T18:22:56.812Z"
   },
   {
    "duration": 641,
    "start_time": "2024-08-25T18:22:58.043Z"
   },
   {
    "duration": 8,
    "start_time": "2024-08-25T18:22:58.686Z"
   },
   {
    "duration": 45,
    "start_time": "2024-08-25T18:22:59.099Z"
   },
   {
    "duration": 12,
    "start_time": "2024-08-25T18:22:59.300Z"
   },
   {
    "duration": 4,
    "start_time": "2024-08-25T18:22:59.699Z"
   },
   {
    "duration": 8,
    "start_time": "2024-08-25T18:23:00.499Z"
   },
   {
    "duration": 11,
    "start_time": "2024-08-25T18:23:00.692Z"
   },
   {
    "duration": 13,
    "start_time": "2024-08-25T18:23:00.884Z"
   },
   {
    "duration": 6,
    "start_time": "2024-08-25T18:23:03.028Z"
   },
   {
    "duration": 6,
    "start_time": "2024-08-25T18:23:04.980Z"
   },
   {
    "duration": 9,
    "start_time": "2024-08-25T18:23:06.709Z"
   },
   {
    "duration": 5,
    "start_time": "2024-08-25T18:23:10.533Z"
   },
   {
    "duration": 1866,
    "start_time": "2024-08-25T18:23:11.524Z"
   },
   {
    "duration": 5,
    "start_time": "2024-08-25T18:23:13.392Z"
   },
   {
    "duration": 204,
    "start_time": "2024-08-25T18:23:13.430Z"
   },
   {
    "duration": 1169,
    "start_time": "2024-08-26T10:14:36.723Z"
   },
   {
    "duration": 405,
    "start_time": "2024-08-26T10:14:37.893Z"
   },
   {
    "duration": 21,
    "start_time": "2024-08-26T10:14:38.299Z"
   },
   {
    "duration": 18,
    "start_time": "2024-08-26T10:14:38.321Z"
   },
   {
    "duration": 76,
    "start_time": "2024-08-26T10:14:38.341Z"
   },
   {
    "duration": 12,
    "start_time": "2024-08-26T10:14:38.419Z"
   },
   {
    "duration": 18,
    "start_time": "2024-08-26T10:14:38.435Z"
   },
   {
    "duration": 5,
    "start_time": "2024-08-26T10:14:38.456Z"
   },
   {
    "duration": 7,
    "start_time": "2024-08-26T10:14:38.463Z"
   },
   {
    "duration": 9,
    "start_time": "2024-08-26T10:14:38.499Z"
   },
   {
    "duration": 9,
    "start_time": "2024-08-26T10:14:38.509Z"
   },
   {
    "duration": 6,
    "start_time": "2024-08-26T10:14:38.519Z"
   },
   {
    "duration": 9,
    "start_time": "2024-08-26T10:14:38.526Z"
   },
   {
    "duration": 9,
    "start_time": "2024-08-26T10:14:38.536Z"
   },
   {
    "duration": 223,
    "start_time": "2024-08-26T10:14:38.547Z"
   },
   {
    "duration": 95,
    "start_time": "2024-08-26T10:14:38.771Z"
   },
   {
    "duration": 158,
    "start_time": "2024-08-26T10:14:38.868Z"
   },
   {
    "duration": 9,
    "start_time": "2024-08-26T10:14:39.027Z"
   },
   {
    "duration": 163,
    "start_time": "2024-08-26T10:14:39.037Z"
   },
   {
    "duration": 298,
    "start_time": "2024-08-26T10:14:39.202Z"
   },
   {
    "duration": 9,
    "start_time": "2024-08-26T10:14:39.501Z"
   },
   {
    "duration": 149,
    "start_time": "2024-08-26T10:14:39.511Z"
   },
   {
    "duration": 272,
    "start_time": "2024-08-26T10:14:39.662Z"
   },
   {
    "duration": 8,
    "start_time": "2024-08-26T10:14:39.935Z"
   },
   {
    "duration": 333,
    "start_time": "2024-08-26T10:14:39.945Z"
   },
   {
    "duration": 22,
    "start_time": "2024-08-26T10:14:40.280Z"
   },
   {
    "duration": 4,
    "start_time": "2024-08-26T10:14:40.303Z"
   },
   {
    "duration": 17,
    "start_time": "2024-08-26T10:14:40.310Z"
   },
   {
    "duration": 91,
    "start_time": "2024-08-26T10:14:40.329Z"
   },
   {
    "duration": 9,
    "start_time": "2024-08-26T10:14:40.422Z"
   },
   {
    "duration": 13,
    "start_time": "2024-08-26T10:14:40.432Z"
   },
   {
    "duration": 15,
    "start_time": "2024-08-26T10:14:40.446Z"
   },
   {
    "duration": 7,
    "start_time": "2024-08-26T10:14:40.462Z"
   },
   {
    "duration": 12,
    "start_time": "2024-08-26T10:14:40.470Z"
   },
   {
    "duration": 19,
    "start_time": "2024-08-26T10:14:40.483Z"
   },
   {
    "duration": 6,
    "start_time": "2024-08-26T10:14:40.504Z"
   },
   {
    "duration": 14,
    "start_time": "2024-08-26T10:14:40.512Z"
   },
   {
    "duration": 13,
    "start_time": "2024-08-26T10:14:40.528Z"
   },
   {
    "duration": 489,
    "start_time": "2024-08-26T10:14:40.543Z"
   },
   {
    "duration": 8,
    "start_time": "2024-08-26T10:14:41.034Z"
   },
   {
    "duration": 468,
    "start_time": "2024-08-26T10:14:41.044Z"
   },
   {
    "duration": 9,
    "start_time": "2024-08-26T10:14:41.514Z"
   },
   {
    "duration": 56,
    "start_time": "2024-08-26T10:14:41.525Z"
   },
   {
    "duration": 26,
    "start_time": "2024-08-26T10:14:41.582Z"
   },
   {
    "duration": 4,
    "start_time": "2024-08-26T10:14:41.609Z"
   },
   {
    "duration": 17,
    "start_time": "2024-08-26T10:14:41.615Z"
   },
   {
    "duration": 18,
    "start_time": "2024-08-26T10:14:41.634Z"
   },
   {
    "duration": 21,
    "start_time": "2024-08-26T10:14:41.654Z"
   },
   {
    "duration": 10,
    "start_time": "2024-08-26T10:14:41.677Z"
   },
   {
    "duration": 32,
    "start_time": "2024-08-26T10:14:41.689Z"
   },
   {
    "duration": 14,
    "start_time": "2024-08-26T10:14:41.722Z"
   },
   {
    "duration": 6,
    "start_time": "2024-08-26T10:14:41.737Z"
   },
   {
    "duration": 1772,
    "start_time": "2024-08-26T10:14:41.745Z"
   },
   {
    "duration": 5,
    "start_time": "2024-08-26T10:14:43.518Z"
   },
   {
    "duration": 212,
    "start_time": "2024-08-26T10:14:43.525Z"
   },
   {
    "duration": 12,
    "start_time": "2024-08-26T12:39:56.282Z"
   },
   {
    "duration": 48,
    "start_time": "2024-08-26T12:40:54.309Z"
   },
   {
    "duration": 9,
    "start_time": "2024-08-26T12:40:57.374Z"
   },
   {
    "duration": 13,
    "start_time": "2024-08-26T12:40:59.902Z"
   },
   {
    "duration": 104,
    "start_time": "2024-08-26T12:41:58.870Z"
   },
   {
    "duration": 13,
    "start_time": "2024-08-26T12:42:17.542Z"
   },
   {
    "duration": 13,
    "start_time": "2024-08-26T12:42:20.829Z"
   },
   {
    "duration": 367,
    "start_time": "2024-08-26T12:42:31.022Z"
   },
   {
    "duration": 1171,
    "start_time": "2024-08-26T12:48:31.578Z"
   },
   {
    "duration": 80,
    "start_time": "2024-08-26T12:48:32.751Z"
   },
   {
    "duration": 21,
    "start_time": "2024-08-26T12:48:32.833Z"
   },
   {
    "duration": 66,
    "start_time": "2024-08-26T12:48:32.857Z"
   },
   {
    "duration": 51,
    "start_time": "2024-08-26T12:48:32.924Z"
   },
   {
    "duration": 7,
    "start_time": "2024-08-26T12:48:32.977Z"
   },
   {
    "duration": 9,
    "start_time": "2024-08-26T12:48:32.986Z"
   },
   {
    "duration": 17,
    "start_time": "2024-08-26T12:48:32.996Z"
   },
   {
    "duration": 5,
    "start_time": "2024-08-26T12:48:33.014Z"
   },
   {
    "duration": 11,
    "start_time": "2024-08-26T12:48:33.022Z"
   },
   {
    "duration": 7,
    "start_time": "2024-08-26T12:48:33.034Z"
   },
   {
    "duration": 5,
    "start_time": "2024-08-26T12:48:33.043Z"
   },
   {
    "duration": 7,
    "start_time": "2024-08-26T12:48:33.049Z"
   },
   {
    "duration": 9,
    "start_time": "2024-08-26T12:48:33.058Z"
   },
   {
    "duration": 230,
    "start_time": "2024-08-26T12:48:33.068Z"
   },
   {
    "duration": 83,
    "start_time": "2024-08-26T12:48:33.300Z"
   },
   {
    "duration": 170,
    "start_time": "2024-08-26T12:48:33.397Z"
   },
   {
    "duration": 30,
    "start_time": "2024-08-26T12:48:33.569Z"
   },
   {
    "duration": 250,
    "start_time": "2024-08-26T12:48:33.601Z"
   },
   {
    "duration": 398,
    "start_time": "2024-08-26T12:48:33.853Z"
   },
   {
    "duration": 8,
    "start_time": "2024-08-26T12:48:34.253Z"
   },
   {
    "duration": 166,
    "start_time": "2024-08-26T12:48:34.262Z"
   },
   {
    "duration": 276,
    "start_time": "2024-08-26T12:48:34.429Z"
   },
   {
    "duration": 8,
    "start_time": "2024-08-26T12:48:34.706Z"
   },
   {
    "duration": 338,
    "start_time": "2024-08-26T12:48:34.716Z"
   },
   {
    "duration": 14,
    "start_time": "2024-08-26T12:48:35.056Z"
   },
   {
    "duration": 12,
    "start_time": "2024-08-26T12:48:35.072Z"
   },
   {
    "duration": 13,
    "start_time": "2024-08-26T12:48:35.097Z"
   },
   {
    "duration": 24,
    "start_time": "2024-08-26T12:48:35.111Z"
   },
   {
    "duration": 14,
    "start_time": "2024-08-26T12:48:35.137Z"
   },
   {
    "duration": 26,
    "start_time": "2024-08-26T12:48:35.152Z"
   },
   {
    "duration": 40,
    "start_time": "2024-08-26T12:48:35.180Z"
   },
   {
    "duration": 17,
    "start_time": "2024-08-26T12:48:35.222Z"
   },
   {
    "duration": 24,
    "start_time": "2024-08-26T12:48:35.240Z"
   },
   {
    "duration": 26,
    "start_time": "2024-08-26T12:48:35.265Z"
   },
   {
    "duration": 16,
    "start_time": "2024-08-26T12:48:35.293Z"
   },
   {
    "duration": 15,
    "start_time": "2024-08-26T12:48:35.311Z"
   },
   {
    "duration": 15,
    "start_time": "2024-08-26T12:48:35.328Z"
   },
   {
    "duration": 542,
    "start_time": "2024-08-26T12:48:35.345Z"
   },
   {
    "duration": 14,
    "start_time": "2024-08-26T12:48:35.889Z"
   },
   {
    "duration": 494,
    "start_time": "2024-08-26T12:48:35.904Z"
   },
   {
    "duration": 8,
    "start_time": "2024-08-26T12:48:36.400Z"
   },
   {
    "duration": 46,
    "start_time": "2024-08-26T12:48:36.409Z"
   },
   {
    "duration": 13,
    "start_time": "2024-08-26T12:48:36.457Z"
   },
   {
    "duration": 20,
    "start_time": "2024-08-26T12:48:36.498Z"
   },
   {
    "duration": 20,
    "start_time": "2024-08-26T12:48:36.520Z"
   },
   {
    "duration": 10,
    "start_time": "2024-08-26T12:48:36.541Z"
   },
   {
    "duration": 39,
    "start_time": "2024-08-26T12:48:36.553Z"
   },
   {
    "duration": 31,
    "start_time": "2024-08-26T12:48:36.593Z"
   },
   {
    "duration": 59,
    "start_time": "2024-08-26T12:48:36.626Z"
   },
   {
    "duration": 51,
    "start_time": "2024-08-26T12:48:36.686Z"
   },
   {
    "duration": 10,
    "start_time": "2024-08-26T12:48:36.738Z"
   },
   {
    "duration": 1784,
    "start_time": "2024-08-26T12:48:36.750Z"
   },
   {
    "duration": 9,
    "start_time": "2024-08-26T12:48:38.536Z"
   },
   {
    "duration": 221,
    "start_time": "2024-08-26T12:48:38.547Z"
   },
   {
    "duration": 79,
    "start_time": "2024-08-26T12:54:34.194Z"
   },
   {
    "duration": 44,
    "start_time": "2024-08-26T12:54:52.137Z"
   },
   {
    "duration": 1278,
    "start_time": "2024-08-26T12:55:36.295Z"
   },
   {
    "duration": 290,
    "start_time": "2024-08-26T12:55:37.575Z"
   },
   {
    "duration": 22,
    "start_time": "2024-08-26T12:55:37.867Z"
   },
   {
    "duration": 17,
    "start_time": "2024-08-26T12:55:38.390Z"
   },
   {
    "duration": 15,
    "start_time": "2024-08-26T12:55:39.310Z"
   },
   {
    "duration": 8,
    "start_time": "2024-08-26T12:55:40.630Z"
   },
   {
    "duration": 6,
    "start_time": "2024-08-26T12:55:41.214Z"
   },
   {
    "duration": 4,
    "start_time": "2024-08-26T12:55:41.439Z"
   },
   {
    "duration": 6,
    "start_time": "2024-08-26T12:55:42.135Z"
   },
   {
    "duration": 10,
    "start_time": "2024-08-26T12:55:43.463Z"
   },
   {
    "duration": 6,
    "start_time": "2024-08-26T12:55:44.110Z"
   },
   {
    "duration": 5,
    "start_time": "2024-08-26T12:55:44.415Z"
   },
   {
    "duration": 6,
    "start_time": "2024-08-26T12:55:44.744Z"
   },
   {
    "duration": 9,
    "start_time": "2024-08-26T12:55:45.567Z"
   },
   {
    "duration": 211,
    "start_time": "2024-08-26T12:55:47.271Z"
   },
   {
    "duration": 156,
    "start_time": "2024-08-26T12:56:37.567Z"
   },
   {
    "duration": 164,
    "start_time": "2024-08-26T12:57:05.793Z"
   },
   {
    "duration": 175,
    "start_time": "2024-08-26T12:57:12.402Z"
   },
   {
    "duration": 211,
    "start_time": "2024-08-26T12:57:33.917Z"
   },
   {
    "duration": 204,
    "start_time": "2024-08-26T12:57:41.229Z"
   },
   {
    "duration": 64,
    "start_time": "2024-08-26T13:05:43.382Z"
   },
   {
    "duration": 4,
    "start_time": "2024-08-26T13:05:55.960Z"
   },
   {
    "duration": 4,
    "start_time": "2024-08-26T13:06:02.600Z"
   },
   {
    "duration": 72,
    "start_time": "2024-08-26T13:06:03.056Z"
   },
   {
    "duration": 16,
    "start_time": "2024-08-26T13:06:03.654Z"
   },
   {
    "duration": 18,
    "start_time": "2024-08-26T13:06:04.120Z"
   },
   {
    "duration": 16,
    "start_time": "2024-08-26T13:06:04.560Z"
   },
   {
    "duration": 9,
    "start_time": "2024-08-26T13:06:05.456Z"
   },
   {
    "duration": 5,
    "start_time": "2024-08-26T13:06:05.880Z"
   },
   {
    "duration": 5,
    "start_time": "2024-08-26T13:06:06.113Z"
   },
   {
    "duration": 6,
    "start_time": "2024-08-26T13:06:06.624Z"
   },
   {
    "duration": 4,
    "start_time": "2024-08-26T13:06:08.280Z"
   },
   {
    "duration": 12,
    "start_time": "2024-08-26T13:06:08.697Z"
   },
   {
    "duration": 7,
    "start_time": "2024-08-26T13:06:16.866Z"
   },
   {
    "duration": 7,
    "start_time": "2024-08-26T13:06:17.250Z"
   },
   {
    "duration": 6,
    "start_time": "2024-08-26T13:06:17.482Z"
   },
   {
    "duration": 8,
    "start_time": "2024-08-26T13:06:17.910Z"
   },
   {
    "duration": 228,
    "start_time": "2024-08-26T13:06:19.154Z"
   },
   {
    "duration": 96,
    "start_time": "2024-08-26T13:06:20.850Z"
   },
   {
    "duration": 148,
    "start_time": "2024-08-26T13:06:22.803Z"
   },
   {
    "duration": 8,
    "start_time": "2024-08-26T13:06:23.251Z"
   },
   {
    "duration": 247,
    "start_time": "2024-08-26T13:06:24.403Z"
   },
   {
    "duration": 276,
    "start_time": "2024-08-26T13:06:25.739Z"
   },
   {
    "duration": 8,
    "start_time": "2024-08-26T13:06:26.779Z"
   },
   {
    "duration": 149,
    "start_time": "2024-08-26T13:06:27.370Z"
   },
   {
    "duration": 276,
    "start_time": "2024-08-26T13:06:27.811Z"
   },
   {
    "duration": 9,
    "start_time": "2024-08-26T13:06:28.251Z"
   },
   {
    "duration": 241,
    "start_time": "2024-08-26T13:06:28.675Z"
   },
   {
    "duration": 8,
    "start_time": "2024-08-26T13:06:30.020Z"
   },
   {
    "duration": 5,
    "start_time": "2024-08-26T13:06:30.771Z"
   },
   {
    "duration": 10,
    "start_time": "2024-08-26T13:06:31.179Z"
   },
   {
    "duration": 9,
    "start_time": "2024-08-26T13:06:34.324Z"
   },
   {
    "duration": 9,
    "start_time": "2024-08-26T13:06:35.668Z"
   },
   {
    "duration": 13,
    "start_time": "2024-08-26T13:06:36.389Z"
   },
   {
    "duration": 15,
    "start_time": "2024-08-26T13:06:37.061Z"
   },
   {
    "duration": 7,
    "start_time": "2024-08-26T13:06:41.924Z"
   },
   {
    "duration": 13,
    "start_time": "2024-08-26T13:06:42.165Z"
   },
   {
    "duration": 12,
    "start_time": "2024-08-26T13:06:42.421Z"
   },
   {
    "duration": 8,
    "start_time": "2024-08-26T13:06:42.908Z"
   },
   {
    "duration": 13,
    "start_time": "2024-08-26T13:06:43.173Z"
   },
   {
    "duration": 13,
    "start_time": "2024-08-26T13:06:43.493Z"
   },
   {
    "duration": 483,
    "start_time": "2024-08-26T13:06:46.406Z"
   },
   {
    "duration": 8,
    "start_time": "2024-08-26T13:06:46.891Z"
   },
   {
    "duration": 578,
    "start_time": "2024-08-26T13:07:07.687Z"
   },
   {
    "duration": 8,
    "start_time": "2024-08-26T13:07:08.266Z"
   },
   {
    "duration": 449,
    "start_time": "2024-08-26T13:07:09.736Z"
   },
   {
    "duration": 9,
    "start_time": "2024-08-26T13:07:10.224Z"
   },
   {
    "duration": 10,
    "start_time": "2024-08-26T13:07:11.696Z"
   },
   {
    "duration": 47,
    "start_time": "2024-08-26T13:07:12.362Z"
   },
   {
    "duration": 14,
    "start_time": "2024-08-26T13:07:18.000Z"
   },
   {
    "duration": 69,
    "start_time": "2024-08-26T13:09:18.888Z"
   },
   {
    "duration": 18,
    "start_time": "2024-08-26T13:10:03.357Z"
   },
   {
    "duration": 17,
    "start_time": "2024-08-26T13:10:09.126Z"
   },
   {
    "duration": 17,
    "start_time": "2024-08-26T13:10:29.904Z"
   },
   {
    "duration": 47,
    "start_time": "2024-08-26T13:10:36.193Z"
   },
   {
    "duration": 51,
    "start_time": "2024-08-26T13:11:13.886Z"
   },
   {
    "duration": 5,
    "start_time": "2024-08-26T13:11:33.872Z"
   },
   {
    "duration": 13,
    "start_time": "2024-08-26T13:11:34.687Z"
   },
   {
    "duration": 16,
    "start_time": "2024-08-26T13:13:58.897Z"
   },
   {
    "duration": 15,
    "start_time": "2024-08-26T13:14:11.019Z"
   },
   {
    "duration": 19,
    "start_time": "2024-08-26T13:14:21.733Z"
   },
   {
    "duration": 333,
    "start_time": "2024-08-26T13:15:27.524Z"
   },
   {
    "duration": 46,
    "start_time": "2024-08-26T13:15:33.076Z"
   },
   {
    "duration": 553,
    "start_time": "2024-08-26T13:15:49.022Z"
   },
   {
    "duration": 47,
    "start_time": "2024-08-26T13:15:53.622Z"
   },
   {
    "duration": 17,
    "start_time": "2024-08-26T13:16:14.379Z"
   },
   {
    "duration": 17,
    "start_time": "2024-08-26T13:16:55.798Z"
   },
   {
    "duration": 19,
    "start_time": "2024-08-26T13:17:02.703Z"
   },
   {
    "duration": 289,
    "start_time": "2024-08-26T13:17:36.980Z"
   },
   {
    "duration": 63,
    "start_time": "2024-08-26T13:17:51.845Z"
   },
   {
    "duration": 289,
    "start_time": "2024-08-26T13:18:03.174Z"
   },
   {
    "duration": 60,
    "start_time": "2024-08-26T13:18:07.286Z"
   },
   {
    "duration": 54,
    "start_time": "2024-08-26T13:18:14.328Z"
   },
   {
    "duration": 64,
    "start_time": "2024-08-26T13:18:26.632Z"
   },
   {
    "duration": 79,
    "start_time": "2024-08-26T13:18:39.370Z"
   },
   {
    "duration": 54,
    "start_time": "2024-08-26T13:18:59.493Z"
   },
   {
    "duration": 56,
    "start_time": "2024-08-26T13:19:19.888Z"
   },
   {
    "duration": 59,
    "start_time": "2024-08-26T13:19:33.304Z"
   },
   {
    "duration": 70,
    "start_time": "2024-08-26T13:19:48.578Z"
   },
   {
    "duration": 12,
    "start_time": "2024-08-26T13:19:48.898Z"
   },
   {
    "duration": 5,
    "start_time": "2024-08-26T13:19:50.337Z"
   },
   {
    "duration": 12,
    "start_time": "2024-08-26T13:19:51.786Z"
   },
   {
    "duration": 12,
    "start_time": "2024-08-26T13:19:52.314Z"
   },
   {
    "duration": 66,
    "start_time": "2024-08-26T13:21:32.695Z"
   },
   {
    "duration": 69,
    "start_time": "2024-08-26T13:21:53.962Z"
   },
   {
    "duration": 65,
    "start_time": "2024-08-26T13:22:54.176Z"
   },
   {
    "duration": 62,
    "start_time": "2024-08-26T13:23:18.707Z"
   },
   {
    "duration": 37,
    "start_time": "2024-08-26T13:24:08.993Z"
   },
   {
    "duration": 76,
    "start_time": "2024-08-26T13:24:21.675Z"
   },
   {
    "duration": 52,
    "start_time": "2024-08-26T13:24:32.324Z"
   },
   {
    "duration": 37,
    "start_time": "2024-08-26T13:24:47.933Z"
   },
   {
    "duration": 51,
    "start_time": "2024-08-26T13:24:56.040Z"
   },
   {
    "duration": 17,
    "start_time": "2024-08-26T13:24:58.622Z"
   },
   {
    "duration": 6,
    "start_time": "2024-08-26T13:24:59.909Z"
   },
   {
    "duration": 13,
    "start_time": "2024-08-26T13:25:00.590Z"
   },
   {
    "duration": 56,
    "start_time": "2024-08-26T13:25:36.244Z"
   },
   {
    "duration": 17,
    "start_time": "2024-08-26T13:25:36.835Z"
   },
   {
    "duration": 5,
    "start_time": "2024-08-26T13:25:38.171Z"
   },
   {
    "duration": 12,
    "start_time": "2024-08-26T13:25:38.811Z"
   },
   {
    "duration": 272,
    "start_time": "2024-08-26T13:26:20.224Z"
   },
   {
    "duration": 63,
    "start_time": "2024-08-26T13:26:39.203Z"
   },
   {
    "duration": 63,
    "start_time": "2024-08-26T13:26:51.348Z"
   },
   {
    "duration": 62,
    "start_time": "2024-08-26T13:27:19.568Z"
   },
   {
    "duration": 12,
    "start_time": "2024-08-26T13:27:19.831Z"
   },
   {
    "duration": 4,
    "start_time": "2024-08-26T13:27:21.575Z"
   },
   {
    "duration": 11,
    "start_time": "2024-08-26T13:27:22.255Z"
   },
   {
    "duration": 70,
    "start_time": "2024-08-26T13:30:04.858Z"
   },
   {
    "duration": 4,
    "start_time": "2024-08-26T13:31:58.735Z"
   },
   {
    "duration": 69,
    "start_time": "2024-08-26T13:31:59.216Z"
   },
   {
    "duration": 17,
    "start_time": "2024-08-26T13:31:59.719Z"
   },
   {
    "duration": 16,
    "start_time": "2024-08-26T13:32:00.255Z"
   },
   {
    "duration": 16,
    "start_time": "2024-08-26T13:32:00.743Z"
   },
   {
    "duration": 9,
    "start_time": "2024-08-26T13:32:01.655Z"
   },
   {
    "duration": 5,
    "start_time": "2024-08-26T13:32:02.040Z"
   },
   {
    "duration": 5,
    "start_time": "2024-08-26T13:32:02.240Z"
   },
   {
    "duration": 6,
    "start_time": "2024-08-26T13:32:02.599Z"
   },
   {
    "duration": 9,
    "start_time": "2024-08-26T13:32:03.176Z"
   },
   {
    "duration": 6,
    "start_time": "2024-08-26T13:32:03.568Z"
   },
   {
    "duration": 6,
    "start_time": "2024-08-26T13:32:03.776Z"
   },
   {
    "duration": 6,
    "start_time": "2024-08-26T13:32:03.968Z"
   },
   {
    "duration": 9,
    "start_time": "2024-08-26T13:32:04.344Z"
   },
   {
    "duration": 203,
    "start_time": "2024-08-26T13:32:05.504Z"
   },
   {
    "duration": 113,
    "start_time": "2024-08-26T13:32:07.505Z"
   },
   {
    "duration": 156,
    "start_time": "2024-08-26T13:32:09.464Z"
   },
   {
    "duration": 14,
    "start_time": "2024-08-26T13:32:10.041Z"
   },
   {
    "duration": 221,
    "start_time": "2024-08-26T13:32:11.289Z"
   },
   {
    "duration": 304,
    "start_time": "2024-08-26T13:32:13.224Z"
   },
   {
    "duration": 8,
    "start_time": "2024-08-26T13:32:14.449Z"
   },
   {
    "duration": 131,
    "start_time": "2024-08-26T13:32:15.065Z"
   },
   {
    "duration": 247,
    "start_time": "2024-08-26T13:32:15.505Z"
   },
   {
    "duration": 8,
    "start_time": "2024-08-26T13:32:16.073Z"
   },
   {
    "duration": 270,
    "start_time": "2024-08-26T13:32:18.802Z"
   },
   {
    "duration": 14,
    "start_time": "2024-08-26T13:32:19.753Z"
   },
   {
    "duration": 6,
    "start_time": "2024-08-26T13:32:20.441Z"
   },
   {
    "duration": 12,
    "start_time": "2024-08-26T13:32:20.754Z"
   },
   {
    "duration": 11,
    "start_time": "2024-08-26T13:32:49.421Z"
   },
   {
    "duration": 9,
    "start_time": "2024-08-26T13:32:49.806Z"
   },
   {
    "duration": 15,
    "start_time": "2024-08-26T13:32:53.166Z"
   },
   {
    "duration": 14,
    "start_time": "2024-08-26T13:32:53.398Z"
   },
   {
    "duration": 7,
    "start_time": "2024-08-26T13:33:02.862Z"
   },
   {
    "duration": 12,
    "start_time": "2024-08-26T13:33:03.071Z"
   },
   {
    "duration": 13,
    "start_time": "2024-08-26T13:33:03.271Z"
   },
   {
    "duration": 7,
    "start_time": "2024-08-26T13:33:03.663Z"
   },
   {
    "duration": 13,
    "start_time": "2024-08-26T13:33:03.856Z"
   },
   {
    "duration": 13,
    "start_time": "2024-08-26T13:33:04.079Z"
   },
   {
    "duration": 464,
    "start_time": "2024-08-26T13:33:05.927Z"
   },
   {
    "duration": 8,
    "start_time": "2024-08-26T13:33:06.392Z"
   },
   {
    "duration": 649,
    "start_time": "2024-08-26T13:33:08.287Z"
   },
   {
    "duration": 14,
    "start_time": "2024-08-26T13:33:08.938Z"
   },
   {
    "duration": 71,
    "start_time": "2024-08-26T13:33:24.610Z"
   },
   {
    "duration": 4,
    "start_time": "2024-08-26T13:33:56.070Z"
   },
   {
    "duration": 66,
    "start_time": "2024-08-26T13:33:56.694Z"
   },
   {
    "duration": 4,
    "start_time": "2024-08-26T13:34:18.776Z"
   },
   {
    "duration": 65,
    "start_time": "2024-08-26T13:34:19.345Z"
   },
   {
    "duration": 12,
    "start_time": "2024-08-26T13:34:29.058Z"
   },
   {
    "duration": 5,
    "start_time": "2024-08-26T13:34:31.194Z"
   },
   {
    "duration": 6,
    "start_time": "2024-08-26T13:35:34.018Z"
   },
   {
    "duration": 6,
    "start_time": "2024-08-26T13:36:24.695Z"
   },
   {
    "duration": 5,
    "start_time": "2024-08-26T13:36:29.352Z"
   },
   {
    "duration": 9,
    "start_time": "2024-08-26T13:36:34.352Z"
   },
   {
    "duration": 67,
    "start_time": "2024-08-26T13:48:04.195Z"
   },
   {
    "duration": 1052,
    "start_time": "2024-08-26T21:21:22.191Z"
   },
   {
    "duration": 70,
    "start_time": "2024-08-26T21:21:23.245Z"
   },
   {
    "duration": 18,
    "start_time": "2024-08-26T21:21:23.316Z"
   },
   {
    "duration": 14,
    "start_time": "2024-08-26T21:21:23.335Z"
   },
   {
    "duration": 11,
    "start_time": "2024-08-26T21:21:23.350Z"
   },
   {
    "duration": 15,
    "start_time": "2024-08-26T21:21:23.362Z"
   },
   {
    "duration": 13,
    "start_time": "2024-08-26T21:21:23.378Z"
   },
   {
    "duration": 7,
    "start_time": "2024-08-26T21:21:23.392Z"
   },
   {
    "duration": 15,
    "start_time": "2024-08-26T21:21:23.400Z"
   },
   {
    "duration": 10,
    "start_time": "2024-08-26T21:21:23.418Z"
   },
   {
    "duration": 10,
    "start_time": "2024-08-26T21:21:23.429Z"
   },
   {
    "duration": 13,
    "start_time": "2024-08-26T21:21:23.440Z"
   },
   {
    "duration": 6,
    "start_time": "2024-08-26T21:21:23.454Z"
   },
   {
    "duration": 15,
    "start_time": "2024-08-26T21:21:23.461Z"
   },
   {
    "duration": 191,
    "start_time": "2024-08-26T21:21:23.478Z"
   },
   {
    "duration": 82,
    "start_time": "2024-08-26T21:21:23.670Z"
   },
   {
    "duration": 131,
    "start_time": "2024-08-26T21:21:23.753Z"
   },
   {
    "duration": 7,
    "start_time": "2024-08-26T21:21:23.885Z"
   },
   {
    "duration": 208,
    "start_time": "2024-08-26T21:21:23.893Z"
   },
   {
    "duration": 247,
    "start_time": "2024-08-26T21:21:24.103Z"
   },
   {
    "duration": 7,
    "start_time": "2024-08-26T21:21:24.351Z"
   },
   {
    "duration": 123,
    "start_time": "2024-08-26T21:21:24.360Z"
   },
   {
    "duration": 226,
    "start_time": "2024-08-26T21:21:24.484Z"
   },
   {
    "duration": 7,
    "start_time": "2024-08-26T21:21:24.711Z"
   },
   {
    "duration": 265,
    "start_time": "2024-08-26T21:21:24.719Z"
   },
   {
    "duration": 11,
    "start_time": "2024-08-26T21:21:24.986Z"
   },
   {
    "duration": 10,
    "start_time": "2024-08-26T21:21:24.999Z"
   },
   {
    "duration": 22,
    "start_time": "2024-08-26T21:21:25.012Z"
   },
   {
    "duration": 49,
    "start_time": "2024-08-26T21:21:25.035Z"
   },
   {
    "duration": 16,
    "start_time": "2024-08-26T21:21:25.086Z"
   },
   {
    "duration": 30,
    "start_time": "2024-08-26T21:21:25.103Z"
   },
   {
    "duration": 33,
    "start_time": "2024-08-26T21:21:25.134Z"
   },
   {
    "duration": 7,
    "start_time": "2024-08-26T21:21:25.168Z"
   },
   {
    "duration": 11,
    "start_time": "2024-08-26T21:21:25.177Z"
   },
   {
    "duration": 12,
    "start_time": "2024-08-26T21:21:25.189Z"
   },
   {
    "duration": 6,
    "start_time": "2024-08-26T21:21:25.202Z"
   },
   {
    "duration": 78,
    "start_time": "2024-08-26T21:21:25.210Z"
   },
   {
    "duration": 11,
    "start_time": "2024-08-26T21:21:25.290Z"
   },
   {
    "duration": 374,
    "start_time": "2024-08-26T21:21:25.302Z"
   },
   {
    "duration": 6,
    "start_time": "2024-08-26T21:21:25.678Z"
   },
   {
    "duration": 390,
    "start_time": "2024-08-26T21:21:25.685Z"
   },
   {
    "duration": 6,
    "start_time": "2024-08-26T21:21:26.076Z"
   },
   {
    "duration": 3,
    "start_time": "2024-08-26T21:21:26.083Z"
   },
   {
    "duration": 72,
    "start_time": "2024-08-26T21:21:26.087Z"
   },
   {
    "duration": 10,
    "start_time": "2024-08-26T21:21:26.160Z"
   },
   {
    "duration": 4,
    "start_time": "2024-08-26T21:21:26.171Z"
   },
   {
    "duration": 13,
    "start_time": "2024-08-26T21:21:26.176Z"
   },
   {
    "duration": 22,
    "start_time": "2024-08-26T21:21:26.191Z"
   },
   {
    "duration": 16,
    "start_time": "2024-08-26T21:21:26.214Z"
   },
   {
    "duration": 4,
    "start_time": "2024-08-26T21:21:26.231Z"
   },
   {
    "duration": 9,
    "start_time": "2024-08-26T21:21:26.237Z"
   },
   {
    "duration": 8,
    "start_time": "2024-08-26T21:21:26.248Z"
   },
   {
    "duration": 1374,
    "start_time": "2024-08-26T21:21:26.257Z"
   },
   {
    "duration": 5,
    "start_time": "2024-08-26T21:21:27.633Z"
   },
   {
    "duration": 172,
    "start_time": "2024-08-26T21:21:27.639Z"
   },
   {
    "duration": 94,
    "start_time": "2024-08-26T21:22:48.379Z"
   },
   {
    "duration": 11,
    "start_time": "2024-08-26T21:22:55.182Z"
   },
   {
    "duration": 1043,
    "start_time": "2024-08-26T21:24:10.880Z"
   },
   {
    "duration": 67,
    "start_time": "2024-08-26T21:24:11.925Z"
   },
   {
    "duration": 20,
    "start_time": "2024-08-26T21:24:11.993Z"
   },
   {
    "duration": 15,
    "start_time": "2024-08-26T21:24:12.015Z"
   },
   {
    "duration": 12,
    "start_time": "2024-08-26T21:24:12.032Z"
   },
   {
    "duration": 24,
    "start_time": "2024-08-26T21:24:12.046Z"
   },
   {
    "duration": 28,
    "start_time": "2024-08-26T21:24:12.071Z"
   },
   {
    "duration": 5,
    "start_time": "2024-08-26T21:24:12.101Z"
   },
   {
    "duration": 12,
    "start_time": "2024-08-26T21:24:12.107Z"
   },
   {
    "duration": 26,
    "start_time": "2024-08-26T21:24:12.121Z"
   },
   {
    "duration": 16,
    "start_time": "2024-08-26T21:24:12.148Z"
   },
   {
    "duration": 25,
    "start_time": "2024-08-26T21:24:12.165Z"
   },
   {
    "duration": 22,
    "start_time": "2024-08-26T21:24:12.191Z"
   },
   {
    "duration": 8,
    "start_time": "2024-08-26T21:24:12.214Z"
   },
   {
    "duration": 199,
    "start_time": "2024-08-26T21:24:12.223Z"
   },
   {
    "duration": 73,
    "start_time": "2024-08-26T21:24:12.424Z"
   },
   {
    "duration": 158,
    "start_time": "2024-08-26T21:24:12.498Z"
   },
   {
    "duration": 9,
    "start_time": "2024-08-26T21:24:12.657Z"
   },
   {
    "duration": 139,
    "start_time": "2024-08-26T21:24:12.667Z"
   },
   {
    "duration": 234,
    "start_time": "2024-08-26T21:24:12.808Z"
   },
   {
    "duration": 8,
    "start_time": "2024-08-26T21:24:13.044Z"
   },
   {
    "duration": 140,
    "start_time": "2024-08-26T21:24:13.054Z"
   },
   {
    "duration": 234,
    "start_time": "2024-08-26T21:24:13.196Z"
   },
   {
    "duration": 6,
    "start_time": "2024-08-26T21:24:13.432Z"
   },
   {
    "duration": 262,
    "start_time": "2024-08-26T21:24:13.440Z"
   },
   {
    "duration": 11,
    "start_time": "2024-08-26T21:24:13.706Z"
   },
   {
    "duration": 3,
    "start_time": "2024-08-26T21:24:13.719Z"
   },
   {
    "duration": 23,
    "start_time": "2024-08-26T21:24:13.725Z"
   },
   {
    "duration": 9,
    "start_time": "2024-08-26T21:24:13.749Z"
   },
   {
    "duration": 8,
    "start_time": "2024-08-26T21:24:13.759Z"
   },
   {
    "duration": 11,
    "start_time": "2024-08-26T21:24:13.768Z"
   },
   {
    "duration": 26,
    "start_time": "2024-08-26T21:24:13.781Z"
   },
   {
    "duration": 162,
    "start_time": "2024-08-26T21:24:13.808Z"
   },
   {
    "duration": 18,
    "start_time": "2024-08-26T21:24:13.972Z"
   },
   {
    "duration": 24,
    "start_time": "2024-08-26T21:24:13.991Z"
   },
   {
    "duration": 14,
    "start_time": "2024-08-26T21:24:14.016Z"
   },
   {
    "duration": 13,
    "start_time": "2024-08-26T21:24:14.031Z"
   },
   {
    "duration": 29,
    "start_time": "2024-08-26T21:24:14.045Z"
   },
   {
    "duration": 386,
    "start_time": "2024-08-26T21:24:14.075Z"
   },
   {
    "duration": 7,
    "start_time": "2024-08-26T21:24:14.463Z"
   },
   {
    "duration": 394,
    "start_time": "2024-08-26T21:24:14.471Z"
   },
   {
    "duration": 6,
    "start_time": "2024-08-26T21:24:14.866Z"
   },
   {
    "duration": 7,
    "start_time": "2024-08-26T21:24:14.873Z"
   },
   {
    "duration": 69,
    "start_time": "2024-08-26T21:24:14.881Z"
   },
   {
    "duration": 10,
    "start_time": "2024-08-26T21:24:14.951Z"
   },
   {
    "duration": 14,
    "start_time": "2024-08-26T21:24:14.962Z"
   },
   {
    "duration": 26,
    "start_time": "2024-08-26T21:24:14.978Z"
   },
   {
    "duration": 45,
    "start_time": "2024-08-26T21:24:15.006Z"
   },
   {
    "duration": 26,
    "start_time": "2024-08-26T21:24:15.052Z"
   },
   {
    "duration": 19,
    "start_time": "2024-08-26T21:24:15.079Z"
   },
   {
    "duration": 36,
    "start_time": "2024-08-26T21:24:15.099Z"
   },
   {
    "duration": 8,
    "start_time": "2024-08-26T21:24:15.136Z"
   },
   {
    "duration": 1491,
    "start_time": "2024-08-26T21:24:15.145Z"
   },
   {
    "duration": 6,
    "start_time": "2024-08-26T21:24:16.638Z"
   },
   {
    "duration": 215,
    "start_time": "2024-08-26T21:24:16.645Z"
   }
  ],
  "kernelspec": {
   "display_name": "Python 3 (ipykernel)",
   "language": "python",
   "name": "python3"
  },
  "language_info": {
   "codemirror_mode": {
    "name": "ipython",
    "version": 3
   },
   "file_extension": ".py",
   "mimetype": "text/x-python",
   "name": "python",
   "nbconvert_exporter": "python",
   "pygments_lexer": "ipython3",
   "version": "3.12.4"
  },
  "toc": {
   "base_numbering": 1,
   "nav_menu": {},
   "number_sections": true,
   "sideBar": true,
   "skip_h1_title": true,
   "title_cell": "Table of Contents",
   "title_sidebar": "Contents",
   "toc_cell": false,
   "toc_position": {},
   "toc_section_display": true,
   "toc_window_display": false
  }
 },
 "nbformat": 4,
 "nbformat_minor": 5
}
