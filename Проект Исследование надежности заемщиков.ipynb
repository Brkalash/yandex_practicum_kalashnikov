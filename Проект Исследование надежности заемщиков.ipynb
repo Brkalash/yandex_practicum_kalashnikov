{
 "cells": [
  {
   "cell_type": "markdown",
   "id": "cc8c86b5-497b-4446-a402-1f37a24ff6be",
   "metadata": {},
   "source": [
    "# Исследование надежности заемщиковв"
   ]
  },
  {
   "cell_type": "markdown",
   "id": "e2094b29-1840-4448-8489-d82ff6fc2ead",
   "metadata": {},
   "source": [
    "## Обзор данных"
   ]
  },
  {
   "cell_type": "code",
   "execution_count": 280,
   "id": "5e5a9de1-4e8d-432b-a8f7-46fe2e0a2b89",
   "metadata": {},
   "outputs": [],
   "source": [
    "#Импортируем pandas, считываем данные из data.csv, сохраняем в переменную data\n",
    "import pandas as pd\n",
    "\n",
    "try:\n",
    "    data = pd.read_csv('data.csv')\n",
    "except:\n",
    "    data = pd.read_csv('https://code.s3.yandex.net/datasets/data.csv')"
   ]
  },
  {
   "cell_type": "code",
   "execution_count": 282,
   "id": "a4ebba02-214c-4bd5-8310-52b936f3ec11",
   "metadata": {},
   "outputs": [
    {
     "data": {
      "text/html": [
       "<div>\n",
       "<style scoped>\n",
       "    .dataframe tbody tr th:only-of-type {\n",
       "        vertical-align: middle;\n",
       "    }\n",
       "\n",
       "    .dataframe tbody tr th {\n",
       "        vertical-align: top;\n",
       "    }\n",
       "\n",
       "    .dataframe thead th {\n",
       "        text-align: right;\n",
       "    }\n",
       "</style>\n",
       "<table border=\"1\" class=\"dataframe\">\n",
       "  <thead>\n",
       "    <tr style=\"text-align: right;\">\n",
       "      <th></th>\n",
       "      <th>children</th>\n",
       "      <th>days_employed</th>\n",
       "      <th>dob_years</th>\n",
       "      <th>education</th>\n",
       "      <th>education_id</th>\n",
       "      <th>family_status</th>\n",
       "      <th>family_status_id</th>\n",
       "      <th>gender</th>\n",
       "      <th>income_type</th>\n",
       "      <th>debt</th>\n",
       "      <th>total_income</th>\n",
       "      <th>purpose</th>\n",
       "    </tr>\n",
       "  </thead>\n",
       "  <tbody>\n",
       "    <tr>\n",
       "      <th>0</th>\n",
       "      <td>1</td>\n",
       "      <td>-8437.673028</td>\n",
       "      <td>42</td>\n",
       "      <td>высшее</td>\n",
       "      <td>0</td>\n",
       "      <td>женат / замужем</td>\n",
       "      <td>0</td>\n",
       "      <td>F</td>\n",
       "      <td>сотрудник</td>\n",
       "      <td>0</td>\n",
       "      <td>253875.639453</td>\n",
       "      <td>покупка жилья</td>\n",
       "    </tr>\n",
       "    <tr>\n",
       "      <th>1</th>\n",
       "      <td>1</td>\n",
       "      <td>-4024.803754</td>\n",
       "      <td>36</td>\n",
       "      <td>среднее</td>\n",
       "      <td>1</td>\n",
       "      <td>женат / замужем</td>\n",
       "      <td>0</td>\n",
       "      <td>F</td>\n",
       "      <td>сотрудник</td>\n",
       "      <td>0</td>\n",
       "      <td>112080.014102</td>\n",
       "      <td>приобретение автомобиля</td>\n",
       "    </tr>\n",
       "    <tr>\n",
       "      <th>2</th>\n",
       "      <td>0</td>\n",
       "      <td>-5623.422610</td>\n",
       "      <td>33</td>\n",
       "      <td>Среднее</td>\n",
       "      <td>1</td>\n",
       "      <td>женат / замужем</td>\n",
       "      <td>0</td>\n",
       "      <td>M</td>\n",
       "      <td>сотрудник</td>\n",
       "      <td>0</td>\n",
       "      <td>145885.952297</td>\n",
       "      <td>покупка жилья</td>\n",
       "    </tr>\n",
       "    <tr>\n",
       "      <th>3</th>\n",
       "      <td>3</td>\n",
       "      <td>-4124.747207</td>\n",
       "      <td>32</td>\n",
       "      <td>среднее</td>\n",
       "      <td>1</td>\n",
       "      <td>женат / замужем</td>\n",
       "      <td>0</td>\n",
       "      <td>M</td>\n",
       "      <td>сотрудник</td>\n",
       "      <td>0</td>\n",
       "      <td>267628.550329</td>\n",
       "      <td>дополнительное образование</td>\n",
       "    </tr>\n",
       "    <tr>\n",
       "      <th>4</th>\n",
       "      <td>0</td>\n",
       "      <td>340266.072047</td>\n",
       "      <td>53</td>\n",
       "      <td>среднее</td>\n",
       "      <td>1</td>\n",
       "      <td>гражданский брак</td>\n",
       "      <td>1</td>\n",
       "      <td>F</td>\n",
       "      <td>пенсионер</td>\n",
       "      <td>0</td>\n",
       "      <td>158616.077870</td>\n",
       "      <td>сыграть свадьбу</td>\n",
       "    </tr>\n",
       "    <tr>\n",
       "      <th>5</th>\n",
       "      <td>0</td>\n",
       "      <td>-926.185831</td>\n",
       "      <td>27</td>\n",
       "      <td>высшее</td>\n",
       "      <td>0</td>\n",
       "      <td>гражданский брак</td>\n",
       "      <td>1</td>\n",
       "      <td>M</td>\n",
       "      <td>компаньон</td>\n",
       "      <td>0</td>\n",
       "      <td>255763.565419</td>\n",
       "      <td>покупка жилья</td>\n",
       "    </tr>\n",
       "    <tr>\n",
       "      <th>6</th>\n",
       "      <td>0</td>\n",
       "      <td>-2879.202052</td>\n",
       "      <td>43</td>\n",
       "      <td>высшее</td>\n",
       "      <td>0</td>\n",
       "      <td>женат / замужем</td>\n",
       "      <td>0</td>\n",
       "      <td>F</td>\n",
       "      <td>компаньон</td>\n",
       "      <td>0</td>\n",
       "      <td>240525.971920</td>\n",
       "      <td>операции с жильем</td>\n",
       "    </tr>\n",
       "    <tr>\n",
       "      <th>7</th>\n",
       "      <td>0</td>\n",
       "      <td>-152.779569</td>\n",
       "      <td>50</td>\n",
       "      <td>СРЕДНЕЕ</td>\n",
       "      <td>1</td>\n",
       "      <td>женат / замужем</td>\n",
       "      <td>0</td>\n",
       "      <td>M</td>\n",
       "      <td>сотрудник</td>\n",
       "      <td>0</td>\n",
       "      <td>135823.934197</td>\n",
       "      <td>образование</td>\n",
       "    </tr>\n",
       "    <tr>\n",
       "      <th>8</th>\n",
       "      <td>2</td>\n",
       "      <td>-6929.865299</td>\n",
       "      <td>35</td>\n",
       "      <td>ВЫСШЕЕ</td>\n",
       "      <td>0</td>\n",
       "      <td>гражданский брак</td>\n",
       "      <td>1</td>\n",
       "      <td>F</td>\n",
       "      <td>сотрудник</td>\n",
       "      <td>0</td>\n",
       "      <td>95856.832424</td>\n",
       "      <td>на проведение свадьбы</td>\n",
       "    </tr>\n",
       "    <tr>\n",
       "      <th>9</th>\n",
       "      <td>0</td>\n",
       "      <td>-2188.756445</td>\n",
       "      <td>41</td>\n",
       "      <td>среднее</td>\n",
       "      <td>1</td>\n",
       "      <td>женат / замужем</td>\n",
       "      <td>0</td>\n",
       "      <td>M</td>\n",
       "      <td>сотрудник</td>\n",
       "      <td>0</td>\n",
       "      <td>144425.938277</td>\n",
       "      <td>покупка жилья для семьи</td>\n",
       "    </tr>\n",
       "    <tr>\n",
       "      <th>10</th>\n",
       "      <td>2</td>\n",
       "      <td>-4171.483647</td>\n",
       "      <td>36</td>\n",
       "      <td>высшее</td>\n",
       "      <td>0</td>\n",
       "      <td>женат / замужем</td>\n",
       "      <td>0</td>\n",
       "      <td>M</td>\n",
       "      <td>компаньон</td>\n",
       "      <td>0</td>\n",
       "      <td>113943.491460</td>\n",
       "      <td>покупка недвижимости</td>\n",
       "    </tr>\n",
       "    <tr>\n",
       "      <th>11</th>\n",
       "      <td>0</td>\n",
       "      <td>-792.701887</td>\n",
       "      <td>40</td>\n",
       "      <td>среднее</td>\n",
       "      <td>1</td>\n",
       "      <td>женат / замужем</td>\n",
       "      <td>0</td>\n",
       "      <td>F</td>\n",
       "      <td>сотрудник</td>\n",
       "      <td>0</td>\n",
       "      <td>77069.234271</td>\n",
       "      <td>покупка коммерческой недвижимости</td>\n",
       "    </tr>\n",
       "    <tr>\n",
       "      <th>12</th>\n",
       "      <td>0</td>\n",
       "      <td>NaN</td>\n",
       "      <td>65</td>\n",
       "      <td>среднее</td>\n",
       "      <td>1</td>\n",
       "      <td>гражданский брак</td>\n",
       "      <td>1</td>\n",
       "      <td>M</td>\n",
       "      <td>пенсионер</td>\n",
       "      <td>0</td>\n",
       "      <td>NaN</td>\n",
       "      <td>сыграть свадьбу</td>\n",
       "    </tr>\n",
       "    <tr>\n",
       "      <th>13</th>\n",
       "      <td>0</td>\n",
       "      <td>-1846.641941</td>\n",
       "      <td>54</td>\n",
       "      <td>неоконченное высшее</td>\n",
       "      <td>2</td>\n",
       "      <td>женат / замужем</td>\n",
       "      <td>0</td>\n",
       "      <td>F</td>\n",
       "      <td>сотрудник</td>\n",
       "      <td>0</td>\n",
       "      <td>130458.228857</td>\n",
       "      <td>приобретение автомобиля</td>\n",
       "    </tr>\n",
       "    <tr>\n",
       "      <th>14</th>\n",
       "      <td>0</td>\n",
       "      <td>-1844.956182</td>\n",
       "      <td>56</td>\n",
       "      <td>высшее</td>\n",
       "      <td>0</td>\n",
       "      <td>гражданский брак</td>\n",
       "      <td>1</td>\n",
       "      <td>F</td>\n",
       "      <td>компаньон</td>\n",
       "      <td>1</td>\n",
       "      <td>165127.911772</td>\n",
       "      <td>покупка жилой недвижимости</td>\n",
       "    </tr>\n",
       "    <tr>\n",
       "      <th>15</th>\n",
       "      <td>1</td>\n",
       "      <td>-972.364419</td>\n",
       "      <td>26</td>\n",
       "      <td>среднее</td>\n",
       "      <td>1</td>\n",
       "      <td>женат / замужем</td>\n",
       "      <td>0</td>\n",
       "      <td>F</td>\n",
       "      <td>сотрудник</td>\n",
       "      <td>0</td>\n",
       "      <td>116820.904450</td>\n",
       "      <td>строительство собственной недвижимости</td>\n",
       "    </tr>\n",
       "    <tr>\n",
       "      <th>16</th>\n",
       "      <td>0</td>\n",
       "      <td>-1719.934226</td>\n",
       "      <td>35</td>\n",
       "      <td>среднее</td>\n",
       "      <td>1</td>\n",
       "      <td>женат / замужем</td>\n",
       "      <td>0</td>\n",
       "      <td>F</td>\n",
       "      <td>сотрудник</td>\n",
       "      <td>0</td>\n",
       "      <td>289202.704229</td>\n",
       "      <td>недвижимость</td>\n",
       "    </tr>\n",
       "    <tr>\n",
       "      <th>17</th>\n",
       "      <td>0</td>\n",
       "      <td>-2369.999720</td>\n",
       "      <td>33</td>\n",
       "      <td>высшее</td>\n",
       "      <td>0</td>\n",
       "      <td>гражданский брак</td>\n",
       "      <td>1</td>\n",
       "      <td>M</td>\n",
       "      <td>сотрудник</td>\n",
       "      <td>0</td>\n",
       "      <td>90410.586745</td>\n",
       "      <td>строительство недвижимости</td>\n",
       "    </tr>\n",
       "    <tr>\n",
       "      <th>18</th>\n",
       "      <td>0</td>\n",
       "      <td>400281.136913</td>\n",
       "      <td>53</td>\n",
       "      <td>среднее</td>\n",
       "      <td>1</td>\n",
       "      <td>вдовец / вдова</td>\n",
       "      <td>2</td>\n",
       "      <td>F</td>\n",
       "      <td>пенсионер</td>\n",
       "      <td>0</td>\n",
       "      <td>56823.777243</td>\n",
       "      <td>на покупку подержанного автомобиля</td>\n",
       "    </tr>\n",
       "    <tr>\n",
       "      <th>19</th>\n",
       "      <td>0</td>\n",
       "      <td>-10038.818549</td>\n",
       "      <td>48</td>\n",
       "      <td>СРЕДНЕЕ</td>\n",
       "      <td>1</td>\n",
       "      <td>в разводе</td>\n",
       "      <td>3</td>\n",
       "      <td>F</td>\n",
       "      <td>сотрудник</td>\n",
       "      <td>0</td>\n",
       "      <td>242831.107982</td>\n",
       "      <td>на покупку своего автомобиля</td>\n",
       "    </tr>\n",
       "  </tbody>\n",
       "</table>\n",
       "</div>"
      ],
      "text/plain": [
       "    children  days_employed  dob_years            education  education_id  \\\n",
       "0          1   -8437.673028         42               высшее             0   \n",
       "1          1   -4024.803754         36              среднее             1   \n",
       "2          0   -5623.422610         33              Среднее             1   \n",
       "3          3   -4124.747207         32              среднее             1   \n",
       "4          0  340266.072047         53              среднее             1   \n",
       "5          0    -926.185831         27               высшее             0   \n",
       "6          0   -2879.202052         43               высшее             0   \n",
       "7          0    -152.779569         50              СРЕДНЕЕ             1   \n",
       "8          2   -6929.865299         35               ВЫСШЕЕ             0   \n",
       "9          0   -2188.756445         41              среднее             1   \n",
       "10         2   -4171.483647         36               высшее             0   \n",
       "11         0    -792.701887         40              среднее             1   \n",
       "12         0            NaN         65              среднее             1   \n",
       "13         0   -1846.641941         54  неоконченное высшее             2   \n",
       "14         0   -1844.956182         56               высшее             0   \n",
       "15         1    -972.364419         26              среднее             1   \n",
       "16         0   -1719.934226         35              среднее             1   \n",
       "17         0   -2369.999720         33               высшее             0   \n",
       "18         0  400281.136913         53              среднее             1   \n",
       "19         0  -10038.818549         48              СРЕДНЕЕ             1   \n",
       "\n",
       "       family_status  family_status_id gender income_type  debt  \\\n",
       "0    женат / замужем                 0      F   сотрудник     0   \n",
       "1    женат / замужем                 0      F   сотрудник     0   \n",
       "2    женат / замужем                 0      M   сотрудник     0   \n",
       "3    женат / замужем                 0      M   сотрудник     0   \n",
       "4   гражданский брак                 1      F   пенсионер     0   \n",
       "5   гражданский брак                 1      M   компаньон     0   \n",
       "6    женат / замужем                 0      F   компаньон     0   \n",
       "7    женат / замужем                 0      M   сотрудник     0   \n",
       "8   гражданский брак                 1      F   сотрудник     0   \n",
       "9    женат / замужем                 0      M   сотрудник     0   \n",
       "10   женат / замужем                 0      M   компаньон     0   \n",
       "11   женат / замужем                 0      F   сотрудник     0   \n",
       "12  гражданский брак                 1      M   пенсионер     0   \n",
       "13   женат / замужем                 0      F   сотрудник     0   \n",
       "14  гражданский брак                 1      F   компаньон     1   \n",
       "15   женат / замужем                 0      F   сотрудник     0   \n",
       "16   женат / замужем                 0      F   сотрудник     0   \n",
       "17  гражданский брак                 1      M   сотрудник     0   \n",
       "18    вдовец / вдова                 2      F   пенсионер     0   \n",
       "19         в разводе                 3      F   сотрудник     0   \n",
       "\n",
       "     total_income                                 purpose  \n",
       "0   253875.639453                           покупка жилья  \n",
       "1   112080.014102                 приобретение автомобиля  \n",
       "2   145885.952297                           покупка жилья  \n",
       "3   267628.550329              дополнительное образование  \n",
       "4   158616.077870                         сыграть свадьбу  \n",
       "5   255763.565419                           покупка жилья  \n",
       "6   240525.971920                       операции с жильем  \n",
       "7   135823.934197                             образование  \n",
       "8    95856.832424                   на проведение свадьбы  \n",
       "9   144425.938277                 покупка жилья для семьи  \n",
       "10  113943.491460                    покупка недвижимости  \n",
       "11   77069.234271       покупка коммерческой недвижимости  \n",
       "12            NaN                         сыграть свадьбу  \n",
       "13  130458.228857                 приобретение автомобиля  \n",
       "14  165127.911772              покупка жилой недвижимости  \n",
       "15  116820.904450  строительство собственной недвижимости  \n",
       "16  289202.704229                            недвижимость  \n",
       "17   90410.586745              строительство недвижимости  \n",
       "18   56823.777243      на покупку подержанного автомобиля  \n",
       "19  242831.107982            на покупку своего автомобиля  "
      ]
     },
     "execution_count": 282,
     "metadata": {},
     "output_type": "execute_result"
    }
   ],
   "source": [
    "#Смотрим первые 20 строк датафрейма\n",
    "data.head(20)"
   ]
  },
  {
   "cell_type": "code",
   "execution_count": 284,
   "id": "99c42f15-7376-46de-9bc6-91fb558a628f",
   "metadata": {},
   "outputs": [
    {
     "name": "stdout",
     "output_type": "stream",
     "text": [
      "<class 'pandas.core.frame.DataFrame'>\n",
      "RangeIndex: 21525 entries, 0 to 21524\n",
      "Data columns (total 12 columns):\n",
      " #   Column            Non-Null Count  Dtype  \n",
      "---  ------            --------------  -----  \n",
      " 0   children          21525 non-null  int64  \n",
      " 1   days_employed     19351 non-null  float64\n",
      " 2   dob_years         21525 non-null  int64  \n",
      " 3   education         21525 non-null  object \n",
      " 4   education_id      21525 non-null  int64  \n",
      " 5   family_status     21525 non-null  object \n",
      " 6   family_status_id  21525 non-null  int64  \n",
      " 7   gender            21525 non-null  object \n",
      " 8   income_type       21525 non-null  object \n",
      " 9   debt              21525 non-null  int64  \n",
      " 10  total_income      19351 non-null  float64\n",
      " 11  purpose           21525 non-null  object \n",
      "dtypes: float64(2), int64(5), object(5)\n",
      "memory usage: 2.0+ MB\n"
     ]
    }
   ],
   "source": [
    "#Смотрим основную информацию\n",
    "data.info()"
   ]
  },
  {
   "cell_type": "markdown",
   "id": "7efd3d0a-1800-41ee-8dfb-c658a7439073",
   "metadata": {},
   "source": [
    "*В датафрейме есть пропущенные значения в 'days_employed' и 'total_income'*"
   ]
  },
  {
   "cell_type": "code",
   "execution_count": 287,
   "id": "64f26f5c-07b3-4cd7-af56-33a60425737e",
   "metadata": {},
   "outputs": [
    {
     "data": {
      "text/plain": [
       "children               0\n",
       "days_employed       2174\n",
       "dob_years              0\n",
       "education              0\n",
       "education_id           0\n",
       "family_status          0\n",
       "family_status_id       0\n",
       "gender                 0\n",
       "income_type            0\n",
       "debt                   0\n",
       "total_income        2174\n",
       "purpose                0\n",
       "dtype: int64"
      ]
     },
     "execution_count": 287,
     "metadata": {},
     "output_type": "execute_result"
    }
   ],
   "source": [
    "#Выведем их\n",
    "data.isna().sum()"
   ]
  },
  {
   "cell_type": "markdown",
   "id": "a953eb31-1fe4-4da2-aa7a-7f04638d8cfa",
   "metadata": {},
   "source": [
    "## Предобработка данных"
   ]
  },
  {
   "cell_type": "code",
   "execution_count": 289,
   "id": "b3531923-1ee9-4fcd-8005-1a23a006ea43",
   "metadata": {},
   "outputs": [
    {
     "data": {
      "text/plain": [
       "income_type\n",
       "безработный        131339.751676\n",
       "в декрете           53829.130729\n",
       "госслужащий        150447.935283\n",
       "компаньон          172357.950966\n",
       "пенсионер          118514.486412\n",
       "предприниматель    499163.144947\n",
       "сотрудник          142594.396847\n",
       "студент             98201.625314\n",
       "Name: total_income, dtype: float64"
      ]
     },
     "execution_count": 289,
     "metadata": {},
     "output_type": "execute_result"
    }
   ],
   "source": [
    "#Смотрим медианное значение для среднего дохода относительно типа занятости\n",
    "data.groupby('income_type')['total_income'].agg('median')"
   ]
  },
  {
   "cell_type": "code",
   "execution_count": 292,
   "id": "70824e99-4ba0-47fc-a689-8a5d3a1597e0",
   "metadata": {},
   "outputs": [],
   "source": [
    "#Заменяем пропущенные значения в 'total_income' медианным значением относительно типа занятости\n",
    "for t in data['income_type'].unique():\n",
    "    data.loc[(data['income_type'] == t) & (data['total_income'].isna()), 'total_income'] = \\\n",
    "    data.loc[(data['income_type'] == t), 'total_income'].median()"
   ]
  },
  {
   "cell_type": "code",
   "execution_count": 294,
   "id": "2759490b-470c-412a-9595-47e5012f66ce",
   "metadata": {},
   "outputs": [],
   "source": [
    "#Мы видим отрицательные значения в столбце трудового стажа, такого быть не может, заменяем их \n",
    "data['days_employed'] = data['days_employed'].abs()"
   ]
  },
  {
   "cell_type": "code",
   "execution_count": 296,
   "id": "9d744dd9-c24d-44f0-b5b3-ce2a6663229d",
   "metadata": {},
   "outputs": [
    {
     "data": {
      "text/plain": [
       "income_type\n",
       "безработный        366413.652744\n",
       "в декрете            3296.759962\n",
       "госслужащий          2689.368353\n",
       "компаньон            1547.382223\n",
       "пенсионер          365213.306266\n",
       "предприниматель       520.848083\n",
       "сотрудник            1574.202821\n",
       "студент               578.751554\n",
       "Name: days_employed, dtype: float64"
      ]
     },
     "execution_count": 296,
     "metadata": {},
     "output_type": "execute_result"
    }
   ],
   "source": [
    "#Смотрим медианное значение для дней трудовохо стажа относительно типа занятости\n",
    "data.groupby('income_type')['days_employed'].agg('median')"
   ]
  },
  {
   "cell_type": "markdown",
   "id": "55be17b5-3cc0-4f56-9325-5f527b6695c1",
   "metadata": {},
   "source": [
    "У двух типов (безработные и пенсионеры) получатся аномально большие значения. Исправить такие значения сложно, поэтому оставим их как есть."
   ]
  },
  {
   "cell_type": "code",
   "execution_count": 299,
   "id": "b44f59a0-63e2-4c7e-b88e-07fd83a39904",
   "metadata": {},
   "outputs": [],
   "source": [
    "for t in data['income_type'].unique():\n",
    "    data.loc[(data['income_type'] == t) & (data['days_employed'].isna()), 'days_employed'] = \\\n",
    "    data.loc[(data['income_type'] == t), 'days_employed'].median()"
   ]
  },
  {
   "cell_type": "code",
   "execution_count": 301,
   "id": "22d1d82b-56e2-4253-afbb-83b3a969ef01",
   "metadata": {},
   "outputs": [
    {
     "data": {
      "text/plain": [
       "children            0\n",
       "days_employed       0\n",
       "dob_years           0\n",
       "education           0\n",
       "education_id        0\n",
       "family_status       0\n",
       "family_status_id    0\n",
       "gender              0\n",
       "income_type         0\n",
       "debt                0\n",
       "total_income        0\n",
       "purpose             0\n",
       "dtype: int64"
      ]
     },
     "execution_count": 301,
     "metadata": {},
     "output_type": "execute_result"
    }
   ],
   "source": [
    "#Проверяем на отсутсвие пропусков\n",
    "data.isna().sum()"
   ]
  },
  {
   "cell_type": "code",
   "execution_count": 303,
   "id": "cb114956-5805-48ca-8414-ed383ad973d3",
   "metadata": {},
   "outputs": [
    {
     "data": {
      "text/plain": [
       "array([ 1,  0,  3,  2, -1,  4, 20,  5], dtype=int64)"
      ]
     },
     "execution_count": 303,
     "metadata": {},
     "output_type": "execute_result"
    }
   ],
   "source": [
    "#Проверяем уникальные значения для количества детей\n",
    "data['children'].unique()"
   ]
  },
  {
   "cell_type": "markdown",
   "id": "3a2fa9e2-5ff0-4f6d-8219-8497f9510099",
   "metadata": {},
   "source": [
    "Видим, что аномалиями здесь являются количественные показтели -1 и 20, избавимся от них"
   ]
  },
  {
   "cell_type": "code",
   "execution_count": 306,
   "id": "654a14a4-9243-470c-b65b-4773f775ff13",
   "metadata": {},
   "outputs": [],
   "source": [
    "#Удаляем значения\n",
    "data = data[(data['children'] != -1) & (data['children'] != 20)]"
   ]
  },
  {
   "cell_type": "code",
   "execution_count": 308,
   "id": "769a73e6-4ca1-4714-9afb-a8f9219221f6",
   "metadata": {},
   "outputs": [
    {
     "data": {
      "text/plain": [
       "array([1, 0, 3, 2, 4, 5], dtype=int64)"
      ]
     },
     "execution_count": 308,
     "metadata": {},
     "output_type": "execute_result"
    }
   ],
   "source": [
    "#Проверяем уникальные значения после обработки\n",
    "data['children'].unique()"
   ]
  },
  {
   "cell_type": "code",
   "execution_count": 310,
   "id": "47d8c7cf-24ce-4eb1-8020-9406d9bb1b9a",
   "metadata": {},
   "outputs": [],
   "source": [
    "#Заменяем вещественный тип данных в 'total_income' на int\n",
    "data['total_income'] = data['total_income'].astype(int)"
   ]
  },
  {
   "cell_type": "code",
   "execution_count": 312,
   "id": "6b491840-b72b-4123-a832-97dca9132582",
   "metadata": {},
   "outputs": [],
   "source": [
    "#обрабатываем неявные дубликаты в 'education'\n",
    "data['education'] = data['education'].str.lower()"
   ]
  },
  {
   "cell_type": "code",
   "execution_count": 314,
   "id": "b294c9db-f0ba-4e0f-b2a3-363eac67f28a",
   "metadata": {},
   "outputs": [
    {
     "data": {
      "text/plain": [
       "71"
      ]
     },
     "execution_count": 314,
     "metadata": {},
     "output_type": "execute_result"
    }
   ],
   "source": [
    "#Ищем дубликаты и удаляем их\n",
    "data.duplicated().sum()"
   ]
  },
  {
   "cell_type": "code",
   "execution_count": 318,
   "id": "5cf5bf44-3809-4c3b-84b7-b068f900fd54",
   "metadata": {},
   "outputs": [],
   "source": [
    "data = data.drop_duplicates()"
   ]
  },
  {
   "cell_type": "markdown",
   "id": "9da3b48d-f934-4b0e-9b65-6e5d99661d2a",
   "metadata": {},
   "source": [
    "Данные обработаны, исправлены пропуски "
   ]
  },
  {
   "cell_type": "markdown",
   "id": "cf02f177-d501-4e56-a36d-2fb44984aa0d",
   "metadata": {},
   "source": [
    "## Категоризация данных"
   ]
  },
  {
   "cell_type": "code",
   "execution_count": 325,
   "id": "d89491ed-da35-4df2-a565-6bf102647fd3",
   "metadata": {},
   "outputs": [],
   "source": [
    "#Создадим категории данных относительно уровня дохода клиента, по ТЗ заказчика\n",
    "def categorize_income(income):\n",
    "    try:\n",
    "        if 0 <= income <= 30000:\n",
    "            return 'E'\n",
    "        elif 30001 <= income <= 50000:\n",
    "            return 'D'\n",
    "        elif 50001 <= income <= 200000:\n",
    "            return 'C'\n",
    "        elif 200001 <= income <= 1000000:\n",
    "            return 'B'\n",
    "        elif income >= 1000001:\n",
    "            return 'A'\n",
    "    except:\n",
    "        pass"
   ]
  },
  {
   "cell_type": "code",
   "execution_count": 327,
   "id": "8365dbb8-716f-41c1-b06c-9b88b6c6cae8",
   "metadata": {},
   "outputs": [],
   "source": [
    "#Создадим столбец с категориями \n",
    "data['total_income_category'] = data['total_income'].apply(categorize_income)"
   ]
  },
  {
   "cell_type": "code",
   "execution_count": 331,
   "id": "51cacd48-7dfd-4318-9652-42becb74b7a5",
   "metadata": {},
   "outputs": [
    {
     "data": {
      "text/plain": [
       "array(['покупка жилья', 'приобретение автомобиля',\n",
       "       'дополнительное образование', 'сыграть свадьбу',\n",
       "       'операции с жильем', 'образование', 'на проведение свадьбы',\n",
       "       'покупка жилья для семьи', 'покупка недвижимости',\n",
       "       'покупка коммерческой недвижимости', 'покупка жилой недвижимости',\n",
       "       'строительство собственной недвижимости', 'недвижимость',\n",
       "       'строительство недвижимости', 'на покупку подержанного автомобиля',\n",
       "       'на покупку своего автомобиля',\n",
       "       'операции с коммерческой недвижимостью',\n",
       "       'строительство жилой недвижимости', 'жилье',\n",
       "       'операции со своей недвижимостью', 'автомобили',\n",
       "       'заняться образованием', 'сделка с подержанным автомобилем',\n",
       "       'получение образования', 'автомобиль', 'свадьба',\n",
       "       'получение дополнительного образования', 'покупка своего жилья',\n",
       "       'операции с недвижимостью', 'получение высшего образования',\n",
       "       'свой автомобиль', 'сделка с автомобилем',\n",
       "       'профильное образование', 'высшее образование',\n",
       "       'покупка жилья для сдачи', 'на покупку автомобиля', 'ремонт жилью',\n",
       "       'заняться высшим образованием'], dtype=object)"
      ]
     },
     "execution_count": 331,
     "metadata": {},
     "output_type": "execute_result"
    }
   ],
   "source": [
    "#Выведем перечень уникальных значений для целей \n",
    "data['purpose'].unique()"
   ]
  },
  {
   "cell_type": "code",
   "execution_count": 333,
   "id": "01bd4538-81f4-4982-bf87-b4f847b696fd",
   "metadata": {},
   "outputs": [],
   "source": [
    "#Создадим категории данных относительно целей клиента\n",
    "def categorize_purpose(row):\n",
    "    try:\n",
    "        if 'автом' in row:\n",
    "            return 'операции с автомобилем'\n",
    "        elif 'жил' in row or 'недвиж' in row:\n",
    "            return 'операции с недвижимостью'\n",
    "        elif 'свад' in row:\n",
    "            return 'проведение свадьбы'\n",
    "        elif 'образов' in row:\n",
    "            return 'получение образования'\n",
    "    except:\n",
    "        return 'нет категории'"
   ]
  },
  {
   "cell_type": "code",
   "execution_count": 401,
   "id": "b5074115-d2c7-4842-acf0-47bd410e4c45",
   "metadata": {},
   "outputs": [],
   "source": [
    "#Создадим столбец с категориями \n",
    "data['purpose_category'] = data['purpose'].apply(categorize_purpose)"
   ]
  },
  {
   "cell_type": "markdown",
   "id": "9ccae2d2-19fb-4158-907b-e5dd515d0537",
   "metadata": {},
   "source": [
    "## Исследование данных и анализ"
   ]
  },
  {
   "cell_type": "markdown",
   "id": "e6748c30-1fae-4f21-8f8a-b95ef12d7844",
   "metadata": {},
   "source": [
    "### Есть ли зависимость между количеством детей и возвратом кредита в срок?"
   ]
  },
  {
   "cell_type": "code",
   "execution_count": 405,
   "id": "575fefcf-164e-42ab-86fc-7ce0bcf9b344",
   "metadata": {},
   "outputs": [
    {
     "data": {
      "text/html": [
       "<style type=\"text/css\">\n",
       "</style>\n",
       "<table id=\"T_e2e82\">\n",
       "  <thead>\n",
       "    <tr>\n",
       "      <th class=\"blank level0\" >&nbsp;</th>\n",
       "      <th id=\"T_e2e82_level0_col0\" class=\"col_heading level0 col0\" >Кол-во детей</th>\n",
       "      <th id=\"T_e2e82_level0_col1\" class=\"col_heading level0 col1\" >Размер сегмента</th>\n",
       "      <th id=\"T_e2e82_level0_col2\" class=\"col_heading level0 col2\" >Кол-во должников</th>\n",
       "      <th id=\"T_e2e82_level0_col3\" class=\"col_heading level0 col3\" >Доля должников</th>\n",
       "    </tr>\n",
       "  </thead>\n",
       "  <tbody>\n",
       "    <tr>\n",
       "      <th id=\"T_e2e82_level0_row0\" class=\"row_heading level0 row0\" >5</th>\n",
       "      <td id=\"T_e2e82_row0_col0\" class=\"data row0 col0\" >5</td>\n",
       "      <td id=\"T_e2e82_row0_col1\" class=\"data row0 col1\" >9</td>\n",
       "      <td id=\"T_e2e82_row0_col2\" class=\"data row0 col2\" >0</td>\n",
       "      <td id=\"T_e2e82_row0_col3\" class=\"data row0 col3\" >0.0%</td>\n",
       "    </tr>\n",
       "    <tr>\n",
       "      <th id=\"T_e2e82_level0_row1\" class=\"row_heading level0 row1\" >0</th>\n",
       "      <td id=\"T_e2e82_row1_col0\" class=\"data row1 col0\" >0</td>\n",
       "      <td id=\"T_e2e82_row1_col1\" class=\"data row1 col1\" >14091</td>\n",
       "      <td id=\"T_e2e82_row1_col2\" class=\"data row1 col2\" >1063</td>\n",
       "      <td id=\"T_e2e82_row1_col3\" class=\"data row1 col3\" >7.5%</td>\n",
       "    </tr>\n",
       "    <tr>\n",
       "      <th id=\"T_e2e82_level0_row2\" class=\"row_heading level0 row2\" >3</th>\n",
       "      <td id=\"T_e2e82_row2_col0\" class=\"data row2 col0\" >3</td>\n",
       "      <td id=\"T_e2e82_row2_col1\" class=\"data row2 col1\" >330</td>\n",
       "      <td id=\"T_e2e82_row2_col2\" class=\"data row2 col2\" >27</td>\n",
       "      <td id=\"T_e2e82_row2_col3\" class=\"data row2 col3\" >8.2%</td>\n",
       "    </tr>\n",
       "    <tr>\n",
       "      <th id=\"T_e2e82_level0_row3\" class=\"row_heading level0 row3\" >1</th>\n",
       "      <td id=\"T_e2e82_row3_col0\" class=\"data row3 col0\" >1</td>\n",
       "      <td id=\"T_e2e82_row3_col1\" class=\"data row3 col1\" >4808</td>\n",
       "      <td id=\"T_e2e82_row3_col2\" class=\"data row3 col2\" >444</td>\n",
       "      <td id=\"T_e2e82_row3_col3\" class=\"data row3 col3\" >9.2%</td>\n",
       "    </tr>\n",
       "    <tr>\n",
       "      <th id=\"T_e2e82_level0_row4\" class=\"row_heading level0 row4\" >2</th>\n",
       "      <td id=\"T_e2e82_row4_col0\" class=\"data row4 col0\" >2</td>\n",
       "      <td id=\"T_e2e82_row4_col1\" class=\"data row4 col1\" >2052</td>\n",
       "      <td id=\"T_e2e82_row4_col2\" class=\"data row4 col2\" >194</td>\n",
       "      <td id=\"T_e2e82_row4_col3\" class=\"data row4 col3\" >9.5%</td>\n",
       "    </tr>\n",
       "    <tr>\n",
       "      <th id=\"T_e2e82_level0_row5\" class=\"row_heading level0 row5\" >4</th>\n",
       "      <td id=\"T_e2e82_row5_col0\" class=\"data row5 col0\" >4</td>\n",
       "      <td id=\"T_e2e82_row5_col1\" class=\"data row5 col1\" >41</td>\n",
       "      <td id=\"T_e2e82_row5_col2\" class=\"data row5 col2\" >4</td>\n",
       "      <td id=\"T_e2e82_row5_col3\" class=\"data row5 col3\" >9.8%</td>\n",
       "    </tr>\n",
       "  </tbody>\n",
       "</table>\n"
      ],
      "text/plain": [
       "<pandas.io.formats.style.Styler at 0x1890bcfb650>"
      ]
     },
     "execution_count": 405,
     "metadata": {},
     "output_type": "execute_result"
    }
   ],
   "source": [
    "debt_children = data.pivot_table(index='children',\n",
    "                 values='debt',\n",
    "                 aggfunc=['count', 'sum', 'mean']).reset_index()\n",
    "\n",
    "debt_children.columns = ['Кол-во детей', 'Размер сегмента', 'Кол-во должников', 'Доля должников']\n",
    "\n",
    "debt_children.sort_values(by='Доля должников').style.format({'Доля должников': '{:.1%}'})"
   ]
  },
  {
   "cell_type": "markdown",
   "id": "034ba694-eaa2-44df-8000-64c0fe7b44c6",
   "metadata": {},
   "source": [
    "**Вывод:** \n",
    "\n",
    "Мы определили должников в группы по количеству детей:\n",
    "1. Процент должников без детей 7.5%\n",
    "2. Процент должников с одним ребенком 9.2%\n",
    "3. Процент должников с двумя детьми 9.4%\n",
    "4. Процент должников с тремя детьми 8.1%\n",
    "5. Процент должников с четырьмя детьми 9.7%\n",
    "6. Должников с пятью детьми нет\n",
    "\n",
    "*Клиентов, у которых пять детей и есть долг, не найдено, их также менее одного процента, в выборке учитывать их не будем, по той же причине не будем указывать группы с тремя и четырьмя детьми.*\n",
    "\n",
    "* Группа клиентов без детей самая большая, при этом они имеет самый низкий процент невозврата долгов - 7.5%\n",
    "\n",
    "* Группа с одним ребенком явялется второй по величине и имеет покатель в - 9.2% \n",
    "\n",
    "* Группа с двумя детьми находится на третьем месте по проценту должников - 9.4%\n",
    "\n",
    "*Отвечая на вопрос задания, мы выели статистику должников из трех самых круппных групп по количеству детей. Резлуьтатом стала зависимость роста процента должников относительно количества детей.*"
   ]
  },
  {
   "cell_type": "markdown",
   "id": "de248265-7b8b-4ec3-b1fe-7c2f0ae712d6",
   "metadata": {},
   "source": [
    "###  Есть ли зависимость между семейным положением и возвратом кредита в срок?"
   ]
  },
  {
   "cell_type": "code",
   "execution_count": 409,
   "id": "30a26008-a2a1-445b-ac31-fc912a844e91",
   "metadata": {},
   "outputs": [
    {
     "data": {
      "text/html": [
       "<style type=\"text/css\">\n",
       "</style>\n",
       "<table id=\"T_f4786\">\n",
       "  <thead>\n",
       "    <tr>\n",
       "      <th class=\"blank level0\" >&nbsp;</th>\n",
       "      <th id=\"T_f4786_level0_col0\" class=\"col_heading level0 col0\" >Кол-во детей</th>\n",
       "      <th id=\"T_f4786_level0_col1\" class=\"col_heading level0 col1\" >Размер сегмента</th>\n",
       "      <th id=\"T_f4786_level0_col2\" class=\"col_heading level0 col2\" >Кол-во должников</th>\n",
       "      <th id=\"T_f4786_level0_col3\" class=\"col_heading level0 col3\" >Доля должников</th>\n",
       "    </tr>\n",
       "  </thead>\n",
       "  <tbody>\n",
       "    <tr>\n",
       "      <th id=\"T_f4786_level0_row0\" class=\"row_heading level0 row0\" >2</th>\n",
       "      <td id=\"T_f4786_row0_col0\" class=\"data row0 col0\" >вдовец / вдова</td>\n",
       "      <td id=\"T_f4786_row0_col1\" class=\"data row0 col1\" >951</td>\n",
       "      <td id=\"T_f4786_row0_col2\" class=\"data row0 col2\" >63</td>\n",
       "      <td id=\"T_f4786_row0_col3\" class=\"data row0 col3\" >6.6%</td>\n",
       "    </tr>\n",
       "    <tr>\n",
       "      <th id=\"T_f4786_level0_row1\" class=\"row_heading level0 row1\" >1</th>\n",
       "      <td id=\"T_f4786_row1_col0\" class=\"data row1 col0\" >в разводе</td>\n",
       "      <td id=\"T_f4786_row1_col1\" class=\"data row1 col1\" >1189</td>\n",
       "      <td id=\"T_f4786_row1_col2\" class=\"data row1 col2\" >84</td>\n",
       "      <td id=\"T_f4786_row1_col3\" class=\"data row1 col3\" >7.1%</td>\n",
       "    </tr>\n",
       "    <tr>\n",
       "      <th id=\"T_f4786_level0_row2\" class=\"row_heading level0 row2\" >4</th>\n",
       "      <td id=\"T_f4786_row2_col0\" class=\"data row2 col0\" >женат / замужем</td>\n",
       "      <td id=\"T_f4786_row2_col1\" class=\"data row2 col1\" >12261</td>\n",
       "      <td id=\"T_f4786_row2_col2\" class=\"data row2 col2\" >927</td>\n",
       "      <td id=\"T_f4786_row2_col3\" class=\"data row2 col3\" >7.6%</td>\n",
       "    </tr>\n",
       "    <tr>\n",
       "      <th id=\"T_f4786_level0_row3\" class=\"row_heading level0 row3\" >3</th>\n",
       "      <td id=\"T_f4786_row3_col0\" class=\"data row3 col0\" >гражданский брак</td>\n",
       "      <td id=\"T_f4786_row3_col1\" class=\"data row3 col1\" >4134</td>\n",
       "      <td id=\"T_f4786_row3_col2\" class=\"data row3 col2\" >385</td>\n",
       "      <td id=\"T_f4786_row3_col3\" class=\"data row3 col3\" >9.3%</td>\n",
       "    </tr>\n",
       "    <tr>\n",
       "      <th id=\"T_f4786_level0_row4\" class=\"row_heading level0 row4\" >0</th>\n",
       "      <td id=\"T_f4786_row4_col0\" class=\"data row4 col0\" >Не женат / не замужем</td>\n",
       "      <td id=\"T_f4786_row4_col1\" class=\"data row4 col1\" >2796</td>\n",
       "      <td id=\"T_f4786_row4_col2\" class=\"data row4 col2\" >273</td>\n",
       "      <td id=\"T_f4786_row4_col3\" class=\"data row4 col3\" >9.8%</td>\n",
       "    </tr>\n",
       "  </tbody>\n",
       "</table>\n"
      ],
      "text/plain": [
       "<pandas.io.formats.style.Styler at 0x1890bcf9340>"
      ]
     },
     "execution_count": 409,
     "metadata": {},
     "output_type": "execute_result"
    }
   ],
   "source": [
    "debt_family = data.pivot_table(index='family_status',\n",
    "                 values='debt',\n",
    "                 aggfunc=['count', 'sum', 'mean']).reset_index()\n",
    "\n",
    "debt_family.columns = ['Кол-во детей', 'Размер сегмента', 'Кол-во должников', 'Доля должников']\n",
    "\n",
    "debt_family.sort_values(by='Доля должников').style.format({'Доля должников': '{:.1%}'})"
   ]
  },
  {
   "cell_type": "markdown",
   "id": "616b4fe0-fa7b-46cc-be18-980067e98189",
   "metadata": {},
   "source": [
    "**Вывод:** \n",
    "\n",
    "1. Процент должников в браке: 7.5%\n",
    "2. Процент должников в гражданском браке: 9.3%\n",
    "3. Процент холостых должников: 9.7%\n",
    "4. Процент должников в разводе: 7%\n",
    "5. Процент должников потерявших супруга: 6,6%\n",
    "\n",
    "\n",
    "* Исходя из анализа мы видим, что клиенты вдовцы и находящиеся в разводе являются наименее предрасположенными к задолжности. \n",
    "\n",
    "* Холостые клиенты являются самыми частыми должниками, клиенты в гражданском браке находятся в среднем диапазоне просрочек.\n",
    "\n",
    "* Должники находящиеся в браке составляют самую большую группу клиентов относительно семейного статуса, при этом их показатель задолжности меньше среднего. \n",
    "\n",
    "* Показательно, что клиенты, которые состоят или состояли в официальном браке являются менее расположенной к просрочкам группой, что вероятнее всего связано с наколпением общего капитала и уменеем планировать расходы, также в этих группах скорее всего находятся более взрослые клиенты.\n",
    "\n",
    "*Отвечая на вопрос из задния, исходя из анализа данных холостые чаще просрачивают платежи, чем семейные клиенты, а люди в гражданском браке чаще, чем в официальном, вдовы/цы и разведенные имеют меньше всего процента просрочек. Данных досаточно, чтобы заявить, что семейное положение влияет на возврат долга.*"
   ]
  },
  {
   "cell_type": "markdown",
   "id": "9e28df27-da47-4883-8654-2fe6a29f1523",
   "metadata": {},
   "source": [
    "### Есть ли зависимость между уровнем дохода и возвратом кредита в срок?"
   ]
  },
  {
   "cell_type": "code",
   "execution_count": 413,
   "id": "44ba239e-c9bd-457a-9e42-ff3a59ad7a07",
   "metadata": {},
   "outputs": [
    {
     "data": {
      "text/html": [
       "<style type=\"text/css\">\n",
       "</style>\n",
       "<table id=\"T_aa87b\">\n",
       "  <thead>\n",
       "    <tr>\n",
       "      <th class=\"blank level0\" >&nbsp;</th>\n",
       "      <th id=\"T_aa87b_level0_col0\" class=\"col_heading level0 col0\" >Кол-во детей</th>\n",
       "      <th id=\"T_aa87b_level0_col1\" class=\"col_heading level0 col1\" >Размер сегмента</th>\n",
       "      <th id=\"T_aa87b_level0_col2\" class=\"col_heading level0 col2\" >Кол-во должников</th>\n",
       "      <th id=\"T_aa87b_level0_col3\" class=\"col_heading level0 col3\" >Доля должников</th>\n",
       "    </tr>\n",
       "  </thead>\n",
       "  <tbody>\n",
       "    <tr>\n",
       "      <th id=\"T_aa87b_level0_row0\" class=\"row_heading level0 row0\" >3</th>\n",
       "      <td id=\"T_aa87b_row0_col0\" class=\"data row0 col0\" >D</td>\n",
       "      <td id=\"T_aa87b_row0_col1\" class=\"data row0 col1\" >349</td>\n",
       "      <td id=\"T_aa87b_row0_col2\" class=\"data row0 col2\" >21</td>\n",
       "      <td id=\"T_aa87b_row0_col3\" class=\"data row0 col3\" >6.0%</td>\n",
       "    </tr>\n",
       "    <tr>\n",
       "      <th id=\"T_aa87b_level0_row1\" class=\"row_heading level0 row1\" >1</th>\n",
       "      <td id=\"T_aa87b_row1_col0\" class=\"data row1 col0\" >B</td>\n",
       "      <td id=\"T_aa87b_row1_col1\" class=\"data row1 col1\" >5014</td>\n",
       "      <td id=\"T_aa87b_row1_col2\" class=\"data row1 col2\" >354</td>\n",
       "      <td id=\"T_aa87b_row1_col3\" class=\"data row1 col3\" >7.1%</td>\n",
       "    </tr>\n",
       "    <tr>\n",
       "      <th id=\"T_aa87b_level0_row2\" class=\"row_heading level0 row2\" >0</th>\n",
       "      <td id=\"T_aa87b_row2_col0\" class=\"data row2 col0\" >A</td>\n",
       "      <td id=\"T_aa87b_row2_col1\" class=\"data row2 col1\" >25</td>\n",
       "      <td id=\"T_aa87b_row2_col2\" class=\"data row2 col2\" >2</td>\n",
       "      <td id=\"T_aa87b_row2_col3\" class=\"data row2 col3\" >8.0%</td>\n",
       "    </tr>\n",
       "    <tr>\n",
       "      <th id=\"T_aa87b_level0_row3\" class=\"row_heading level0 row3\" >2</th>\n",
       "      <td id=\"T_aa87b_row3_col0\" class=\"data row3 col0\" >C</td>\n",
       "      <td id=\"T_aa87b_row3_col1\" class=\"data row3 col1\" >15921</td>\n",
       "      <td id=\"T_aa87b_row3_col2\" class=\"data row3 col2\" >1353</td>\n",
       "      <td id=\"T_aa87b_row3_col3\" class=\"data row3 col3\" >8.5%</td>\n",
       "    </tr>\n",
       "    <tr>\n",
       "      <th id=\"T_aa87b_level0_row4\" class=\"row_heading level0 row4\" >4</th>\n",
       "      <td id=\"T_aa87b_row4_col0\" class=\"data row4 col0\" >E</td>\n",
       "      <td id=\"T_aa87b_row4_col1\" class=\"data row4 col1\" >22</td>\n",
       "      <td id=\"T_aa87b_row4_col2\" class=\"data row4 col2\" >2</td>\n",
       "      <td id=\"T_aa87b_row4_col3\" class=\"data row4 col3\" >9.1%</td>\n",
       "    </tr>\n",
       "  </tbody>\n",
       "</table>\n"
      ],
      "text/plain": [
       "<pandas.io.formats.style.Styler at 0x1890d0fb290>"
      ]
     },
     "execution_count": 413,
     "metadata": {},
     "output_type": "execute_result"
    }
   ],
   "source": [
    "debt_family = data.pivot_table(index='total_income_category',\n",
    "                 values='debt',\n",
    "                 aggfunc=['count', 'sum', 'mean']).reset_index()\n",
    "\n",
    "debt_family.columns = ['Кол-во детей', 'Размер сегмента', 'Кол-во должников', 'Доля должников']\n",
    "\n",
    "debt_family.sort_values(by='Доля должников').style.format({'Доля должников': '{:.1%}'})"
   ]
  },
  {
   "cell_type": "markdown",
   "id": "8f529eb4-c6e2-48bb-b582-7ef369861ade",
   "metadata": {},
   "source": [
    "**Вывод:** \n",
    "\n",
    "1. Процент должников категории А: 8%\n",
    "2. Процент должников категории В: 7.1%\n",
    "3. Процент холостых категории С: 8.5%\n",
    "4. Процент должников категории D: 6%\n",
    "5. Процент должников категории Е: 9.1%\n",
    "\n",
    "* Исходя из полученных данных категории A и E можно не учитывать в сравнительном анализе, потому что в каждой из групп менее 1% клиентов, также не будем учитывать группу  D, в групппе всего 1.5% клиентов.\n",
    "* Категория C является наибольшей и статистически именно вней самый высокий процент неплательщиков - 8%\n",
    "* Категория В вторая по величине и вторая по количеству неплательщиков - 7.1%\n",
    "\n",
    "\n",
    "*Отвечая на вопрос из задния, исходя из показателей очевидно, что в категории B процент просрочек ниже, чем в категории C, соответсвенно можно заявлять, что количество доли просрочек уменьшается с ростом дохода.*"
   ]
  },
  {
   "cell_type": "markdown",
   "id": "1dda1228-758e-447c-adc0-d24178808246",
   "metadata": {},
   "source": [
    "**Рекомендации:** \n",
    "\n",
    "*Если создать более равные группы по категория доходов клиентов, мы сможем получить более точные данные. Это мы можем сделать с помощью метода qcut() из библиотеки pandas:*"
   ]
  },
  {
   "cell_type": "code",
   "execution_count": 417,
   "id": "67e2cc25-6583-4f8f-bac9-e294db9381c3",
   "metadata": {},
   "outputs": [
    {
     "data": {
      "text/plain": [
       "total_income\n",
       "(20666.999, 98514.0]     4267\n",
       "(98514.0, 132113.0]      4266\n",
       "(132113.0, 161380.0]     4266\n",
       "(161380.0, 214604.0]     4266\n",
       "(214604.0, 2265604.0]    4266\n",
       "Name: count, dtype: int64"
      ]
     },
     "execution_count": 417,
     "metadata": {},
     "output_type": "execute_result"
    }
   ],
   "source": [
    "#Выводим на экран 5 новых категорий\n",
    "pd.qcut(data['total_income'], q=5).value_counts()"
   ]
  },
  {
   "cell_type": "code",
   "execution_count": 419,
   "id": "28e0792a-7bde-4c6e-b1b6-3be27f1d3d78",
   "metadata": {},
   "outputs": [
    {
     "data": {
      "text/plain": [
       "total_income_new_category\n",
       "E    4267\n",
       "D    4266\n",
       "C    4266\n",
       "B    4266\n",
       "A    4266\n",
       "Name: count, dtype: int64"
      ]
     },
     "execution_count": 419,
     "metadata": {},
     "output_type": "execute_result"
    }
   ],
   "source": [
    "#Делим на категории\n",
    "category_new = ['E', 'D', 'C', 'B', 'A']\n",
    "\n",
    "data['total_income_new_category'] = pd.qcut(data['total_income'], q=5, labels=category_new)\n",
    "data['total_income_new_category'].value_counts()"
   ]
  },
  {
   "cell_type": "code",
   "execution_count": 421,
   "id": "1d1f5cf4-787c-401a-bcf6-b18f85d737d5",
   "metadata": {},
   "outputs": [
    {
     "name": "stderr",
     "output_type": "stream",
     "text": [
      "C:\\Users\\ЯУСТАЛ\\AppData\\Local\\Temp\\ipykernel_3024\\2811893797.py:1: FutureWarning: The default value of observed=False is deprecated and will change to observed=True in a future version of pandas. Specify observed=False to silence this warning and retain the current behavior\n",
      "  debt_family = data.pivot_table(index='total_income_new_category',\n",
      "C:\\Users\\ЯУСТАЛ\\AppData\\Local\\Temp\\ipykernel_3024\\2811893797.py:1: FutureWarning: The default value of observed=False is deprecated and will change to observed=True in a future version of pandas. Specify observed=False to silence this warning and retain the current behavior\n",
      "  debt_family = data.pivot_table(index='total_income_new_category',\n",
      "C:\\Users\\ЯУСТАЛ\\AppData\\Local\\Temp\\ipykernel_3024\\2811893797.py:1: FutureWarning: The default value of observed=False is deprecated and will change to observed=True in a future version of pandas. Specify observed=False to silence this warning and retain the current behavior\n",
      "  debt_family = data.pivot_table(index='total_income_new_category',\n"
     ]
    },
    {
     "data": {
      "text/html": [
       "<style type=\"text/css\">\n",
       "</style>\n",
       "<table id=\"T_ddbce\">\n",
       "  <thead>\n",
       "    <tr>\n",
       "      <th class=\"blank level0\" >&nbsp;</th>\n",
       "      <th id=\"T_ddbce_level0_col0\" class=\"col_heading level0 col0\" >Кол-во детей</th>\n",
       "      <th id=\"T_ddbce_level0_col1\" class=\"col_heading level0 col1\" >Размер сегмента</th>\n",
       "      <th id=\"T_ddbce_level0_col2\" class=\"col_heading level0 col2\" >Кол-во должников</th>\n",
       "      <th id=\"T_ddbce_level0_col3\" class=\"col_heading level0 col3\" >Доля должников</th>\n",
       "    </tr>\n",
       "  </thead>\n",
       "  <tbody>\n",
       "    <tr>\n",
       "      <th id=\"T_ddbce_level0_row0\" class=\"row_heading level0 row0\" >4</th>\n",
       "      <td id=\"T_ddbce_row0_col0\" class=\"data row0 col0\" >A</td>\n",
       "      <td id=\"T_ddbce_row0_col1\" class=\"data row0 col1\" >4266</td>\n",
       "      <td id=\"T_ddbce_row0_col2\" class=\"data row0 col2\" >299</td>\n",
       "      <td id=\"T_ddbce_row0_col3\" class=\"data row0 col3\" >7.0%</td>\n",
       "    </tr>\n",
       "    <tr>\n",
       "      <th id=\"T_ddbce_level0_row1\" class=\"row_heading level0 row1\" >0</th>\n",
       "      <td id=\"T_ddbce_row1_col0\" class=\"data row1 col0\" >E</td>\n",
       "      <td id=\"T_ddbce_row1_col1\" class=\"data row1 col1\" >4267</td>\n",
       "      <td id=\"T_ddbce_row1_col2\" class=\"data row1 col2\" >344</td>\n",
       "      <td id=\"T_ddbce_row1_col3\" class=\"data row1 col3\" >8.1%</td>\n",
       "    </tr>\n",
       "    <tr>\n",
       "      <th id=\"T_ddbce_level0_row2\" class=\"row_heading level0 row2\" >1</th>\n",
       "      <td id=\"T_ddbce_row2_col0\" class=\"data row2 col0\" >D</td>\n",
       "      <td id=\"T_ddbce_row2_col1\" class=\"data row2 col1\" >4266</td>\n",
       "      <td id=\"T_ddbce_row2_col2\" class=\"data row2 col2\" >358</td>\n",
       "      <td id=\"T_ddbce_row2_col3\" class=\"data row2 col3\" >8.4%</td>\n",
       "    </tr>\n",
       "    <tr>\n",
       "      <th id=\"T_ddbce_level0_row3\" class=\"row_heading level0 row3\" >3</th>\n",
       "      <td id=\"T_ddbce_row3_col0\" class=\"data row3 col0\" >B</td>\n",
       "      <td id=\"T_ddbce_row3_col1\" class=\"data row3 col1\" >4266</td>\n",
       "      <td id=\"T_ddbce_row3_col2\" class=\"data row3 col2\" >358</td>\n",
       "      <td id=\"T_ddbce_row3_col3\" class=\"data row3 col3\" >8.4%</td>\n",
       "    </tr>\n",
       "    <tr>\n",
       "      <th id=\"T_ddbce_level0_row4\" class=\"row_heading level0 row4\" >2</th>\n",
       "      <td id=\"T_ddbce_row4_col0\" class=\"data row4 col0\" >C</td>\n",
       "      <td id=\"T_ddbce_row4_col1\" class=\"data row4 col1\" >4266</td>\n",
       "      <td id=\"T_ddbce_row4_col2\" class=\"data row4 col2\" >373</td>\n",
       "      <td id=\"T_ddbce_row4_col3\" class=\"data row4 col3\" >8.7%</td>\n",
       "    </tr>\n",
       "  </tbody>\n",
       "</table>\n"
      ],
      "text/plain": [
       "<pandas.io.formats.style.Styler at 0x1890d0e4f80>"
      ]
     },
     "execution_count": 421,
     "metadata": {},
     "output_type": "execute_result"
    }
   ],
   "source": [
    "debt_family = data.pivot_table(index='total_income_new_category',\n",
    "                 values='debt',\n",
    "                 aggfunc=['count', 'sum', 'mean']).reset_index()\n",
    "\n",
    "debt_family.columns = ['Кол-во детей', 'Размер сегмента', 'Кол-во должников', 'Доля должников']\n",
    "\n",
    "debt_family.sort_values(by='Доля должников').style.format({'Доля должников': '{:.1%}'})"
   ]
  },
  {
   "cell_type": "markdown",
   "id": "5c85e22e-97d8-4fd0-8d7c-643cec3da54c",
   "metadata": {},
   "source": [
    "**Вывод:** \n",
    "\n",
    "1. Процент должников категории А: 7%\n",
    "2. Процент должников категории В: 8.4%\n",
    "3. Процент холостых категории С: 8.7%\n",
    "4. Процент должников категории D: 8.4%\n",
    "5. Процент должников категории Е: 8.1%\n",
    "\n",
    "*Разделив группы клиентов на более равные категории, мы смогли подготовить обновленные данные:*\n",
    "\n",
    "1. Самые богатые клиент допускают меньше всего просрочек\n",
    "2. Клиенты из 'Cреднего класса' оставили за собой самый большой процент неплательщиков\n",
    "3. Количество просрочек от категории А до С расет, а от С до Е снижается"
   ]
  },
  {
   "cell_type": "markdown",
   "id": "000a25f7-2fe2-4ce5-9c50-140c87db7eda",
   "metadata": {},
   "source": [
    "#### 3.4 Как разные цели кредита влияют на его возврат в срок?"
   ]
  },
  {
   "cell_type": "code",
   "execution_count": 425,
   "id": "09788354-add1-4350-b367-3bf88085d7d5",
   "metadata": {},
   "outputs": [
    {
     "data": {
      "text/html": [
       "<style type=\"text/css\">\n",
       "</style>\n",
       "<table id=\"T_f4804\">\n",
       "  <thead>\n",
       "    <tr>\n",
       "      <th class=\"blank level0\" >&nbsp;</th>\n",
       "      <th id=\"T_f4804_level0_col0\" class=\"col_heading level0 col0\" >Кол-во детей</th>\n",
       "      <th id=\"T_f4804_level0_col1\" class=\"col_heading level0 col1\" >Размер сегмента</th>\n",
       "      <th id=\"T_f4804_level0_col2\" class=\"col_heading level0 col2\" >Кол-во должников</th>\n",
       "      <th id=\"T_f4804_level0_col3\" class=\"col_heading level0 col3\" >Доля должников</th>\n",
       "    </tr>\n",
       "  </thead>\n",
       "  <tbody>\n",
       "    <tr>\n",
       "      <th id=\"T_f4804_level0_row0\" class=\"row_heading level0 row0\" >1</th>\n",
       "      <td id=\"T_f4804_row0_col0\" class=\"data row0 col0\" >операции с недвижимостью</td>\n",
       "      <td id=\"T_f4804_row0_col1\" class=\"data row0 col1\" >10751</td>\n",
       "      <td id=\"T_f4804_row0_col2\" class=\"data row0 col2\" >780</td>\n",
       "      <td id=\"T_f4804_row0_col3\" class=\"data row0 col3\" >7.3%</td>\n",
       "    </tr>\n",
       "    <tr>\n",
       "      <th id=\"T_f4804_level0_row1\" class=\"row_heading level0 row1\" >3</th>\n",
       "      <td id=\"T_f4804_row1_col0\" class=\"data row1 col0\" >проведение свадьбы</td>\n",
       "      <td id=\"T_f4804_row1_col1\" class=\"data row1 col1\" >2313</td>\n",
       "      <td id=\"T_f4804_row1_col2\" class=\"data row1 col2\" >183</td>\n",
       "      <td id=\"T_f4804_row1_col3\" class=\"data row1 col3\" >7.9%</td>\n",
       "    </tr>\n",
       "    <tr>\n",
       "      <th id=\"T_f4804_level0_row2\" class=\"row_heading level0 row2\" >2</th>\n",
       "      <td id=\"T_f4804_row2_col0\" class=\"data row2 col0\" >получение образования</td>\n",
       "      <td id=\"T_f4804_row2_col1\" class=\"data row2 col1\" >3988</td>\n",
       "      <td id=\"T_f4804_row2_col2\" class=\"data row2 col2\" >369</td>\n",
       "      <td id=\"T_f4804_row2_col3\" class=\"data row2 col3\" >9.3%</td>\n",
       "    </tr>\n",
       "    <tr>\n",
       "      <th id=\"T_f4804_level0_row3\" class=\"row_heading level0 row3\" >0</th>\n",
       "      <td id=\"T_f4804_row3_col0\" class=\"data row3 col0\" >операции с автомобилем</td>\n",
       "      <td id=\"T_f4804_row3_col1\" class=\"data row3 col1\" >4279</td>\n",
       "      <td id=\"T_f4804_row3_col2\" class=\"data row3 col2\" >400</td>\n",
       "      <td id=\"T_f4804_row3_col3\" class=\"data row3 col3\" >9.3%</td>\n",
       "    </tr>\n",
       "  </tbody>\n",
       "</table>\n"
      ],
      "text/plain": [
       "<pandas.io.formats.style.Styler at 0x1890bcf9bb0>"
      ]
     },
     "execution_count": 425,
     "metadata": {},
     "output_type": "execute_result"
    }
   ],
   "source": [
    "debt_family = data.pivot_table(index='purpose_category',\n",
    "                 values='debt',\n",
    "                 aggfunc=['count', 'sum', 'mean']).reset_index()\n",
    "\n",
    "debt_family.columns = ['Кол-во детей', 'Размер сегмента', 'Кол-во должников', 'Доля должников']\n",
    "\n",
    "debt_family.sort_values(by='Доля должников').style.format({'Доля должников': '{:.1%}'})"
   ]
  },
  {
   "cell_type": "markdown",
   "id": "1319b6ce-1030-48cf-8d93-884202d29fe6",
   "metadata": {},
   "source": [
    "**Вывод:** \n",
    "\n",
    "1. Процент должников с целью недвижимость: 7.2%\n",
    "2. Процент должников с целью авто: 9.3%\n",
    "3. Процент холостых с целью образование: 9.3%\n",
    "4. Процент должников с целью свадьба: 7.9%\n",
    "\n",
    "* Исходя из данных наибольшая группа клиентов находится среди получателей кредита на квартиру, данная группа имеет наименьший процент должников. Вероятно это связано с тем, что при ипотеке имущество находится в залоге у банка и терять клиентам его не хочется\n",
    "\n",
    "\n",
    "* Должников по кредиту на образование и авто примерно равное количество, также и равен процент невозврата кредита на данные цели - 9.3%. \n",
    "\n",
    "1. Причиной невыплат кредита за учебу может стать финансовое положение студентов, которые работают на низкооплачиваемой или нерегулярной работе, в связи с чем часто допускают проссрочи, а также выпускников, которые только выпустились и находятся в поиске новой работы или только на нее устроились. \n",
    "2. Среди автолюбителей дополнительно стоило бы оценить возраст автомобиля и его категорию, возможно, машины большинства просрочников слишком старые и они тратят все деньги на их починку.\n",
    "* Количество клиентов, которые брали кредит на свадьбу меньше всего, они находятся в середине по невыплатам, возможно это связано с тем, что свадьба у клиента не окупилась и платить за кредит им теперь нечем"
   ]
  },
  {
   "cell_type": "markdown",
   "id": "71e33181-6bfb-4087-9322-df6f75ccb299",
   "metadata": {},
   "source": [
    "## Общий вывод."
   ]
  },
  {
   "cell_type": "markdown",
   "id": "eddae9ae-ca6c-404b-95a7-1bd6149ae3c2",
   "metadata": {},
   "source": [
    "Для анализа мы получили таблицу заемщиков банка. Проверили ее на пустые значения и дубликаты, обработали аномальные значения, и превели значения к читаемому виду, сделали категоризацию.\n",
    "\n",
    "Далее мы проанализировали различные группы клиентов банка на предмет неоплаты долга, выявили отдельные зависимости в этих группах.\n",
    "\n",
    "Мы узнали, что самые большие группы должников в своих категориях:\n",
    "* Клиенты с четырьмя детьми\n",
    "* Холостые клиенты\n",
    "* Клиенты c доходом от 200 001 до 1 000 000\n",
    "* Клиенты которые взяли кредит на автомобиль и образование\n",
    "\n",
    "Также мы пришли к выводу, что:\n",
    "\n",
    "* *Процент должников растет в соответствии с ростом количества детей*\n",
    "\n",
    "* *Семейное положение непосредственно влияет на возврат долга*\n",
    "\n",
    "* Самые богатые клиенты допускают меньше всего просрочек\n",
    "\n",
    "* *Доход  влияет на процент просрочек, самый большой процент просрочек у \"среднего класса\"* \n",
    "\n",
    "* *Клиенты с кредитом на недвижемость допускают меньше всего просрочек*\n",
    "\n",
    "Мы смогли определить портреты хорошоего и плохого клиента:\n",
    "\n",
    "* Хороший клиент: Должен состоять или должен был состоять в официальном браке, не имеет детей, обладает высоким доходом, планирующий приобрести недвижимость \n",
    "\n",
    "* Плохой клиент: Не состоит в отношениях, имеет несколько детей, имеет средний доход и хочет приобрести автомобиль\n",
    "\n",
    "Рекомендации по сбору данных для улучшения скоринга:\n",
    "\n",
    "* Стоит пересмотреть некоторые группы клиентов, например, некоторые отдельные категории людей с детьми объединить, создать категорию 'многодетные' и объединить в ней всех клиентов у кого более одного или двух детей. \n",
    "* Также можно пересмотреть категории распределния по доходам, пример того, как это можно сделать находится в отчете.\n",
    "* Еще можно создать группы не по отдельным параметрам, а по их набору, например: 'Семейные, с детьми и средним доходом', 'Холостые, с детьми и с высоким доходом'. \n",
    "* Стоит учитывать крединтную историю клиента из других банков"
   ]
  }
 ],
 "metadata": {
  "kernelspec": {
   "display_name": "Python 3 (ipykernel)",
   "language": "python",
   "name": "python3"
  },
  "language_info": {
   "codemirror_mode": {
    "name": "ipython",
    "version": 3
   },
   "file_extension": ".py",
   "mimetype": "text/x-python",
   "name": "python",
   "nbconvert_exporter": "python",
   "pygments_lexer": "ipython3",
   "version": "3.12.4"
  }
 },
 "nbformat": 4,
 "nbformat_minor": 5
}
